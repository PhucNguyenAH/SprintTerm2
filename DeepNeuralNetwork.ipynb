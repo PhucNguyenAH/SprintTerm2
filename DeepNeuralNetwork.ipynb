{
 "cells": [
  {
   "cell_type": "markdown",
   "metadata": {},
   "source": [
    "# Deep neural network\n",
    "## Name: Nguyen Anh Hoang Phuc"
   ]
  },
  {
   "cell_type": "markdown",
   "metadata": {},
   "source": [
    "Classifying layers, etc.\n",
    "\n",
    "By putting them in a class, we will make the implementation easy to change the configuration.\n",
    "\n",
    "Places to modify\n",
    "\n",
    "    Number of layers\n",
    "    Layer type (other types of layers such as convolutional layers will appear in the future)\n",
    "    Types of activation functions\n",
    "    Weight and bias initialization method\n",
    "    Optimization method\n",
    "\n",
    "\n",
    "To do this, we create classes for all the coupling layers, for the various activation functions, for the initialisation of weights and biases, and for each of the optimisation methods.\n",
    "\n",
    "You can implement it freely, but here is a simple example. Create an instance of the fully connected layer and activation function as in sample code 1, and use it as in sample code 2 and 3. Each class will be explained later."
   ]
  },
  {
   "cell_type": "code",
   "execution_count": 1,
   "metadata": {},
   "outputs": [],
   "source": [
    "import numpy as np \n",
    "import matplotlib.pyplot as plt"
   ]
  },
  {
   "cell_type": "code",
   "execution_count": 2,
   "metadata": {},
   "outputs": [],
   "source": [
    "# Evaluation index\n",
    "from sklearn.metrics import accuracy_score\n",
    "from sklearn.metrics import precision_score\n",
    "from sklearn.metrics import recall_score\n",
    "from sklearn.metrics import f1_score"
   ]
  },
  {
   "cell_type": "code",
   "execution_count": 3,
   "metadata": {},
   "outputs": [],
   "source": [
    "# Download the dataset\n",
    "from keras.datasets import mnist\n",
    "(X, y), (X_test, y_test) = mnist.load_data()"
   ]
  },
  {
   "cell_type": "code",
   "execution_count": 4,
   "metadata": {},
   "outputs": [
    {
     "name": "stdout",
     "output_type": "stream",
     "text": [
      "(60000, 28, 28)\n",
      "(10000, 28, 28)\n",
      "uint8\n"
     ]
    }
   ],
   "source": [
    "# Check the data\n",
    "print(X.shape)      # (60000, 28, 28)\n",
    "print(X_test.shape) # (10000, 28, 28)\n",
    "print(X[0].dtype)   # uint8"
   ]
  },
  {
   "cell_type": "code",
   "execution_count": 5,
   "metadata": {},
   "outputs": [
    {
     "name": "stdout",
     "output_type": "stream",
     "text": [
      "(60000, 784)\n",
      "(10000, 784)\n"
     ]
    }
   ],
   "source": [
    "# Smoothing\n",
    "X_flat = X.reshape(-1, 784)\n",
    "X_test_flat = X_test.reshape(-1, 784)\n",
    "print(X_flat.shape)\n",
    "print(X_test_flat.shape)"
   ]
  },
  {
   "cell_type": "code",
   "execution_count": 6,
   "metadata": {},
   "outputs": [
    {
     "name": "stdout",
     "output_type": "stream",
     "text": [
      "1.0\n",
      "0.0\n"
     ]
    }
   ],
   "source": [
    "# Type conversion, normalization\n",
    "X_flat = X_flat.astype(np.float)\n",
    "X_test_flat = X_test_flat.astype(np.float)\n",
    "X_flat /= 255\n",
    "X_test_flat /= 255\n",
    "print(X_flat.max()) # 1.0\n",
    "print(X_flat.min()) # 0.0"
   ]
  },
  {
   "cell_type": "code",
   "execution_count": 7,
   "metadata": {},
   "outputs": [
    {
     "name": "stdout",
     "output_type": "stream",
     "text": [
      "(60000,)\n",
      "(60000, 10)\n",
      "float64\n"
     ]
    }
   ],
   "source": [
    "# One-hot encoding of correct label value\n",
    "from sklearn.preprocessing import OneHotEncoder\n",
    "\n",
    "enc = OneHotEncoder(handle_unknown='ignore', sparse=False)\n",
    "y_one_hot = enc.fit_transform(y[:, np.newaxis])\n",
    "y_test_one_hot = enc.transform(y_test[:, np.newaxis])\n",
    "print(y.shape) # (60000,)\n",
    "print(y_one_hot.shape) # (60000, 10)\n",
    "print(y_one_hot.dtype) # float64\n"
   ]
  },
  {
   "cell_type": "code",
   "execution_count": 8,
   "metadata": {},
   "outputs": [
    {
     "name": "stdout",
     "output_type": "stream",
     "text": [
      "(48000, 784)\n",
      "(12000, 784)\n",
      "(48000, 10)\n",
      "(12000, 10)\n"
     ]
    }
   ],
   "source": [
    "# Split into training data and validation data\n",
    "from sklearn.model_selection import train_test_split\n",
    "\n",
    "X_train, X_valid, y_train, y_valid = train_test_split(X_flat, y_one_hot, test_size=0.2)\n",
    "print(X_train.shape)\n",
    "print(X_valid.shape)\n",
    "print(y_train.shape)\n",
    "print(y_valid.shape)"
   ]
  },
  {
   "cell_type": "code",
   "execution_count": 9,
   "metadata": {},
   "outputs": [],
   "source": [
    "# Scratch Deep Neural Network (for now, 3 layer NN)\n",
    "class ScratchSimpleNeuralNetrowkClassifier():\n",
    "    \"\"\"\n",
    "    Simple three-layer neural network classifier\n",
    "    Parameters\n",
    "    ----------\n",
    "    Attributes\n",
    "    ----------\n",
    "    \"\"\"\n",
    "    def __init__(self, n_features, n_nodes1, n_nodes2, n_output, sigma, n_epoch, n_batch, lr, verbose = False):\n",
    "        self.n_epoch = n_epoch\n",
    "        self.n_features = n_features\n",
    "        self.n_nodes1 = n_nodes1\n",
    "        self.n_nodes2 = n_nodes2\n",
    "        self.n_output = n_output\n",
    "        self.sigma = sigma\n",
    "        self.n_batch = n_batch\n",
    "        self.lr = lr\n",
    "        self.verbose = verbose\n",
    "        self.log_loss = np.zeros(self.n_epoch)\n",
    "\n",
    "    def loss_function(self,y,yt):\n",
    "        delta = 1e-7\n",
    "        return -np.mean(yt*np.log(y+delta))\n",
    "        \n",
    "    def fit(self, X, y, X_val=False, y_val=False):\n",
    "        \"\"\"\n",
    "        Learn a neural network classifier.\n",
    "        Parameters\n",
    "        ----------\n",
    "        X : The following forms of ndarray, shape (n_samples, n_features)\n",
    "            Features of training data\n",
    "        y : The following form of ndarray, shape (n_samples,)\n",
    "            Correct answer value of training data\n",
    "        X_val : The following forms of ndarray, shape (n_samples, n_features)\n",
    "            Features of verification data\n",
    "        y_val : The following form of ndarray, shape (n_samples,)\n",
    "            Correct value of verification data\n",
    "        \"\"\"\n",
    "        \n",
    "        optimizer1 = AdaGrad(self.lr)\n",
    "        optimizer2 = AdaGrad(self.lr)\n",
    "        optimizer3 = AdaGrad(self.lr)\n",
    "\n",
    "        initializer1 = XavierInitializer()\n",
    "        initializer2 = XavierInitializer()\n",
    "        initializer3 = SimpleInitializer(self.sigma)\n",
    "\n",
    "        self.FC1 = FC(self.n_features, self.n_nodes1, initializer1, optimizer1, Tanh())\n",
    "        self.FC2 = FC(self.n_nodes1, self.n_nodes2, initializer2, optimizer2, Tanh())\n",
    "        self.FC3 = FC(self.n_nodes2, self.n_output, initializer3, optimizer3, Softmax())\n",
    "\n",
    "        for epoch in range(self.n_epoch):\n",
    "            # Mini-batch processing\n",
    "            get_mini_batch = GetMiniBatch(X, y, batch_size=self.n_batch)\n",
    "\n",
    "            self.loss = 0\n",
    "\n",
    "            for mini_X_train, mini_y_train in get_mini_batch:\n",
    "\n",
    "                # Forward propagation\n",
    "                self.Z1 = self.FC1.forward(mini_X_train)\n",
    "                self.Z2 = self.FC2.forward(self.Z1)\n",
    "                self.Z3 = self.FC3.forward(self.Z2)\n",
    "\n",
    "                # Back propagation \n",
    "                self.dA3 = (self.Z3 - mini_y_train)/self.n_batch\n",
    "                self.dZ2 = self.FC3.backward(self.dA3)\n",
    "                self.dZ1 = self.FC2.backward(self.dZ2)\n",
    "                self.dZ0 = self.FC1.backward(self.dZ1) \n",
    "\n",
    "                # Loss function\n",
    "                self.loss += self.loss_function(self.Z3, mini_y_train)\n",
    "\n",
    "            # Record the loss function for each epoch\n",
    "            self.log_loss[epoch] = self.loss/len(get_mini_batch)\n",
    "\n",
    "            # When verbose is set to true, output the learning process and other information\n",
    "            if self.verbose:\n",
    "                print(\"epoch:{:>3} loss:{:>8,.3f}\".format(epoch, self.loss/self.n_batch))\n",
    "\n",
    "    def predict(self, X):\n",
    "        \"\"\"\n",
    "        Estimate using a neural network classifier.\n",
    "        Parameters\n",
    "        ----------\n",
    "        X : The following forms of ndarray, shape (n_samples, n_features)\n",
    "            sample\n",
    "        Returns\n",
    "        -------\n",
    "            The following form of ndarray, shape (n_samples, 1)\n",
    "            Estimated result\n",
    "        \"\"\"\n",
    "        pred_Z1 = self.FC1.forward(X)\n",
    "        pred_Z2 = self.FC2.forward(pred_Z1)\n",
    "\n",
    "        return np.argmax(self.FC3.forward(pred_Z2), axis=1)\n"
   ]
  },
  {
   "cell_type": "code",
   "execution_count": 10,
   "metadata": {},
   "outputs": [],
   "source": [
    "class GetMiniBatch:\n",
    "    \"\"\"\n",
    "Iterator to get a mini-batch\n",
    "    Parameters\n",
    "    ----------\n",
    "    X : The following forms of ndarray, shape (n_samples, n_features)\n",
    "      Training data \n",
    "    y : The following form of ndarray, shape (n_samples, 1)\n",
    "      Correct answer value\n",
    "    batch_size : int\n",
    "      Batch size\n",
    "    seed : int\n",
    "      NumPy random number seed\n",
    "    \"\"\"\n",
    "    def __init__(self, X, y, batch_size = 20, seed=0):\n",
    "        self.batch_size = batch_size\n",
    "        np.random.seed(seed)\n",
    "        shuffle_index = np.random.permutation(np.arange(X.shape[0]))\n",
    "        self._X = X[shuffle_index]\n",
    "        self._y = y[shuffle_index]\n",
    "        self._stop = np.ceil(X.shape[0]/self.batch_size).astype(np.int)\n",
    "\n",
    "    def __len__(self):\n",
    "        return self._stop\n",
    "\n",
    "    def __getitem__(self,item):\n",
    "        p0 = item*self.batch_size\n",
    "        p1 = item*self.batch_size + self.batch_size\n",
    "        return self._X[p0:p1], self._y[p0:p1]  \n",
    "\n",
    "    def __iter__(self):\n",
    "        self._counter = 0\n",
    "        return self\n",
    "        \n",
    "    def __next__(self):\n",
    "        if self._counter >= self._stop:\n",
    "            raise StopIteration()\n",
    "        p0 = self._counter*self.batch_size\n",
    "        p1 = self._counter*self.batch_size + self.batch_size\n",
    "        self._counter += 1\n",
    "        return self._X[p0:p1], self._y[p0:p1]"
   ]
  },
  {
   "cell_type": "markdown",
   "metadata": {},
   "source": [
    "## Problem 1 Classifying fully connected layers\n",
    "\n",
    "Please classify the fully connected layer.\n",
    "\n",
    "Below is a template. Initialize weights and bias in the constructor, and prepare forward and backward methods. By holding the weight W, the bias B, and the forward input X as instance variables, complicated input/output becomes unnecessary.\n",
    "\n",
    "You can also pass an instance as an argument. Therefore, if you receive the instance initializer of the initialization method in the constructor, it will be initialized. You can change the initialization method by changing the instance to be passed.\n",
    "\n",
    "You can also pass your self as an argument. You can use this to update the layer weights like self.optimizer.update(self) There are multiple values required for the update, but all can be instance variables of the fully connected layer.\n",
    "\n",
    "The initialization method and the class of optimization methods are described later."
   ]
  },
  {
   "cell_type": "code",
   "execution_count": 11,
   "metadata": {},
   "outputs": [],
   "source": [
    "class FC:\n",
    "    \"\"\"\n",
    "    Number of nodes Fully connected layer from n_nodes1 to n_nodes2\n",
    "    Parameters\n",
    "    ----------\n",
    "    n_nodes1 : int\n",
    "      Number of nodes in the previous layer\n",
    "    n_nodes2 : int\n",
    "      Number of nodes in the later layer\n",
    "    initializer: instance of initialization method\n",
    "    optimizer: instance of optimization method\n",
    "    \"\"\"\n",
    "    def __init__(self, n_nodes1, n_nodes2, initializer, optimizer, activation):\n",
    "        self.n_nodes1 = n_nodes1\n",
    "        self.n_nodes2 = n_nodes2\n",
    "        self.initializer = initializer\n",
    "        self.optimizer = optimizer\n",
    "        self.activation = activation\n",
    "        # Initialize\n",
    "        # Initialize self.W and self.B using the initializer method\n",
    "        self.W = self.initializer.W(self.n_nodes1,self.n_nodes2)\n",
    "        self.B = self.initializer.B(self.n_nodes2)\n",
    "\n",
    "    def forward(self, X):\n",
    "        \"\"\"\n",
    "        forward\n",
    "        Parameters\n",
    "        ----------\n",
    "        X : The following forms of ndarray, shape (batch_size, n_nodes1)\n",
    "            入力\n",
    "        Returns\n",
    "        ----------\n",
    "        A : The following forms of ndarray, shape (batch_size, n_nodes2)\n",
    "            output\n",
    "        \"\"\"        \n",
    "        self.X = X \n",
    "        self.A = np.dot(self.X, self.W) + self.B\n",
    "\n",
    "        return self.activation.forward(self.A)\n",
    "\n",
    "    def backward(self, dZ):\n",
    "        \"\"\"\n",
    "        Backward\n",
    "        Parameters\n",
    "        ----------\n",
    "        dA : The following forms of ndarray, shape (batch_size, n_nodes2)\n",
    "            Gradient flowing from behind\n",
    "        Returns\n",
    "        ----------\n",
    "        dZ : The following forms of ndarray, shape (batch_size, n_nodes1)\n",
    "            Gradient to flow forward\n",
    "        \"\"\"\n",
    "        dA = self.activation.backward(dZ)\n",
    "        self.dB = np.mean(dA,axis=0)\n",
    "        self.dW = np.dot(self.X.T, dA)/len(self.X)\n",
    "        dZ = np.dot(dA,self.W.T)\n",
    "\n",
    "        # update\n",
    "        self = self.optimizer.update(self)\n",
    "        \n",
    "        return dZ"
   ]
  },
  {
   "cell_type": "markdown",
   "metadata": {},
   "source": [
    "## Problem 2 Classifying the initialization method\n",
    "\n",
    "Classify the initialization code.\n",
    "\n",
    "As mentioned above, we will be able to pass an instance of the initialization method to the constructor of the fully connected layer. Please add the necessary code to the following template. By receiving the standard deviation value (sigma) in the constructor, it is not necessary to pass this value (sigma) in the class of the fully connected layer.\n",
    "\n",
    "The initialization method we have been dealing with so far will be named the SimpleInitializer class."
   ]
  },
  {
   "cell_type": "code",
   "execution_count": 12,
   "metadata": {},
   "outputs": [],
   "source": [
    "class SimpleInitializer:\n",
    "    \"\"\"\n",
    "    Simple initialization with Gaussian distribution\n",
    "    Parameters\n",
    "    ----------\n",
    "    sigma : float\n",
    "      Standard deviation of Gaussian distribution\n",
    "    \"\"\"\n",
    "    def __init__(self, sigma):\n",
    "        self.sigma = sigma\n",
    "\n",
    "    def W(self, n_nodes1, n_nodes2):\n",
    "        \"\"\"\n",
    "        Weight initialization\n",
    "        Parameters\n",
    "        ----------\n",
    "        n_nodes1 : int\n",
    "          Number of nodes in the previous layer\n",
    "        n_nodes2 : int\n",
    "          Number of nodes in the later layer\n",
    "        Returns\n",
    "        ----------\n",
    "        W :\n",
    "        \"\"\"\n",
    "        return self.sigma * np.random.randn(n_nodes1, n_nodes2)\n",
    "\n",
    "    def B(self, n_nodes2):\n",
    "        \"\"\"\n",
    "        Bias initialization\n",
    "        Parameters\n",
    "        ----------\n",
    "        n_nodes2 : int\n",
    "          Number of nodes in the later layer\n",
    "        Returns\n",
    "        ----------\n",
    "        B :\n",
    "        \"\"\"\n",
    "        return np.zeros(n_nodes2)"
   ]
  },
  {
   "cell_type": "markdown",
   "metadata": {},
   "source": [
    "## Problem 3 Classifying optimization methods\n",
    "\n",
    "Please classify the optimization method.\n",
    "\n",
    "With respect to the optimization method, it is passed as an instance to the fully connected layer as well as the initialization method. When backward, we can update it as self.optimizer.update(self). Please add the necessary code to the following template.\n",
    "\n",
    "The optimization methods we have dealt with so far are created as SGD class (Stochastic Gradient Descent)."
   ]
  },
  {
   "cell_type": "code",
   "execution_count": 13,
   "metadata": {},
   "outputs": [],
   "source": [
    "class SGD:\n",
    "    \"\"\"\n",
    "    Stochastic gradient descent\n",
    "    Parameters\n",
    "    ----------\n",
    "    lr : Learning rate\n",
    "    \"\"\"\n",
    "    def __init__(self, lr):\n",
    "        self.lr = lr\n",
    "\n",
    "    def update(self, layer):\n",
    "        \"\"\"\n",
    "        Update weights and biases for a layer\n",
    "        Parameters\n",
    "        ----------\n",
    "        layer : Instance of the layer before update\n",
    "        \"\"\"\n",
    "        layer.W -= self.lr * layer.dW\n",
    "        layer.B -= self.lr * layer.dB \n",
    "        \n",
    "        return layer"
   ]
  },
  {
   "cell_type": "markdown",
   "metadata": {},
   "source": [
    "## Problem 4 Classifying activation functions\n",
    "\n",
    "Please classify the activation function.\n",
    "\n",
    "The backpropagation of the softmax function is simplified by implementing it including the calculation of the cross entropy error.\n",
    "\n",
    "## Evolutionary element\n",
    "\n",
    "We will implement other than the activation functions, initial values of weights, and optimization methods that we have not seen so far."
   ]
  },
  {
   "cell_type": "code",
   "execution_count": 14,
   "metadata": {},
   "outputs": [],
   "source": [
    "class Tanh():\n",
    "    \"\"\"\n",
    "    Activation function: Hyperbolic tangent function\n",
    "    \"\"\"\n",
    "    def __init__(self):\n",
    "        pass \n",
    "\n",
    "    def forward(self,A):\n",
    "        self.A = A \n",
    "        self.Z = np.tanh(self.A)\n",
    "        return self.Z\n",
    "    \n",
    "    def backward(self,dZ):\n",
    "        return dZ*(1-self.Z**2)"
   ]
  },
  {
   "cell_type": "code",
   "execution_count": 15,
   "metadata": {},
   "outputs": [],
   "source": [
    "class Sigmoid():\n",
    "    \"\"\"\n",
    "    Activation function: Sigmoid function\n",
    "    \"\"\"\n",
    "    def __init__(self):\n",
    "        pass \n",
    "\n",
    "    def forward(self,A):\n",
    "        self.A = A \n",
    "        self.Z = 1/(1+np.exp(-self.A))\n",
    "        return self.Z\n",
    "    \n",
    "    def backward(self,dZ):\n",
    "        return dZ*(1-self.Z)*self.Z"
   ]
  },
  {
   "cell_type": "code",
   "execution_count": 16,
   "metadata": {},
   "outputs": [],
   "source": [
    "class Softmax():\n",
    "    \"\"\"\n",
    "    Activation function: Softmax Function\n",
    "    \"\"\"\n",
    "    def __init__(self):\n",
    "        pass \n",
    "\n",
    "    def forward(self,A):\n",
    "        return np.exp(A-np.max(A))/np.sum(np.exp(A-np.max(A)), axis=1, keepdims=True)\n",
    "\n",
    "    def backward(self,dZ):\n",
    "        return dZ"
   ]
  },
  {
   "cell_type": "markdown",
   "metadata": {},
   "source": [
    "## Problem 5 ReLU class creation\n",
    "\n",
    "Please implement ReLU (Rectified Linear Unit) which is a commonly used activation function as ReLU class.\n",
    "\n",
    "ReLU is the following formula.\n",
    "\n",
    "$$\n",
    "f(x) = ReLU(x) = \\begin{cases} x & \\text{if $x>0$,}\\\\ 0 & \\text{if $x\\leqq0$.} \\end{cases}\n",
    "$$\n",
    "\n",
    "$x$: A certain feature amount. scalar\n",
    "\n",
    "In practice, it is possible to usenp.maximumto sum over arrays.\n",
    "\n",
    "numpy.maximum — NumPy v1.15 Manual\n",
    "\n",
    "On the other hand, the derivative of $f(x)$ with respect to $x$ for backpropagation is\n",
    "\n",
    "$$ \\frac{\\partial f(x)}{\\partial x} = \\begin{cases} 1 & \\text{if $x>0$,}\\\\ 0 & \\text{if $x\\leqq0$. } \\end{cases} $$ \n",
    "\n",
    "It is not mathematically differentiable, but it corresponds by setting $0$ when $x=0$.\n",
    "\n",
    "Whether or not $x$ in the forward direction determines whether the gradient is backpropagated or not."
   ]
  },
  {
   "cell_type": "code",
   "execution_count": 17,
   "metadata": {},
   "outputs": [],
   "source": [
    "class ReLU():\n",
    "    \"\"\"\n",
    "    Activation function: ReLU function\n",
    "    \"\"\"\n",
    "    def __init(self):\n",
    "        pass\n",
    "\n",
    "    def forward(self,A):\n",
    "        self.A = A\n",
    "        return np.maximum(self.A,0)\n",
    "\n",
    "    def backward(self, dZ):\n",
    "        return np.where(self.A>0, dZ, 0)"
   ]
  },
  {
   "cell_type": "code",
   "execution_count": 18,
   "metadata": {},
   "outputs": [
    {
     "name": "stdout",
     "output_type": "stream",
     "text": [
      "[ 0  0 -1  9  0]\n"
     ]
    }
   ],
   "source": [
    "a = np.array([-1,0,1,9,-1])\n",
    "b = np.array([1,0,-1,9,-1])\n",
    "\n",
    "print(np.where(a<0,0,b))"
   ]
  },
  {
   "cell_type": "markdown",
   "metadata": {},
   "source": [
    "## Problem 6 Initial value of weight\n",
    "\n",
    "So far, the initial values of weights and bias have been simply Gaussian distributions, and standard deviation has been treated as a hyperparameter. However, it is known what value it should be. For sigmoidal and hyperbolic tangent functions, the initial value of Xavier (or the initial value of Glorot) is used, and for ReLU the initial value of He.\n",
    "\n",
    "Create XavierI nitializer class and HeIn itializer class.\n",
    "\n",
    "## Initial value of Xavier\n",
    "\n",
    "The standard deviation $\\sigma$ at the initial value of Xavier is calculated by the following formula.\n",
    "\n",
    "$$ \\sigma = \\frac{1}{\\sqrt{n}} $$\n",
    "\n",
    "$n$: number of nodes in the previous layer\n",
    "\n",
    "\"paper\"\n",
    "\n",
    "Glorot, X., & Bengio, Y. (nd). Understanding the difficulty of training deep feedforward neural networks.\n",
    "\n",
    "## Initial value of He\n",
    "\n",
    "The standard deviation $\\sigma$ of the initial value of He is calculated by the following formula.\n",
    "\n",
    "$$ \\sigma = \\sqrt{\\frac{2}{n}} $$\n",
    "\n",
    "$n$: number of nodes in the previous layer\n",
    "\n",
    "\"paper\"\n",
    "\n",
    "He, K., Zhang, X., Ren, S., & Sun, J. (2015). Delving Deep into Rectifiers: Surpassing Human-Level Performance on ImageNet Classification."
   ]
  },
  {
   "cell_type": "code",
   "execution_count": 19,
   "metadata": {},
   "outputs": [],
   "source": [
    "class XavierInitializer():\n",
    "    \"\"\"\n",
    "    Initializing weights with Xavier\n",
    "    \"\"\"\n",
    "    def __init__(self):\n",
    "        pass\n",
    "\n",
    "    def W(self, n_nodes1, n_nodes2):\n",
    "        \"\"\"\n",
    "        Initializeing weights\n",
    "        Parameters\n",
    "        -------------\n",
    "        n_nodes1 : int\n",
    "          Number of nodes in the previous layer\n",
    "        n_nodes2 : int\n",
    "          Number of nodes in the subsequent layer\n",
    "        \n",
    "        Returns\n",
    "        ---------\n",
    "        W: weight\n",
    "        \"\"\"\n",
    "        return np.random.randn(n_nodes1, n_nodes2)/np.sqrt(n_nodes1)\n",
    "\n",
    "    def B(self, n_nodes2):\n",
    "        \"\"\"\n",
    "        Bias Initialization\n",
    "        Parameters\n",
    "        -------------\n",
    "        n_nodes2 : int\n",
    "          Number of nodes in the subsequent layer\n",
    "        \n",
    "        Returns\n",
    "        ---------\n",
    "        B: bias\n",
    "        \"\"\"\n",
    "        return np.zeros(n_nodes2)"
   ]
  },
  {
   "cell_type": "code",
   "execution_count": 20,
   "metadata": {},
   "outputs": [],
   "source": [
    "class HeInitializer():\n",
    "    \"\"\"\n",
    "    Initializing weights by He\n",
    "    \"\"\"\n",
    "    def __init__(self):\n",
    "        pass\n",
    "\n",
    "    def W(self, n_nodes1, n_nodes2):\n",
    "        \"\"\"\n",
    "        Initializeing weights\n",
    "        Parameters\n",
    "        -------------\n",
    "        n_nodes1 : int\n",
    "          Number of nodes in the previous layer\n",
    "        n_nodes2 : int\n",
    "          Number of nodes in the subsequent layer\n",
    "        \n",
    "        Returns\n",
    "        ---------\n",
    "        W: weight\n",
    "        \"\"\"\n",
    "        return np.random.randn(n_nodes1, n_nodes2)*np.sqrt(2/n_nodes1)\n",
    "\n",
    "    def B(self, n_nodes2):\n",
    "        \"\"\"\n",
    "        Bias Initialization\n",
    "        Parameters\n",
    "        -------------\n",
    "        n_nodes2 : int\n",
    "          Number of nodes in the subsequent layer\n",
    "        \n",
    "        Returns\n",
    "        ---------\n",
    "        B: bias\n",
    "        \"\"\"\n",
    "        return np.zeros(n_nodes2)"
   ]
  },
  {
   "cell_type": "markdown",
   "metadata": {},
   "source": [
    "## Problem 7 Optimization method\n",
    "\n",
    "The most common method is to vary the learning rate in the learning process. Please create a class of AdaGrad which is the basic method.\n",
    "\n",
    "First, check the SGD you have been using so far.\n",
    "\n",
    "$$ W_i^{\\prime} = W_i-\\alpha E(\\frac{\\partial L}{\\partial W_i}) \\\\ B_i^{\\prime} = B_i-\\alpha E(\\frac{\\partial L} {\\partial B_i}) $$\n",
    "\n",
    "$\\alpha$ : Learning rate (can be different for each layer, but basically all the same)）\n",
    "\n",
    "$\\frac{\\partial L}{\\partial W_i}$ : Gradient of loss $L$ with respect to $W_i$.\n",
    "\n",
    "$\\frac{\\partial L}{\\partial B_i}$ : Gradient of loss $L$ with respect to $B_i$.\n",
    "\n",
    "$E()$: Calculates the vector average in the direction of the mini-batch\n",
    "\n",
    "Next is AdaGrad. The bias formula is omitted, but it does something similar to weighting.\n",
    "\n",
    "The learning rate for the weight is gradually reduced by the updated amount. Save the gradient sum of squares $H$ for each iteration and reduce the learning rate accordingly.\n",
    "\n",
    "The learning rate will be different for each weight.\n",
    "\n",
    "$$ H_i^{\\prime} = H_i+E(\\frac{\\partial L}{\\partial W_i})×E(\\frac{\\partial L}{\\partial W_i})\\\\ W_i^{\\prime} = W_i-\\alpha \\frac{1}{\\sqrt{H_i^{\\prime} }} E(\\frac{\\partial L}{\\partial W_i}) \\\\ $$\n",
    "\n",
    "$H_i$: Sum of squares of the gradient up to the previous iteration for the i-th layer (initial value is 0)\n",
    "\n",
    "$H_i^{\\prime}$: Updated $H_i$\n",
    "\n",
    "\"paper\"\n",
    "\n",
    "Duchi JDUCHI, J., & Singer, Y. (2011). Adaptive Subgradient Methods for Online Learning and Stochastic Optimization * Elad Hazan. Journal of Machine Learning Research (Vol. 12)."
   ]
  },
  {
   "cell_type": "code",
   "execution_count": 21,
   "metadata": {},
   "outputs": [],
   "source": [
    "class AdaGrad:\n",
    "    \"\"\"\n",
    "    Stochastic gradient descent method\n",
    "    Parameters\n",
    "    ------------\n",
    "    lr: learning rate\n",
    "    \"\"\"\n",
    "    def __init__(self, lr):\n",
    "        self.lr = lr \n",
    "        self.hW = 0\n",
    "        self.hB = 0\n",
    "\n",
    "    def update(self, layer):\n",
    "        \"\"\"\n",
    "        Updating the weights and biases of a layer\n",
    "        Parameters\n",
    "        ----------\n",
    "        layer: An instance of the layer before the update\n",
    "        \"\"\"\n",
    "        self.hW += layer.dW*layer.dW\n",
    "        self.hB = layer.dB*layer.dB \n",
    "\n",
    "        layer.W -= self.lr*layer.dW/(np.sqrt(self.hW) + (1e-7))\n",
    "        layer.B -= self.lr*layer.dB/(np.sqrt(self.hB) + (1e-7))\n",
    "\n",
    "        return layer"
   ]
  },
  {
   "cell_type": "markdown",
   "metadata": {},
   "source": [
    "## Problem 8 Class completion\n",
    "\n",
    "Complete the Scratch Deep Neural Netrowk Classifier class that can be trained and estimated with any configuration."
   ]
  },
  {
   "cell_type": "code",
   "execution_count": 22,
   "metadata": {},
   "outputs": [
    {
     "name": "stdout",
     "output_type": "stream",
     "text": [
      "epoch:  0 loss:   0.143\n",
      "epoch:  1 loss:   0.078\n",
      "epoch:  2 loss:   0.061\n",
      "epoch:  3 loss:   0.050\n",
      "epoch:  4 loss:   0.043\n"
     ]
    }
   ],
   "source": [
    "clf = ScratchSimpleNeuralNetrowkClassifier(n_epoch=5, n_features=784, n_nodes1=400, n_nodes2=200, n_output=10, sigma=0.01, n_batch=100, lr=0.01, verbose=True)\n",
    "clf.fit(X_train, y_train)\n",
    "y_pred = clf.predict(X_valid)"
   ]
  },
  {
   "cell_type": "code",
   "execution_count": 23,
   "metadata": {},
   "outputs": [
    {
     "name": "stdout",
     "output_type": "stream",
     "text": [
      "[4 3 7 ... 1 7 4]\n",
      "accuracy: 0.964\n"
     ]
    }
   ],
   "source": [
    "print(y_pred)\n",
    "\n",
    "accuracy = accuracy_score(np.argmax(y_valid, axis=1), y_pred)\n",
    "print(\"accuracy: {:.3f}\".format(accuracy))"
   ]
  },
  {
   "cell_type": "code",
   "execution_count": 24,
   "metadata": {},
   "outputs": [
    {
     "data": {
      "text/plain": [
       "[<matplotlib.lines.Line2D at 0x7f3eac36cdd8>]"
      ]
     },
     "execution_count": 24,
     "metadata": {},
     "output_type": "execute_result"
    },
    {
     "data": {
      "image/png": "[encoded data removed]",
      "text/plain": [
       "<Figure size 864x576 with 1 Axes>"
      ]
     },
     "metadata": {
      "needs_background": "light"
     },
     "output_type": "display_data"
    }
   ],
   "source": [
    "# Visualize the loss function for each epoch\n",
    "fig = plt.subplots(figsize=(12,8))\n",
    "plt.rcParams[\"font.size\"] = 20\n",
    "\n",
    "plt.title(\"LOSS\")\n",
    "plt.plot(clf.log_loss, 'rs--')"
   ]
  },
  {
   "cell_type": "markdown",
   "metadata": {},
   "source": [
    "## Problem 9 Learning and estimation\n",
    "\n",
    "Create several networks with varying numbers of layers and activation functions. Then, train and estimate the MNIST data and calculate the Accuracy."
   ]
  },
  {
   "cell_type": "code",
   "execution_count": 25,
   "metadata": {},
   "outputs": [],
   "source": [
    "# Scratch Deep Neural Network (if you can do it in any layer)\n",
    "class ScratchDNNClassifier():\n",
    "    \"\"\"\n",
    "    N Layer neural Network classifier\n",
    "    Parameters\n",
    "    ----------\n",
    "    self.n_epoch : epoch number\n",
    "    self.n_batch : Number of batches\n",
    "    self.verbose : Visualizing the learning process\n",
    "    Attributes\n",
    "    ----------\n",
    "    \"\"\"\n",
    "    def __init__(self, NN, n_epoch, n_batch, verbose = False):\n",
    "        # Parameters\n",
    "        self.n_epoch = n_epoch\n",
    "        self.n_batch = n_batch\n",
    "        self.verbose = verbose\n",
    "        self.log_loss = np.zeros(self.n_epoch)\n",
    "        self.log_acc = np.zeros(self.n_epoch)\n",
    "        self.NN = NN\n",
    "\n",
    "    def loss_function(self,y,yt):\n",
    "        delta = 1e-7\n",
    "        return -np.mean(yt*np.log(y+delta))\n",
    "        \n",
    "    def accuracy(self, Z, Y):\n",
    "        return accuracy_score(Y, Z)\n",
    "\n",
    "    def fit(self, X, y, X_val=False, y_val=False):\n",
    "        \"\"\"\n",
    "        Learn a neural network classifier.\n",
    "        Parameters\n",
    "        ----------\n",
    "        X : The following forms of ndarray, shape (n_samples, n_features)\n",
    "            Features of training data\n",
    "        y : The following form of ndarray, shape (n_samples,)\n",
    "            Correct answer value of training data\n",
    "        X_val : The following forms of ndarray, shape (n_samples, n_features)\n",
    "            Features of verification data\n",
    "        y_val : The following form of ndarray, shape (n_samples,)\n",
    "            Correct value of verification data\n",
    "        \"\"\"\n",
    "        for epoch in range(self.n_epoch):\n",
    "            # Mini-batch processing\n",
    "            get_mini_batch = GetMiniBatch(X, y, batch_size=self.n_batch)\n",
    "\n",
    "            self.loss = 0\n",
    "\n",
    "            for mini_X_train, mini_y_train in get_mini_batch:\n",
    "\n",
    "                # Forward propagation\n",
    "                forward_data = mini_X_train\n",
    "                for layer in range(len(self.NN)):\n",
    "                    forward_data = self.NN[layer].forward(forward_data)\n",
    "                # Predicted value\n",
    "                Z = forward_data \n",
    "\n",
    "                # Back propagation \n",
    "                backward_data = (Z - mini_y_train)/self.n_batch\n",
    "                for layer in range(len(self.NN)-1, -1, -1):\n",
    "                    backward_data = self.NN[layer].backward(backward_data)\n",
    "\n",
    "                # Loss function\n",
    "                self.loss += self.loss_function(Z, mini_y_train)\n",
    "\n",
    "            # Record the loss function for each epoch\n",
    "            self.log_loss[epoch] = self.loss/len(get_mini_batch)\n",
    "            self.log_acc[epoch] = self.accuracy(self.predict(X), np.argmax(y, axis=1))\n",
    "\n",
    "            # When verbose is set to true, output the learning process and other information\n",
    "            if self.verbose:\n",
    "                print(\"epoch:{:>3} loss:{:>8,.3f}\".format(epoch, self.loss/self.n_batch))\n",
    "\n",
    "    def predict(self, X):\n",
    "        \"\"\"\n",
    "        Estimate using a neural network classifier.\n",
    "        Parameters\n",
    "        ----------\n",
    "        X : The following forms of ndarray, shape (n_samples, n_features)\n",
    "            sample\n",
    "        Returns\n",
    "        -------\n",
    "            The following form of ndarray, shape (n_samples, 1)\n",
    "            Estimated result\n",
    "        \"\"\"\n",
    "        pred_data = X\n",
    "\n",
    "        for layer in range(len(self.NN)):\n",
    "            pred_data = self.NN[layer].forward(pred_data)\n",
    "\n",
    "        return np.argmax(pred_data, axis=1)\n"
   ]
  },
  {
   "cell_type": "markdown",
   "metadata": {},
   "source": [
    "## Verification 1\n",
    "- 3 layers (784 -> 400 -> 200 -> 10)\n",
    "- Activation function for layer 1: ReLU function\n",
    "- Activation function for layer 2: ReLU function\n",
    "- Activation function for 3 layers: Softmax function\\\n",
    "- Optimization method: AdaGrad"
   ]
  },
  {
   "cell_type": "code",
   "execution_count": 26,
   "metadata": {},
   "outputs": [],
   "source": [
    "NN2 = {0: FC(784, 400, HeInitializer(), AdaGrad(0.01), ReLU()),\n",
    "       1: FC(400, 200, HeInitializer(), AdaGrad(0.01), ReLU()),\n",
    "       2: FC(200, 10, SimpleInitializer(0.01), AdaGrad(0.01), Softmax())}"
   ]
  },
  {
   "cell_type": "code",
   "execution_count": 27,
   "metadata": {},
   "outputs": [
    {
     "name": "stdout",
     "output_type": "stream",
     "text": [
      "epoch:  0 loss:   2.525\n",
      "epoch:  1 loss:   1.266\n",
      "epoch:  2 loss:   1.000\n",
      "epoch:  3 loss:   0.853\n",
      "epoch:  4 loss:   0.745\n",
      "epoch:  5 loss:   0.650\n",
      "epoch:  6 loss:   0.581\n",
      "epoch:  7 loss:   0.524\n",
      "epoch:  8 loss:   0.483\n",
      "epoch:  9 loss:   0.445\n",
      "epoch: 10 loss:   0.418\n",
      "epoch: 11 loss:   0.394\n",
      "epoch: 12 loss:   0.371\n",
      "epoch: 13 loss:   0.371\n",
      "epoch: 14 loss:   0.347\n",
      "epoch: 15 loss:   0.331\n",
      "epoch: 16 loss:   0.311\n",
      "epoch: 17 loss:   0.305\n",
      "epoch: 18 loss:   0.327\n",
      "epoch: 19 loss:   0.333\n",
      "epoch: 20 loss:   0.319\n",
      "epoch: 21 loss:   0.310\n",
      "epoch: 22 loss:   0.279\n",
      "epoch: 23 loss:   0.248\n",
      "epoch: 24 loss:   0.213\n",
      "epoch: 25 loss:   0.200\n",
      "epoch: 26 loss:   0.197\n",
      "epoch: 27 loss:   0.173\n",
      "epoch: 28 loss:   0.194\n",
      "epoch: 29 loss:   0.162\n"
     ]
    }
   ],
   "source": [
    "clf2 = ScratchDNNClassifier(NN=NN2, n_epoch=30, n_batch=20, verbose=True)\n",
    "clf2.fit(X_train, y_train)\n",
    "y_pred2 = clf2.predict(X_valid)"
   ]
  },
  {
   "cell_type": "code",
   "execution_count": 28,
   "metadata": {},
   "outputs": [
    {
     "name": "stdout",
     "output_type": "stream",
     "text": [
      "[4 3 7 ... 1 7 4]\n",
      "accuracy: 0.972\n"
     ]
    }
   ],
   "source": [
    "print(y_pred2)\n",
    "\n",
    "accuracy = accuracy_score(np.argmax(y_valid, axis=1), y_pred2)\n",
    "print(\"accuracy: {:.3f}\".format(accuracy))"
   ]
  },
  {
   "cell_type": "code",
   "execution_count": 29,
   "metadata": {},
   "outputs": [
    {
     "data": {
      "text/plain": [
       "[<matplotlib.lines.Line2D at 0x7f3eac1daf28>]"
      ]
     },
     "execution_count": 29,
     "metadata": {},
     "output_type": "execute_result"
    },
    {
     "data": {
      "image/png": "[encoded data removed]",
      "text/plain": [
       "<Figure size 1152x432 with 2 Axes>"
      ]
     },
     "metadata": {
      "needs_background": "light"
     },
     "output_type": "display_data"
    }
   ],
   "source": [
    "# Visualize the loss function for each epoch\n",
    "plt.rcParams[\"font.size\"] = 20\n",
    "fig = plt.subplots(figsize=(16,6))\n",
    "plt.subplot(1,2,1)\n",
    "plt.title(\"LOSS\")\n",
    "plt.plot(clf2.log_loss, 'bo--')\n",
    "\n",
    "plt.subplot(1,2,2)\n",
    "plt.title(\"ACC\")\n",
    "plt.plot(clf2.log_acc, 'rs--')"
   ]
  },
  {
   "cell_type": "markdown",
   "metadata": {},
   "source": [
    "## Search 2\n",
    "- 4 layers (784 -> 400 -> 600 -> 300 -> 10)\n",
    "- layer 1: ReLU\n",
    "- layer 2: ReLU\n",
    "- layer 3: ReLU \n",
    "- layer 4: Softmax \n",
    "- Optimization method: AdaGrad"
   ]
  },
  {
   "cell_type": "code",
   "execution_count": 30,
   "metadata": {},
   "outputs": [],
   "source": [
    "NN3 = {0: FC(784, 400, HeInitializer(), AdaGrad(0.01), ReLU()),\n",
    "       1: FC(400, 600, HeInitializer(), AdaGrad(0.01), ReLU()),\n",
    "       2: FC(600, 300, HeInitializer(), AdaGrad(0.01), ReLU()),\n",
    "       3: FC(300, 10, SimpleInitializer(0.01), AdaGrad(0.01), Softmax())}"
   ]
  },
  {
   "cell_type": "code",
   "execution_count": 31,
   "metadata": {},
   "outputs": [
    {
     "name": "stdout",
     "output_type": "stream",
     "text": [
      "epoch:  0 loss:   2.387\n",
      "epoch:  1 loss:   1.043\n",
      "epoch:  2 loss:   0.763\n",
      "epoch:  3 loss:   0.597\n",
      "epoch:  4 loss:   0.507\n",
      "epoch:  5 loss:   0.458\n",
      "epoch:  6 loss:   0.422\n",
      "epoch:  7 loss:   0.387\n",
      "epoch:  8 loss:   0.395\n",
      "epoch:  9 loss:   0.382\n",
      "epoch: 10 loss:   0.299\n",
      "epoch: 11 loss:   0.301\n",
      "epoch: 12 loss:   0.331\n",
      "epoch: 13 loss:   0.269\n",
      "epoch: 14 loss:   0.227\n",
      "epoch: 15 loss:   0.205\n",
      "epoch: 16 loss:   0.157\n",
      "epoch: 17 loss:   0.192\n",
      "epoch: 18 loss:   0.228\n",
      "epoch: 19 loss:   0.212\n",
      "epoch: 20 loss:   0.210\n",
      "epoch: 21 loss:   0.256\n",
      "epoch: 22 loss:   0.165\n",
      "epoch: 23 loss:   0.177\n",
      "epoch: 24 loss:   0.254\n",
      "epoch: 25 loss:   0.155\n",
      "epoch: 26 loss:   0.231\n",
      "epoch: 27 loss:   0.083\n",
      "epoch: 28 loss:   0.100\n",
      "epoch: 29 loss:   0.125\n"
     ]
    }
   ],
   "source": [
    "clf3 = ScratchDNNClassifier(NN=NN3, n_epoch=30, n_batch=20, verbose=True)\n",
    "clf3.fit(X_train, y_train)\n",
    "y_pred3 = clf3.predict(X_valid)"
   ]
  },
  {
   "cell_type": "code",
   "execution_count": 32,
   "metadata": {},
   "outputs": [
    {
     "name": "stdout",
     "output_type": "stream",
     "text": [
      "[4 3 7 ... 1 7 4]\n",
      "accuracy: 0.972\n"
     ]
    }
   ],
   "source": [
    "print(y_pred3)\n",
    "\n",
    "accuracy = accuracy_score(np.argmax(y_valid, axis=1), y_pred3)\n",
    "print(\"accuracy: {:.3f}\".format(accuracy))"
   ]
  },
  {
   "cell_type": "code",
   "execution_count": 33,
   "metadata": {},
   "outputs": [
    {
     "data": {
      "text/plain": [
       "[<matplotlib.lines.Line2D at 0x7f3eac0cfc18>]"
      ]
     },
     "execution_count": 33,
     "metadata": {},
     "output_type": "execute_result"
    },
    {
     "data": {
      "image/png": "[encoded data removed]",
      "text/plain": [
       "<Figure size 1152x432 with 2 Axes>"
      ]
     },
     "metadata": {
      "needs_background": "light"
     },
     "output_type": "display_data"
    }
   ],
   "source": [
    "# Visualize the loss function for each epoch\n",
    "plt.rcParams[\"font.size\"] = 20\n",
    "fig = plt.subplots(figsize=(16,6))\n",
    "plt.subplot(1,2,1)\n",
    "plt.title(\"LOSS\")\n",
    "plt.plot(clf3.log_loss, 'bo--')\n",
    "\n",
    "plt.subplot(1,2,2)\n",
    "plt.title(\"ACC\")\n",
    "plt.plot(clf3.log_acc, 'rs--')\n"
   ]
  },
  {
   "cell_type": "markdown",
   "metadata": {},
   "source": [
    "## Search 3\n",
    "- 5 layers (784, 400, 300, 200, 100, 10)\n",
    "- layer 1: Tanh\n",
    "- layer 2: Sigmoid\n",
    "- layer 3: ReLU \n",
    "- layer 4: ReLU\n",
    "- layer 5: Softmax \n",
    "- Optimization method: AdaGrad"
   ]
  },
  {
   "cell_type": "code",
   "execution_count": 34,
   "metadata": {},
   "outputs": [],
   "source": [
    "NN4 = {0: FC(784, 400, HeInitializer(), AdaGrad(0.01), Tanh()),\n",
    "       1: FC(400, 300, HeInitializer(), AdaGrad(0.01), Sigmoid()),\n",
    "       2: FC(300, 200, HeInitializer(), AdaGrad(0.01), ReLU()),\n",
    "       3: FC(200, 100, HeInitializer(), AdaGrad(0.01), ReLU()),\n",
    "       4: FC(100, 10, SimpleInitializer(0.01), AdaGrad(0.01), Softmax())}"
   ]
  },
  {
   "cell_type": "code",
   "execution_count": 35,
   "metadata": {},
   "outputs": [
    {
     "name": "stdout",
     "output_type": "stream",
     "text": [
      "epoch:  0 loss:   3.550\n",
      "epoch:  1 loss:   1.713\n",
      "epoch:  2 loss:   1.330\n",
      "epoch:  3 loss:   1.115\n",
      "epoch:  4 loss:   0.965\n",
      "epoch:  5 loss:   0.852\n",
      "epoch:  6 loss:   0.771\n",
      "epoch:  7 loss:   0.715\n",
      "epoch:  8 loss:   0.679\n",
      "epoch:  9 loss:   0.653\n",
      "epoch: 10 loss:   0.648\n",
      "epoch: 11 loss:   0.635\n",
      "epoch: 12 loss:   0.614\n",
      "epoch: 13 loss:   0.603\n",
      "epoch: 14 loss:   0.564\n",
      "epoch: 15 loss:   0.508\n",
      "epoch: 16 loss:   0.470\n",
      "epoch: 17 loss:   0.447\n",
      "epoch: 18 loss:   0.399\n",
      "epoch: 19 loss:   0.355\n",
      "epoch: 20 loss:   0.328\n",
      "epoch: 21 loss:   0.319\n",
      "epoch: 22 loss:   0.321\n",
      "epoch: 23 loss:   0.288\n",
      "epoch: 24 loss:   0.261\n",
      "epoch: 25 loss:   0.254\n",
      "epoch: 26 loss:   0.215\n",
      "epoch: 27 loss:   0.200\n",
      "epoch: 28 loss:   0.185\n",
      "epoch: 29 loss:   0.170\n"
     ]
    }
   ],
   "source": [
    "clf4 = ScratchDNNClassifier(NN=NN4, n_epoch=30, n_batch=20, verbose=True)\n",
    "clf4.fit(X_train, y_train)\n",
    "y_pred4 = clf4.predict(X_valid)"
   ]
  },
  {
   "cell_type": "code",
   "execution_count": 36,
   "metadata": {},
   "outputs": [
    {
     "name": "stdout",
     "output_type": "stream",
     "text": [
      "[4 3 7 ... 1 7 4]\n",
      "accuracy: 0.971\n"
     ]
    }
   ],
   "source": [
    "print(y_pred4)\n",
    "\n",
    "accuracy = accuracy_score(np.argmax(y_valid, axis=1), y_pred4)\n",
    "print(\"accuracy: {:.3f}\".format(accuracy))"
   ]
  },
  {
   "cell_type": "code",
   "execution_count": 37,
   "metadata": {},
   "outputs": [
    {
     "data": {
      "text/plain": [
       "[<matplotlib.lines.Line2D at 0x7f3ea3fb74e0>]"
      ]
     },
     "execution_count": 37,
     "metadata": {},
     "output_type": "execute_result"
    },
    {
     "data": {
      "image/png": "[encoded data removed]",
      "text/plain": [
       "<Figure size 1152x432 with 2 Axes>"
      ]
     },
     "metadata": {
      "needs_background": "light"
     },
     "output_type": "display_data"
    }
   ],
   "source": [
    "# Visualize the loss function for each epoch\n",
    "plt.rcParams[\"font.size\"] = 20\n",
    "fig = plt.subplots(figsize=(16,6))\n",
    "plt.subplot(1,2,1)\n",
    "plt.title(\"LOSS\")\n",
    "plt.plot(clf4.log_loss, 'bo--')\n",
    "\n",
    "plt.subplot(1,2,2)\n",
    "plt.title(\"ACC\")\n",
    "plt.plot(clf4.log_acc, 'rs--')\n"
   ]
  },
  {
   "cell_type": "markdown",
   "metadata": {},
   "source": [
    "## Verification 4"
   ]
  },
  {
   "cell_type": "code",
   "execution_count": 38,
   "metadata": {},
   "outputs": [],
   "source": [
    "NN5 = {0: FC(784, 400, HeInitializer(), AdaGrad(0.01), Tanh()),\n",
    "       1: FC(400, 300, HeInitializer(), AdaGrad(0.01), ReLU()),\n",
    "       2: FC(300, 200, HeInitializer(), AdaGrad(0.01), ReLU()),\n",
    "       3: FC(200, 100, HeInitializer(), AdaGrad(0.01), ReLU()),\n",
    "       4: FC(100, 10, SimpleInitializer(0.01), AdaGrad(0.01), Softmax())}"
   ]
  },
  {
   "cell_type": "code",
   "execution_count": 39,
   "metadata": {},
   "outputs": [
    {
     "name": "stdout",
     "output_type": "stream",
     "text": [
      "epoch:  0 loss:   2.747\n",
      "epoch:  1 loss:   1.223\n",
      "epoch:  2 loss:   0.926\n",
      "epoch:  3 loss:   0.770\n",
      "epoch:  4 loss:   0.667\n",
      "epoch:  5 loss:   0.613\n",
      "epoch:  6 loss:   0.592\n",
      "epoch:  7 loss:   0.589\n",
      "epoch:  8 loss:   0.569\n",
      "epoch:  9 loss:   0.633\n",
      "epoch: 10 loss:   0.641\n",
      "epoch: 11 loss:   0.592\n",
      "epoch: 12 loss:   0.560\n",
      "epoch: 13 loss:   0.538\n",
      "epoch: 14 loss:   0.529\n",
      "epoch: 15 loss:   0.581\n",
      "epoch: 16 loss:   0.501\n",
      "epoch: 17 loss:   0.452\n",
      "epoch: 18 loss:   0.342\n",
      "epoch: 19 loss:   0.258\n",
      "epoch: 20 loss:   0.340\n",
      "epoch: 21 loss:   0.355\n",
      "epoch: 22 loss:   0.277\n",
      "epoch: 23 loss:   0.312\n",
      "epoch: 24 loss:   0.334\n",
      "epoch: 25 loss:   0.350\n",
      "epoch: 26 loss:   0.273\n",
      "epoch: 27 loss:   0.266\n",
      "epoch: 28 loss:   0.213\n",
      "epoch: 29 loss:   0.183\n"
     ]
    }
   ],
   "source": [
    "clf5 = ScratchDNNClassifier(NN=NN5, n_epoch=30, n_batch=20, verbose=True)\n",
    "clf5.fit(X_train, y_train)\n",
    "y_pred5 = clf5.predict(X_valid)"
   ]
  },
  {
   "cell_type": "code",
   "execution_count": 40,
   "metadata": {},
   "outputs": [
    {
     "name": "stdout",
     "output_type": "stream",
     "text": [
      "[4 3 7 ... 1 7 4]\n",
      "accuracy: 0.971\n"
     ]
    }
   ],
   "source": [
    "print(y_pred4)\n",
    "\n",
    "accuracy = accuracy_score(np.argmax(y_valid, axis=1), y_pred5)\n",
    "print(\"accuracy: {:.3f}\".format(accuracy))"
   ]
  },
  {
   "cell_type": "code",
   "execution_count": 41,
   "metadata": {},
   "outputs": [
    {
     "data": {
      "text/plain": [
       "[<matplotlib.lines.Line2D at 0x7f3ea3f1eda0>]"
      ]
     },
     "execution_count": 41,
     "metadata": {},
     "output_type": "execute_result"
    },
    {
     "data": {
      "image/png": "[encoded data removed]",
      "text/plain": [
       "<Figure size 1152x432 with 2 Axes>"
      ]
     },
     "metadata": {
      "needs_background": "light"
     },
     "output_type": "display_data"
    }
   ],
   "source": [
    "# Visualize the loss function for each epoch\n",
    "plt.rcParams[\"font.size\"] = 20\n",
    "fig = plt.subplots(figsize=(16,6))\n",
    "plt.subplot(1,2,1)\n",
    "plt.title(\"LOSS\")\n",
    "plt.plot(clf5.log_loss, 'bo--')\n",
    "\n",
    "plt.subplot(1,2,2)\n",
    "plt.title(\"ACC\")\n",
    "plt.plot(clf5.log_acc, 'rs--')\n"
   ]
  },
  {
   "cell_type": "markdown",
   "metadata": {},
   "source": [
    "It seems that a deeper layer is not always better"
   ]
  }
 ],
 "metadata": {
  "interpreter": {
   "hash": "31f2aee4e71d21fbe5cf8b01ff0e069b9275f58929596ceb00d14d90e3e16cd6"
  },
  "kernelspec": {
   "display_name": "Python 3.6.9 64-bit",
   "name": "python3"
  },
  "language_info": {
   "codemirror_mode": {
    "name": "ipython",
    "version": 3
   },
   "file_extension": ".py",
   "mimetype": "text/x-python",
   "name": "python",
   "nbconvert_exporter": "python",
   "pygments_lexer": "ipython3",
   "version": "3.6.9"
  },
  "orig_nbformat": 4
 },
 "nbformat": 4,
 "nbformat_minor": 2
}