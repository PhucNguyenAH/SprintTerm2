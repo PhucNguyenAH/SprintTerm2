{
  "nbformat": 4,
  "nbformat_minor": 2,
  "metadata": {
    "colab": {
      "name": "SimpleConv2d.ipynb",
      "provenance": [],
      "collapsed_sections": []
    },
    "interpreter": {
      "hash": "31f2aee4e71d21fbe5cf8b01ff0e069b9275f58929596ceb00d14d90e3e16cd6"
    },
    "kernelspec": {
      "name": "python3",
      "display_name": "Python 3.6.9 64-bit"
    },
    "language_info": {
      "codemirror_mode": {
        "name": "ipython",
        "version": 3
      },
      "file_extension": ".py",
      "mimetype": "text/x-python",
      "name": "python",
      "nbconvert_exporter": "python",
      "pygments_lexer": "ipython3",
      "version": "3.6.9"
    }
  },
  "cells": [
    {
      "cell_type": "markdown",
      "source": [
        "# SimpleConv2d\n",
        "## Name: Nguyen Anh Hoang Phuc\n",
        "\n",
        "We will build from scratch a class of convolutional neural networks (CNNs) for 2D, implementing the algorithms using only minimal libraries such as NumPy.\n",
        "\n",
        "We will also create a pooling layer and so on to complete the basic form of the CNN. The name of the class should be Scratch2dCNNClassifier.\n",
        "\n",
        "Preparing the dataset\n",
        "\n",
        "We continue to use the MNIST dataset, entering the 2D convolutional layer in a 28x28 state.\n",
        "\n",
        "In this case, there is only one channel because it is a black and white image, but the axis in the channel direction must be prepared.\n",
        "\n",
        "(n_samples, n_channels, height, width)in the form of eitherNCHWor(n_samples, height, width, n_channels)in the form ofNHWC."
      ],
      "metadata": {
        "id": "V0GghHLAnd-Y"
      }
    },
    {
      "cell_type": "code",
      "execution_count": 1,
      "source": [
        "# Import\n",
        "import numpy as np\n",
        "import matplotlib.pyplot as plt\n",
        "\n",
        "# Evaluation index\n",
        "from sklearn.metrics import accuracy_score"
      ],
      "outputs": [],
      "metadata": {
        "id": "Lddkorxdnd-b"
      }
    },
    {
      "cell_type": "code",
      "execution_count": 2,
      "source": [
        "# Download the MNIST dataset\n",
        "from keras.datasets import mnist\n",
        "(X, y), (X_test, y_test) = mnist.load_data()"
      ],
      "outputs": [],
      "metadata": {
        "id": "0FkBK-SDnd-c",
        "colab": {
          "base_uri": "https://localhost:8080/"
        },
        "outputId": "fbc5e747-3a96-4564-ac98-8fcbd4fa7f86"
      }
    },
    {
      "cell_type": "code",
      "execution_count": 3,
      "source": [
        "# Check the data\n",
        "print(X.shape) #(60000, 28, 28)\n",
        "print(X_test.shape) #(10000, 28, 28)\n",
        "print(X[0].dtype) #uint8"
      ],
      "outputs": [
        {
          "output_type": "stream",
          "name": "stdout",
          "text": [
            "(60000, 28, 28)\n",
            "(10000, 28, 28)\n",
            "uint8\n"
          ]
        }
      ],
      "metadata": {
        "colab": {
          "base_uri": "https://localhost:8080/"
        },
        "id": "ZGvRIVlGnd-g",
        "outputId": "a36bb8ed-0da7-41ac-d30c-972cbe246d77"
      }
    },
    {
      "cell_type": "code",
      "execution_count": 4,
      "source": [
        "# Type conversion, normalization\n",
        "X = X.astype(np.float)\n",
        "X_test = X_test.astype(np.float)\n",
        "X /= 255\n",
        "X_test /= 255\n",
        "print(X.max()) # 1.0\n",
        "print(X.min()) # 0.0"
      ],
      "outputs": [
        {
          "output_type": "stream",
          "name": "stdout",
          "text": [
            "1.0\n",
            "0.0\n"
          ]
        }
      ],
      "metadata": {
        "colab": {
          "base_uri": "https://localhost:8080/"
        },
        "id": "bPy-wZn1nm-9",
        "outputId": "1d210ca5-d69f-4b75-fca9-d22d1a672738"
      }
    },
    {
      "cell_type": "code",
      "execution_count": 5,
      "source": [
        "# One-hot encoding of correct label value\n",
        "from sklearn.preprocessing import OneHotEncoder\n",
        "\n",
        "enc = OneHotEncoder(handle_unknown='ignore', sparse=False)\n",
        "y_one_hot = enc.fit_transform(y[:,np.newaxis])\n",
        "y_test_one_hot = enc.transform(y_test[:,np.newaxis])\n",
        "print(y.shape) #(60000,)\n",
        "print(y_one_hot.shape) #(60000, 10)\n",
        "print(y_one_hot.dtype) #float64"
      ],
      "outputs": [
        {
          "output_type": "stream",
          "name": "stdout",
          "text": [
            "(60000,)\n",
            "(60000, 10)\n",
            "float64\n"
          ]
        }
      ],
      "metadata": {
        "colab": {
          "base_uri": "https://localhost:8080/"
        },
        "id": "w3s_VpKun5AV",
        "outputId": "1ba71d2c-e3a5-430e-8b94-871a4fe8365c"
      }
    },
    {
      "cell_type": "code",
      "execution_count": 6,
      "source": [
        "# Split into training data and validation data\n",
        "from sklearn.model_selection import train_test_split\n",
        "\n",
        "X_train, X_valid, y_train, y_valid = train_test_split(X, y_one_hot, test_size=0.2)\n",
        "print(X_train.shape)\n",
        "print(X_valid.shape)\n",
        "print(y_train.shape)\n",
        "print(y_valid.shape)"
      ],
      "outputs": [
        {
          "output_type": "stream",
          "name": "stdout",
          "text": [
            "(48000, 28, 28)\n",
            "(12000, 28, 28)\n",
            "(48000, 10)\n",
            "(12000, 10)\n"
          ]
        }
      ],
      "metadata": {
        "colab": {
          "base_uri": "https://localhost:8080/"
        },
        "id": "MTk83hpFn8nJ",
        "outputId": "cbbe117e-eb2e-43ca-d120-eaaeb2f7f51f"
      }
    },
    {
      "cell_type": "markdown",
      "source": [
        "## Prepare for NN classes and other activities so far\n",
        "### All binding layers"
      ],
      "metadata": {
        "id": "VkG1yogloQuc"
      }
    },
    {
      "cell_type": "code",
      "execution_count": 7,
      "source": [
        "class FC:\n",
        "  \"\"\"\n",
        "  All coupling layers from number of nodes n_nodes1 to n_nodes2\n",
        "  Parameters\n",
        "  ==========\n",
        "  n_nodes1: int\n",
        "    Number of nodes in the previous layer\n",
        "  n_nodes2: int\n",
        "    Number of nodes in subsequent layers\n",
        "  initializer: Instances of initialization methods\n",
        "  optimizer: Instances of optimizations methods\n",
        "  \"\"\"\n",
        "  def __init__(self, n_nodes1, n_nodes2, initializer, optimizer, activation):\n",
        "    \n",
        "    self.n_nodes1 = n_nodes1\n",
        "    self.n_nodes2 = n_nodes2\n",
        "    self.initializer = initializer\n",
        "    self.optimizer = optimizer\n",
        "    self.activation = activation\n",
        "    # Initialize\n",
        "    # Use the initializer method to initialize self.w and self.B\n",
        "    self.W = self.initializer.W(self.n_nodes1, self.n_nodes2)\n",
        "    self.B = self.initializer.B(self.n_nodes2)\n",
        "\n",
        "  def forward(self, X):\n",
        "    \"\"\"\n",
        "    forward\n",
        "    Parameters\n",
        "    ==========\n",
        "    X: ndarray of the following form, shape (batch_size, n_nodes1)\n",
        "      Input\n",
        "    Returns\n",
        "    ==========\n",
        "    A: ndarray of the following form, shape (batch_size, n_nodes2)\n",
        "      Output\n",
        "    \"\"\"\n",
        "    self.X = X\n",
        "    self.A = np.dot(self.X, self.W) + self.B\n",
        "\n",
        "    return self.activation.forward(self.A)\n",
        "\n",
        "  def backward(self, dZ):\n",
        "    \"\"\"\n",
        "    backward\n",
        "    Parameters\n",
        "    ==========\n",
        "    dA: ndarray of the following form, shape (batch_size, n_nodes2)\n",
        "      The gradient flowed in from behind\n",
        "    Returns\n",
        "    ==========\n",
        "    dZ: ndarray of the following form, shape (batch_size, n_nodes1)\n",
        "      forward slope\n",
        "    \"\"\"\n",
        "    dA = self.activation.backward(dZ)\n",
        "    self.dB = np.mean(dA, axis=0)\n",
        "    self.dW = np.dot(self.X.T, dA)/len(self.X)\n",
        "    dZ = np.dot(dA, self.W.T)\n",
        "\n",
        "    # Update\n",
        "    self = self.optimizer.update(self)\n",
        "\n",
        "    return dZ"
      ],
      "outputs": [],
      "metadata": {
        "id": "23jgfTJWoB4u"
      }
    },
    {
      "cell_type": "markdown",
      "source": [
        "### Initialization"
      ],
      "metadata": {
        "id": "4_w9UmxTqHnL"
      }
    },
    {
      "cell_type": "code",
      "execution_count": 8,
      "source": [
        "class SimpleInitializerConv2d:\n",
        "  \"\"\"\n",
        "  Simple initialization with Gaussian distribution\n",
        "  Parameters\n",
        "  ==========\n",
        "  sigma: float\n",
        "    Standard deviation of Gaussian distribution\n",
        "  \"\"\"\n",
        "  def __init__(self, sigma=0.01):\n",
        "    self.sigma = sigma\n",
        "\n",
        "  def W(self, F, C, FH, FW):\n",
        "    \"\"\"\n",
        "    Initializing weights\n",
        "    Parameters\n",
        "    ==========\n",
        "    \n",
        "    Returns\n",
        "    ==========\n",
        "    W: weight\n",
        "    \"\"\"\n",
        "    return self.sigma * np.random.randn(F,C,FH,FW)\n",
        "    \n",
        "  def B(self, F):\n",
        "    \"\"\"\n",
        "    Bias initialization\n",
        "    Parameters\n",
        "    ==========\n",
        "    \n",
        "    Returns\n",
        "    ==========\n",
        "    B: bias\n",
        "    \"\"\"\n",
        "    return np.zeros(F)"
      ],
      "outputs": [],
      "metadata": {
        "id": "JQ2iTS6SqKmY"
      }
    },
    {
      "cell_type": "code",
      "execution_count": 9,
      "source": [
        "class SimpleInitializer:\n",
        "  \"\"\"\n",
        "  Simple initialization with Gaussian distribution\n",
        "  Parameters\n",
        "  ==========\n",
        "  sigma: float\n",
        "    Standard deviation of Gaussian distribution\n",
        "  \"\"\"\n",
        "  def __init__(self, sigma):\n",
        "    self.sigma = sigma\n",
        "\n",
        "  def W(self, n_nodes1, n_nodes2):\n",
        "    \"\"\"\n",
        "    Initializing weights\n",
        "    Parameters\n",
        "    ==========\n",
        "    n_nodes1: int\n",
        "      Number of nodes in the previous layer\n",
        "    n_nodes2: int\n",
        "      Number of nodes in subsequent layers\n",
        "    \n",
        "    Returns\n",
        "    ==========\n",
        "    W: weight\n",
        "    \"\"\"\n",
        "    return self.sigma * np.random.randn(n_nodes1, n_nodes2)\n",
        "    \n",
        "  def B(self, n_nodes2):\n",
        "    \"\"\"\n",
        "    Bias initialization\n",
        "    Parameters\n",
        "    ==========\n",
        "    n_nodes2: int\n",
        "      Number of nodes in subsequent layers\n",
        "    \n",
        "    Returns\n",
        "    ==========\n",
        "    B: bias\n",
        "    \"\"\"\n",
        "    return np.zeros(n_nodes2)"
      ],
      "outputs": [],
      "metadata": {
        "id": "OnrC8LIGqyhF"
      }
    },
    {
      "cell_type": "code",
      "execution_count": 10,
      "source": [
        "class HeInitializer():\n",
        "  \"\"\"\n",
        "  Initialization of weights by He\n",
        "  \"\"\"\n",
        "  def __init__(self):\n",
        "    pass\n",
        "  \n",
        "  def W(self, n_nodes1, n_nodes2):\n",
        "    \"\"\"\n",
        "    Initializing weights\n",
        "    Parameters\n",
        "    ==========\n",
        "    n_nodes1: int\n",
        "      Number of nodes in the previous layer\n",
        "    n_nodes2: int\n",
        "      Number of nodes in subsequent layers\n",
        "    \n",
        "    Returns\n",
        "    ==========\n",
        "    W: weight\n",
        "    \"\"\"\n",
        "    return np.random.randn(n_nodes1, n_nodes2)*np.sqrt(2/n_nodes1)\n",
        "\n",
        "  def B(self, n_nodes2):\n",
        "    \"\"\"\n",
        "    Bias initialization\n",
        "    Parameters\n",
        "    ==========\n",
        "    n_nodes2: int\n",
        "      Number of nodes in subsequent layers\n",
        "    \n",
        "    Returns\n",
        "    ==========\n",
        "    B: bias\n",
        "    \"\"\"\n",
        "    return np.zeros(n_nodes2)"
      ],
      "outputs": [],
      "metadata": {
        "id": "soofpl-lrDc7"
      }
    },
    {
      "cell_type": "markdown",
      "source": [
        "### Optimization"
      ],
      "metadata": {
        "id": "sXOOPUqerIur"
      }
    },
    {
      "cell_type": "code",
      "execution_count": 11,
      "source": [
        "class SGD:\n",
        "  \"\"\"\n",
        "  stochastic gradient descent method\n",
        "  Parameters\n",
        "  ==========\n",
        "  lr: learning rate\n",
        "  \"\"\"\n",
        "  def __init__(self, lr=0.01):\n",
        "    self.lr = lr \n",
        "  \n",
        "  def update(self, layer):\n",
        "    \"\"\"\n",
        "    Updating the weights and biases of a layer\n",
        "    Parameters\n",
        "    ==========\n",
        "    layers: As instance of the layer before the update\n",
        "    \"\"\"\n",
        "    layer.W -= self.lr*layer.dW\n",
        "    layer.B -= self.lr*layer.dB\n",
        "\n",
        "    return layer"
      ],
      "outputs": [],
      "metadata": {
        "id": "A5QZmxMArGLl"
      }
    },
    {
      "cell_type": "code",
      "execution_count": 12,
      "source": [
        "class AdaGrad:\n",
        "  \"\"\"\n",
        "  Parameters\n",
        "  ==========\n",
        "  lr: learning rate\n",
        "  \"\"\"\n",
        "  def __init__(self, lr):\n",
        "    self.lr = lr\n",
        "    self.hW = 0\n",
        "    self.hB = 0\n",
        "  \n",
        "  def update(self, layer):\n",
        "    \"\"\"\n",
        "    Updating the weights and biases of a layer\n",
        "    Parameters\n",
        "    ==========\n",
        "    layer: An instance of the layer before the update\n",
        "    \"\"\"\n",
        "    self.hW += layer.dW*layer.dW\n",
        "    self.hB = layer.dB*layer.dB\n",
        "\n",
        "    layer.W -= self.lr*layer.dW/(np.sqrt(self.hW) +1e-7)\n",
        "    layer.B -= self.lr*layer.dB/(np.sqrt(self.hB) +1e-7)\n",
        "\n",
        "    return layer"
      ],
      "outputs": [],
      "metadata": {
        "id": "ExVpu3OFrD18"
      }
    },
    {
      "cell_type": "markdown",
      "source": [
        "### Activation function"
      ],
      "metadata": {
        "id": "LQ3bDM-9uRbB"
      }
    },
    {
      "cell_type": "code",
      "execution_count": 13,
      "source": [
        "class ReLU():\n",
        "  \"\"\"\n",
        "  Activation function: ReLU function\n",
        "  \"\"\"\n",
        "  def __init__(self):\n",
        "    pass\n",
        "  \n",
        "  def forward(self, A):\n",
        "    self.A = A\n",
        "    return np.maximum(self.A,0)\n",
        "  \n",
        "  def backward(self, dZ):\n",
        "    return np.where(self.A>0,dZ,0)"
      ],
      "outputs": [],
      "metadata": {
        "id": "316cX38NrSY9"
      }
    },
    {
      "cell_type": "code",
      "execution_count": 14,
      "source": [
        "class Softmax():\n",
        "  \"\"\"\n",
        "  Activation function: Softmax function\n",
        "  \"\"\"\n",
        "  def __init__(self):\n",
        "    pass\n",
        "  \n",
        "  def forward(self, A):\n",
        "    return np.exp(A-np.max(A))/np.sum(np.exp(A-np.max(A)), axis=1, keepdims=True)\n",
        "  \n",
        "  def backward(self, dZ):\n",
        "    return dZ"
      ],
      "outputs": [],
      "metadata": {
        "id": "hT1JwsRnuddD"
      }
    },
    {
      "cell_type": "markdown",
      "source": [
        "### Mini-batch"
      ],
      "metadata": {
        "id": "IUIFUb_swDEG"
      }
    },
    {
      "cell_type": "code",
      "execution_count": 15,
      "source": [
        "# Mini-batch processing class\n",
        "class GetMiniBatch:\n",
        "  \"\"\"\n",
        "  Iterator to get the mini-batch\n",
        "\n",
        "  Parameters\n",
        "  ===========\n",
        "  X: ndarray of the following form, shape (n_samples, n_features)\n",
        "     Training data\n",
        "  y: ndarray of the following form, shape (n_samples, 1)\n",
        "     Correct value\n",
        "  batch_size: int\n",
        "     Batch size\n",
        "  seed: int\n",
        "     Seeding random numbers in NumPy\n",
        "  \"\"\"\n",
        "  def __init__(self, X, y, batch_size = 20, seed=None):\n",
        "    self.batch_size = batch_size\n",
        "    np.random.seed(seed)\n",
        "    shuffle_index = np.random.permutation(np.arange(X.shape[0]))\n",
        "    self._X = X[shuffle_index]\n",
        "    self._y = y[shuffle_index]\n",
        "    self._stop = np.ceil(X.shape[0]/self.batch_size).astype(np.int)\n",
        "\n",
        "  def __len__(self):\n",
        "    return self._stop\n",
        "\n",
        "  def __getitem__(self, item):\n",
        "    p0 = item*self.batch_size\n",
        "    p1 = item*self.batch_size + self.batch_size\n",
        "    return self._X[p0:p1], self._y[p0:p1]\n",
        "\n",
        "  def __iter__(self):\n",
        "    self._counter = 0\n",
        "    return self\n",
        "  \n",
        "  def __next__(self):\n",
        "    if self._counter >= self._stop:\n",
        "      raise StopIteration()\n",
        "    p0 = self._counter*self.batch_size\n",
        "    p1 = self._counter*self.batch_size + self.batch_size\n",
        "    self._counter += 1\n",
        "    return self._X[p0:p1], self._y[p0:p1]"
      ],
      "outputs": [],
      "metadata": {
        "id": "MqL1bYjJud44"
      }
    },
    {
      "cell_type": "markdown",
      "source": [
        "## 【Problem 1】Creating a 2-D convolutional layer\n",
        "\n",
        "Develop the class Conv1d for 1D convolutional layers and create the class Conv2d for 2D convolutional layers.\n",
        "\n",
        "The formula for forward propagation is as follows\n",
        "\n",
        "$a_{i, j, m}=\\sum_{k=0}^{K-1} \\sum_{s=0}^{F_{h}-1} \\sum_{t=0}^{F_{w}-1} x_{(i+s),(j+t), k} w_{s, t, k, m}+b_{m}$\n",
        "\n",
        "$a_{i,j,m}$: i-th row, j-th column, m-channel value of the output array\n",
        "\n",
        "$i$: Array row index\n",
        "\n",
        "$j$: the column index of the array\n",
        "\n",
        "$m$: Output channel index\n",
        "\n",
        "$K$: Number of input channels\n",
        "\n",
        "$F_{h}, F_{w}$: Filter size in height (h) and width (w)\n",
        "\n",
        "$x_{(i+s),(j+t),k}$: (i+s) row (j+t) column, k channel value of the input array\n",
        "\n",
        "$w_{s,t,k,m}$: sth and tth column of the weight array. Weight to be output to the m channel for the input of the k channel\n",
        "\n",
        "$b_m$: Bias term of output to m channel\n",
        "\n",
        "All are scalars.\n",
        "\n",
        "Next is the update formula, which has the same form as for 1D convolutional and all-combining layers.\n",
        "\n",
        "$w_{s, t, k, m}^{\\prime}=w_{s, t, k, m}-\\alpha \\frac{\\partial L}{\\partial w_{s, t, k, m}}$\n",
        "\n",
        "$b_{m}^{\\prime}=b_{m}-\\alpha^{\\frac{\\partial L}{\\partial b_{m}}}$\n",
        "\n",
        "$\\alpha$: learning rate\n",
        "\n",
        "$\\frac{\\partial L}{\\partial w_{s,t,k,m}}$: Loss $L$ gradient with respect to $w_{s,t,k,m}$\n",
        "\n",
        "$\\frac{\\partial L}{\\partial b_{m}}$: Loss $L$ slope for $b_{m}$\n",
        "\n",
        "Of back propagation to find the gradients $\\frac{\\partial L}{\\partial w_{s,t,k,m}}$ and $\\frac{\\partial L}{\\partial b_{m}}$ The formula is:\n",
        "\n",
        "$\\frac{\\partial L}{\\partial w_{s, t, k, m}}=\\sum_{i=0}^{N_{o u t, h}-1} \\sum_{j=0}^{N_{o u t, w}-1} \\frac{\\partial L}{\\partial a_{i, j, m}} x_{(i+s)(j+t), k}$\n",
        "\n",
        "$\\frac{\\partial L}{\\partial b_{m}}=\\sum_{i=0}^{N_{o u, h}-1} \\sum_{j=0}^{N_{o u t, w}-1} \\frac{\\partial L}{\\partial a_{i, j, m}}$\n",
        "\n",
        "$\\frac{\\partial L}{\\partial a_i}$: i-row, j-column, m-channel value of the gradient array\n",
        "\n",
        "$N_{out,h},N_{out,w}$: Size of output in height direction (h) and width direction (w)\n",
        "\n",
        "The formula for the error to be passed to the previous layer is as follows\n",
        "\n",
        "$\\frac{\\partial L}{\\partial x_{i, j, k}}=\\sum_{m=0}^{M-1} \\sum_{s=0}^{F_{h}-1} \\sum_{t=0}^{F_{w}-1} \\frac{\\partial L}{\\partial a_{(i-s),(j-t), m}} w_{s, t, k, m}$\n",
        "\n",
        "$\\frac{\\partial L}{\\partial x_{i,j,k}}$: i column, j row, k channel value of the error array to be passed to the previous layer\n",
        "\n",
        "$M$: Number of output channels\n",
        "\n",
        "However, when $is<0$ or $is>N_{out,h}-1$ or $jt<0$ or $jt>N_{out,w}-1$, $\\frac{\\partial L}{ \\partial a_{(is),(jt),m}} =0$.\n"
      ],
      "metadata": {
        "id": "c3YZrt4owOFr"
      }
    },
    {
      "cell_type": "code",
      "execution_count": 16,
      "source": [
        "# 2d convolutional layer class\n",
        "class SimpleConv2d():\n",
        "  \"\"\"\n",
        "  2D convolutional layer\n",
        "  Parameters\n",
        "  ==========\n",
        "  initializer: Instances of initialization methods\n",
        "  optimizer: Instances of optimizations methods\n",
        "  \"\"\"\n",
        "  def __init__(self, F, C, FH, FW, P, S, initializer=None, optimizer=None, activation=None):\n",
        "    self.P = P\n",
        "    self.S = S\n",
        "    self.initializer = initializer\n",
        "    self.optimizer = optimizer\n",
        "    self.activation = activation\n",
        "\n",
        "    # Initialize\n",
        "    # Use the initializer method to initialize self.W and self.B\n",
        "    self.W = self.initializer.W(F, C, FH, FW)\n",
        "    self.B = self.initializer.B(F)\n",
        "\n",
        "  def output_shape2d(self,H,W,PH,PW,FH,FW,SH,SW):\n",
        "    OH = (H+2*PH-FH)/SH + 1\n",
        "    OW = (W+2*PW-FW)/SW + 1\n",
        "    return int(OH), int(OW)\n",
        "\n",
        "  def forward(self, X):\n",
        "    \"\"\"\n",
        "    forward\n",
        "    Parameters\n",
        "    ==========\n",
        "    X: ndarray of the following form, shape (batch_size, n_nodes1)\n",
        "      Input\n",
        "    Returns\n",
        "    ==========\n",
        "    A: ndarray of the following form, shape (batch_size, n_nodes2)\n",
        "      Output\n",
        "    \"\"\"\n",
        "    self.X = X\n",
        "    # Size\n",
        "    N, C, H, W = self.X.shape\n",
        "    F, C, FH, FW = self.W.shape\n",
        "\n",
        "    OH, OW = self.output_shape2d(H,W,self.P,self.P,FH,FW,self.S, self.S)\n",
        "\n",
        "    self.params = N,C,H,W,F,FH,FW,OH,OW\n",
        "\n",
        "    A = np.zeros([N,F,OH,OW])\n",
        "\n",
        "    self.X_pad = np.pad(self.X,((0,0),(0,0),(self.P,self.P), (self.P,self.P)))\n",
        "\n",
        "    # Batch\n",
        "    for n in range(N):\n",
        "      # Output channels\n",
        "      for ch in range(F):\n",
        "        # Vertical slide\n",
        "        for row in range(0,H,self.S):\n",
        "          # Horizontal Slide\n",
        "          for col in range(0,W,self.S):\n",
        "            A[n,ch,row, col] = np.sum(self.X_pad[n,:,row:row+FH,col:col+FW]*self.W[ch,:,:,:]) + self.B[ch]\n",
        "    \n",
        "    return self.activation.forward(A)\n",
        "\n",
        "  def backward(self, dZ):\n",
        "    \"\"\"\n",
        "    backward\n",
        "    Parameters\n",
        "    ==========\n",
        "    dA: ndarray of the following form, shape (batch_size, n_nodes2)\n",
        "      The gradient flowed in from behind\n",
        "    Returns\n",
        "    ==========\n",
        "    dZ: ndarray of the following form, shape (batch_size, n_nodes1)\n",
        "      forward slope\n",
        "    \"\"\"\n",
        "    dA = self.activation.backward(dZ)\n",
        "    N,C,H,W,F,FH,FW,OH,OW = self.params\n",
        "\n",
        "    dZ = np.zeros(self.X_pad.shape)\n",
        "    self.dW = np.zeros(self.W.shape)\n",
        "    self.dB = np.zeros(self.B.shape)\n",
        "\n",
        "    # dZ\n",
        "    # Batch\n",
        "    for n in range(N):\n",
        "      # Output channels\n",
        "      for ch in range(F):\n",
        "        # Vertical slide\n",
        "        for row in range(0,H,self.S):\n",
        "          # Horizontal Slide\n",
        "          for col in range(0,W,self.S):\n",
        "              dZ[n,:,row:row+FH,col:col+FW] += dA[n,ch,row,col]*self.W[ch,:,:,:]\n",
        "    \n",
        "    dl_rows = range(self.P),range(H+self.P,H+2*self.P,1)\n",
        "    dl_cols = range(self.P),range(W+self.P,W+2*self.P,1)\n",
        "\n",
        "    dZ = np.delete(dZ,dl_rows,axis=2)\n",
        "    dZ = np.delete(dZ,dl_cols,axis=3)\n",
        "\n",
        "    # dW\n",
        "    # Batch\n",
        "    for n in range(N):\n",
        "      # Output channels\n",
        "      for ch in range(F):\n",
        "        # Vertical slide\n",
        "        for row in range(OH):\n",
        "          # Horizontal Slide\n",
        "          for col in range(OW):\n",
        "            self.dW[ch,:,:,:] += dA[n,ch,row,col]*self.X_pad[n,:,row:row+FH,col:col+FW]\n",
        "\n",
        "    # dB\n",
        "    # Output channels\n",
        "    for ch in range(F):\n",
        "      self.dB[ch] = np.sum(dA[:,ch,:,:])\n",
        "\n",
        "    # Update\n",
        "    self = self.optimizer.update(self)\n",
        "\n",
        "    return dZ"
      ],
      "outputs": [],
      "metadata": {
        "id": "VDqp28r8yARD"
      }
    },
    {
      "cell_type": "markdown",
      "source": [
        "## [Problem 2] Output size after 2-dimensional convolution\n",
        "Convolution changes the size of the feature map.\n",
        "\n",
        "How it changes can be obtained from the following formula.\n",
        "\n",
        "Create a function to do this calculation.\n",
        "\n",
        "$N_{h, \\text { out }}=\\frac{N_{h, \\text { in }}+2 P_{h}-F_{h}}{S_{h}}+1$\n",
        "\n",
        "$N_{w, \\text { out }}=\\frac{N_{w, \\text { in }}+2 P_{w}-F_{w}}{S_{w}}+1$\n",
        "\n",
        "$N_{out}$: Output size (number of features)\n",
        "\n",
        "$N_{in}$: Input size (number of features)\n",
        "\n",
        "$P$: Number of paddings in one direction\n",
        "\n",
        "$F$: Filter size\n",
        "\n",
        "$S$: Stride size\n",
        "\n",
        "$h$ is the height direction, $w$ is the width direction"
      ],
      "metadata": {
        "id": "QGuAJ8Tgl77p"
      }
    },
    {
      "cell_type": "code",
      "execution_count": 17,
      "source": [
        "def output_shape2d(IH=5,IW=5,PH=0,PW=0,FH=3,FW=3,SH=1,SW=1):\n",
        "  OH = (IH + 2*PH - FH)/SH +1\n",
        "  OW = (IW + 2*PW - FW)/SW +1\n",
        "  return int(OH), int(OW)"
      ],
      "outputs": [],
      "metadata": {
        "id": "qPvGK-b8mBKf"
      }
    },
    {
      "cell_type": "code",
      "execution_count": 18,
      "source": [
        "print(output_shape2d(IH=6,IW=6,PH=0,PW=0,FH=3,FW=3,SH=1,SW=1))"
      ],
      "outputs": [
        {
          "output_type": "stream",
          "name": "stdout",
          "text": [
            "(4, 4)\n"
          ]
        }
      ],
      "metadata": {
        "colab": {
          "base_uri": "https://localhost:8080/"
        },
        "id": "oNlL_DlAmipO",
        "outputId": "d9ec8f7f-bbdc-4e15-e5d6-df63187d45c4"
      }
    },
    {
      "cell_type": "markdown",
      "source": [
        "### Experiment with 2D convolution"
      ],
      "metadata": {
        "id": "QDmSYPF8nUDx"
      }
    },
    {
      "cell_type": "code",
      "execution_count": 19,
      "source": [
        "N,C,H,W = (5,1,28,28)\n",
        "F,C,FH,FW = (4,1,3,3)\n",
        "\n",
        "S = 1 #Fixed for now\n",
        "P = 1\n",
        "\n",
        "OH, OW = output_shape2d(H,W,P,P,FH,FW,S,S)\n",
        "\n",
        "A = np.zeros([N,F,OH,OW])\n",
        "\n",
        "X_sample = X[0:N].reshape(N,C,H,W)\n",
        "X_pad = np.pad(X_sample,((0,0),(0,0),(P,P),(P,P)))\n",
        "w = np.ones([F,C,FH,FW])\n",
        "B = np.ones(F)\n",
        "\n",
        "# Forward\n",
        "\n",
        "# Batch\n",
        "for n in range(N):\n",
        "  # Output channels\n",
        "  for ch in range(F):\n",
        "    # Vertical slide\n",
        "    for row in range(0,H,S):\n",
        "      # Horizontal Slide\n",
        "      for col in range(0,W,S):\n",
        "        A[n,ch,row,col] = np.sum(X_pad[n,:,row:row+FH,col:col+FW]*w[ch,:,:,:])+B[ch]\n",
        "print('A.shape:',A.shape)"
      ],
      "outputs": [
        {
          "output_type": "stream",
          "name": "stdout",
          "text": [
            "A.shape: (5, 4, 28, 28)\n"
          ]
        }
      ],
      "metadata": {
        "colab": {
          "base_uri": "https://localhost:8080/"
        },
        "id": "0m-6zpowm-PI",
        "outputId": "f9363691-d3e0-4be9-c210-64a33fb47b6f"
      }
    },
    {
      "cell_type": "code",
      "execution_count": 20,
      "source": [
        "# Backward\n",
        "dA = np.ones(A.shape)\n",
        "\n",
        "dZ = np.zeros(X_pad.shape)\n",
        "dW = np.zeros(w.shape)\n",
        "dB = np.zeros(B.shape)\n",
        "\n",
        "# dZ \n",
        "# Batch\n",
        "for n in range(N):\n",
        "  # Output channels\n",
        "  for ch in range(F):\n",
        "    # Vertical slide\n",
        "    for row in range(0,H,S):\n",
        "      # Horizontal slide\n",
        "      for col in range(0,W,S):\n",
        "        dZ[n,:,row:row+FH,col:col+FW] += dA[n,ch,row,col]*w[ch,:,:,:]\n",
        "\n",
        "dl_rows = range(P),range(H+P,H+2*P,1)\n",
        "dl_cols = range(P),range(W+P,W+2*P,1)\n",
        "\n",
        "dZ = np.delete(dZ,dl_rows,axis=2)\n",
        "dZ = np.delete(dZ,dl_cols,axis=3)\n",
        "\n",
        "# dW\n",
        "# Batch\n",
        "for n in range(N):\n",
        "  # Output channels\n",
        "  for ch in range(F):\n",
        "    # Vertical slide\n",
        "    for row in range(OH):\n",
        "      # Horizontal slide\n",
        "      for col in range(OW):\n",
        "        dW[ch,:,:,:] += dA[n,ch,row,col]*X_pad[n,:,row:row+FH,col:col+FW]\n",
        "  \n",
        "# dB\n",
        "# Output channels\n",
        "for ch in range(F):\n",
        "  dB[ch] = np.sum(dA[:,ch,:,:])\n",
        "\n",
        "print('dZ.shape:',dZ.shape)\n",
        "print('dW.shape:',dW.shape)\n",
        "print('dB.shape:',dB.shape)"
      ],
      "outputs": [
        {
          "output_type": "stream",
          "name": "stdout",
          "text": [
            "dZ.shape: (5, 1, 28, 28)\n",
            "dW.shape: (4, 1, 3, 3)\n",
            "dB.shape: (4,)\n"
          ]
        }
      ],
      "metadata": {
        "colab": {
          "base_uri": "https://localhost:8080/"
        },
        "id": "XTg7edcsrBlj",
        "outputId": "888869b3-abbc-4e2e-eb82-7d10abce8121"
      }
    },
    {
      "cell_type": "markdown",
      "source": [
        "## [Problem 3] Creation of maximum pooling layer\n",
        "\n",
        "Create a class MaxPool2D for the maximum pooling layer. Some parts of the pooling layer are easier to understand if they are not expressed in mathematical terms, but if they are expressed in mathematical terms, the forward propagation looks like this\n",
        "\n",
        "$a_{i, j, k}=\\max _{(p, q) \\in P_{i, j}} x_{p, q, k}$\n",
        "\n",
        "$P_{i,j}$: A set of input array indices for output to i row and j column. Row (p) and column (q) within the range of $S_{h}×S_{w}$\n",
        "\n",
        "$S_{h}, S_{w}$: Height (h) and width (w) stride size\n",
        "\n",
        "$(p,q)\\in P_{i,j}$: Index of row (p) and column (q) included in $P_{i,j}$\n",
        "\n",
        "$a_{i,j,m}$: i-th row, j-th column, k-channel value of the output array\n",
        "\n",
        "$x_{p,q,k}$: p-by-q, k-channel value of the input array\n",
        "\n",
        "Within a certain range, the maximum value is calculated, leaving the axis in the channel direction unchanged.\n",
        "\n",
        "For backpropagation, it is necessary to retain the maximum index $(p,q)$ in forward propagation. This is because the error is sent as it is to the part that had the maximum value at the time of forward, and 0 is put in other parts."
      ],
      "metadata": {
        "id": "_bE246XY-RO2"
      }
    },
    {
      "cell_type": "code",
      "execution_count": 21,
      "source": [
        "class MaxPool2D():\n",
        "\n",
        "  def __init__(self, P):\n",
        "    self.P = P\n",
        "    self.PA = None\n",
        "    self.Pindex = None\n",
        "\n",
        "  def forward(self,A):\n",
        "    N,F,OH,OW = A.shape\n",
        "    PS = self.P\n",
        "    PH, PW = int(OH/PS), int(OW/PS)\n",
        "\n",
        "    self.params = N,F,OH,OW,PS,PH,PW\n",
        "\n",
        "    # Pooling filter\n",
        "    self.PA = np.zeros([N,F,PH,PW])\n",
        "    self.Pindex = np.zeros([N,F,PH,PW])\n",
        "\n",
        "    for n in range(N):\n",
        "      # Output channels\n",
        "      for ch in range(F):\n",
        "        # Vertical slide\n",
        "        for row in range(PH):\n",
        "          # Horizontal slide\n",
        "          for col in range(PW):\n",
        "            self.PA[n,ch,row,col] = np.max(A[n,ch,row*PS:row*PS+PS,col*PS:col*PS+PS])\n",
        "\n",
        "            self.Pindex[n,ch,row,col] = np.argmax(A[n,ch,row*PS:row*PS+PS,col*PS:col*PS+PS])\n",
        "    return self.PA\n",
        "\n",
        "  def backward(self,dA):\n",
        "\n",
        "    N,F,OH,OW,PS,PH,PW = self.params\n",
        "    dP = np.zeros([N,F,OH,OW])\n",
        "\n",
        "    for n in range(N):\n",
        "      # Output channels\n",
        "      for ch in range(F):\n",
        "        # Vertical slide\n",
        "        for row in range(PH):\n",
        "          # Horizontal slide\n",
        "          for col in range(PW):\n",
        "            idx = self.Pindex[n,ch,row,col]\n",
        "            tmp = np.zeros((PS*PS))\n",
        "            for i in range(PS*PS):\n",
        "              if i == idx:\n",
        "                tmp[i] = dA[n,ch,row,col]\n",
        "              else:\n",
        "                tmp[i] = 0\n",
        "            dP[n,ch,row*PS:row*PS+PS,col*PS:col*PS+PS] = tmp.reshape(PS,PS)\n",
        "    return dP"
      ],
      "outputs": [],
      "metadata": {
        "id": "lX5aas3Gssln"
      }
    },
    {
      "cell_type": "code",
      "execution_count": 22,
      "source": [
        "X = np.random.randint(0,9,36).reshape(1,1,6,6)\n",
        "print(X)"
      ],
      "outputs": [
        {
          "output_type": "stream",
          "name": "stdout",
          "text": [
            "[[[[6 1 3 7 2 0]\n",
            "   [1 6 8 2 1 1]\n",
            "   [1 2 7 0 7 3]\n",
            "   [7 0 3 8 2 5]\n",
            "   [3 3 0 4 1 5]\n",
            "   [4 0 0 0 6 7]]]]\n"
          ]
        }
      ],
      "metadata": {
        "colab": {
          "base_uri": "https://localhost:8080/"
        },
        "id": "T0Ot5JBGAi0q",
        "outputId": "c8fe74af-0d34-4233-ad85-b7d1b474a245"
      }
    },
    {
      "cell_type": "code",
      "execution_count": 23,
      "source": [
        "Pooling = MaxPool2D(P=2)\n",
        "A = Pooling.forward(X)\n",
        "\n",
        "print(A.shape)\n",
        "print(A)"
      ],
      "outputs": [
        {
          "output_type": "stream",
          "name": "stdout",
          "text": [
            "(1, 1, 3, 3)\n",
            "[[[[6. 8. 2.]\n",
            "   [7. 8. 7.]\n",
            "   [4. 4. 7.]]]]\n"
          ]
        }
      ],
      "metadata": {
        "colab": {
          "base_uri": "https://localhost:8080/"
        },
        "id": "yUZ954RZBIhs",
        "outputId": "1f4a6e8e-1b1c-4c34-ba20-6f8f33422be5"
      }
    },
    {
      "cell_type": "code",
      "execution_count": 24,
      "source": [
        "Pooling.Pindex"
      ],
      "outputs": [
        {
          "output_type": "execute_result",
          "data": {
            "text/plain": [
              "array([[[[0., 2., 0.],\n",
              "         [2., 3., 0.],\n",
              "         [2., 1., 3.]]]])"
            ]
          },
          "metadata": {},
          "execution_count": 24
        }
      ],
      "metadata": {
        "colab": {
          "base_uri": "https://localhost:8080/"
        },
        "id": "-7o1XFBTBUQC",
        "outputId": "9b7ad074-2c6b-4595-c539-663eb9977d68"
      }
    },
    {
      "cell_type": "code",
      "execution_count": 25,
      "source": [
        "dA = np.random.randint(0,9,9).reshape(A.shape)\n",
        "print(dA)"
      ],
      "outputs": [
        {
          "output_type": "stream",
          "name": "stdout",
          "text": [
            "[[[[4 6 0]\n",
            "   [7 3 3]\n",
            "   [4 2 7]]]]\n"
          ]
        }
      ],
      "metadata": {
        "colab": {
          "base_uri": "https://localhost:8080/"
        },
        "id": "1WcnVGN8Lejc",
        "outputId": "d12e1f01-55b9-450d-9ed5-a358f2faae69"
      }
    },
    {
      "cell_type": "code",
      "execution_count": 26,
      "source": [
        "dZ = Pooling.backward(dA)\n",
        "print(dZ)"
      ],
      "outputs": [
        {
          "output_type": "stream",
          "name": "stdout",
          "text": [
            "[[[[4. 0. 0. 0. 0. 0.]\n",
            "   [0. 0. 6. 0. 0. 0.]\n",
            "   [0. 0. 0. 0. 3. 0.]\n",
            "   [7. 0. 0. 3. 0. 0.]\n",
            "   [0. 0. 0. 2. 0. 0.]\n",
            "   [4. 0. 0. 0. 0. 7.]]]]\n"
          ]
        }
      ],
      "metadata": {
        "colab": {
          "base_uri": "https://localhost:8080/"
        },
        "id": "J2DWPjsjRknT",
        "outputId": "c1b5e22b-c83f-46e1-8ba4-e8c396f14ac7"
      }
    },
    {
      "cell_type": "markdown",
      "source": [
        "## [Problem 4] (Advance task) Creating average pooling\n",
        "\n",
        "Create a class AveragePool2D for the average pooling layer.\n",
        "\n",
        "This is a pooling layer where the output is an average value rather than the maximum value in a range.\n",
        "\n",
        "In image recognition, the maximum pooling layer is commonly used, while the average pooling is less commonly used."
      ],
      "metadata": {
        "id": "VvzmfOYyRuZo"
      }
    },
    {
      "cell_type": "code",
      "execution_count": 27,
      "source": [
        "class AveragePool2D():\n",
        "\n",
        "  def __init__(self, P):\n",
        "    self.P = P\n",
        "    self.PA = None\n",
        "    self.Pindex = None\n",
        "\n",
        "  def forward(self,A):\n",
        "    N,F,OH,OW = A.shape\n",
        "    PS = self.P\n",
        "    PH, PW = int(OH/PS), int(OW/PS)\n",
        "\n",
        "    self.params = N,F,OH,OW,PS,PH,PW\n",
        "\n",
        "    # Pooling filter\n",
        "    self.PA = np.zeros([N,F,PH,PW])\n",
        "\n",
        "    for n in range(N):\n",
        "      # Output channels\n",
        "      for ch in range(F):\n",
        "        # Vertical slide\n",
        "        for row in range(PH):\n",
        "          # Horizontal slide\n",
        "          for col in range(PW):\n",
        "            self.PA[n,ch,row,col] = np.mean(A[n,ch,row*PS:row*PS+PS,col*PS:col*PS+PS])\n",
        "\n",
        "    return self.PA\n",
        "\n",
        "  def backward(self,dA):\n",
        "\n",
        "    N,F,OH,OW,PS,PH,PW = self.params\n",
        "    dP = np.zeros([N,F,OH,OW])\n",
        "\n",
        "    for n in range(N):\n",
        "      # Output channels\n",
        "      for ch in range(F):\n",
        "        # Vertical slide\n",
        "        for row in range(PH):\n",
        "          # Horizontal slide\n",
        "          for col in range(PW):\n",
        "            tmp = np.zeros((PS*PS))\n",
        "            for i in range(PS*PS):\n",
        "              tmp[i] = dA[n,ch,row,col]/(PS*PS)\n",
        "            dP[n,ch,row*PS:row*PS+PS,col*PS:col*PS+PS] = tmp.reshape(PS,PS)\n",
        "    return dP"
      ],
      "outputs": [],
      "metadata": {
        "id": "Ag79Fy5SRo9F"
      }
    },
    {
      "cell_type": "code",
      "execution_count": 28,
      "source": [
        "X = np.random.randint(0,9,36).reshape(1,1,6,6)\n",
        "print(X)"
      ],
      "outputs": [
        {
          "output_type": "stream",
          "name": "stdout",
          "text": [
            "[[[[6 1 4 7 6 2]\n",
            "   [7 5 0 5 1 4]\n",
            "   [0 5 6 4 4 7]\n",
            "   [4 1 6 3 0 8]\n",
            "   [6 4 1 0 7 8]\n",
            "   [2 2 3 6 8 7]]]]\n"
          ]
        }
      ],
      "metadata": {
        "colab": {
          "base_uri": "https://localhost:8080/"
        },
        "id": "W36Mugx5Sn8n",
        "outputId": "10d543b2-3ef9-4d2d-b957-e4c0b3b4a879"
      }
    },
    {
      "cell_type": "code",
      "execution_count": 29,
      "source": [
        "Pooling = AveragePool2D(P=2)\n",
        "A = Pooling.forward(X)\n",
        "\n",
        "print(A.shape)\n",
        "print(A)"
      ],
      "outputs": [
        {
          "output_type": "stream",
          "name": "stdout",
          "text": [
            "(1, 1, 3, 3)\n",
            "[[[[4.75 4.   3.25]\n",
            "   [2.5  4.75 4.75]\n",
            "   [3.5  2.5  7.5 ]]]]\n"
          ]
        }
      ],
      "metadata": {
        "colab": {
          "base_uri": "https://localhost:8080/"
        },
        "id": "MpNEsNRuSwqC",
        "outputId": "2df773a4-fce6-479b-8637-e1c92078b122"
      }
    },
    {
      "cell_type": "code",
      "execution_count": 30,
      "source": [
        "dA = np.random.randint(0,9,9).reshape(A.shape)\n",
        "print(dA)"
      ],
      "outputs": [
        {
          "output_type": "stream",
          "name": "stdout",
          "text": [
            "[[[[1 0 4]\n",
            "   [1 5 0]\n",
            "   [2 6 7]]]]\n"
          ]
        }
      ],
      "metadata": {
        "colab": {
          "base_uri": "https://localhost:8080/"
        },
        "id": "fS2VLPu-S_p0",
        "outputId": "78cbd3b1-2320-4733-905a-93cc8275e091"
      }
    },
    {
      "cell_type": "code",
      "execution_count": 31,
      "source": [
        "dZ = Pooling.backward(dA)\n",
        "print(dZ)"
      ],
      "outputs": [
        {
          "output_type": "stream",
          "name": "stdout",
          "text": [
            "[[[[0.25 0.25 0.   0.   1.   1.  ]\n",
            "   [0.25 0.25 0.   0.   1.   1.  ]\n",
            "   [0.25 0.25 1.25 1.25 0.   0.  ]\n",
            "   [0.25 0.25 1.25 1.25 0.   0.  ]\n",
            "   [0.5  0.5  1.5  1.5  1.75 1.75]\n",
            "   [0.5  0.5  1.5  1.5  1.75 1.75]]]]\n"
          ]
        }
      ],
      "metadata": {
        "colab": {
          "base_uri": "https://localhost:8080/"
        },
        "id": "qhQXGIVwTHK4",
        "outputId": "16598c49-5b4a-4342-de96-78a513c43eaf"
      }
    },
    {
      "cell_type": "markdown",
      "source": [
        "## [Problem 5] Smoothing\n",
        "\n",
        "Create a Flatten class for smoothing.\n",
        "\n",
        "In the forward direction, the three dimensions of channel, height and width are reshaped to one dimension. The values are recorded and reshaped again in the backward direction.\n",
        "\n",
        "By interposing this class of smoothing, we can create an array suitable for all the combined layers before the output."
      ],
      "metadata": {
        "id": "tRJ23aukmiAN"
      }
    },
    {
      "cell_type": "code",
      "execution_count": 32,
      "source": [
        "class Flatten:\n",
        "  def __init__(self,):\n",
        "    pass\n",
        "  def forward(self,X):\n",
        "    self.shape = X.shape\n",
        "    return X.reshape(len(X),-1)\n",
        "  def backward(self,X):\n",
        "    return X.reshape(self.shape)"
      ],
      "outputs": [],
      "metadata": {
        "id": "88drgYSDTNid"
      }
    },
    {
      "cell_type": "code",
      "execution_count": 33,
      "source": [
        "TEST = np.zeros([20,2,5,5])\n",
        "flt = Flatten()\n",
        "flat_forward = flt.forward(TEST)\n",
        "print('Forward_shape:', flat_forward.shape)\n",
        "print('Backward_shape:', flt.backward(flat_forward).shape)"
      ],
      "outputs": [
        {
          "output_type": "stream",
          "name": "stdout",
          "text": [
            "Forward_shape: (20, 50)\n",
            "Backward_shape: (20, 2, 5, 5)\n"
          ]
        }
      ],
      "metadata": {
        "colab": {
          "base_uri": "https://localhost:8080/"
        },
        "id": "flLzJPwGm3z5",
        "outputId": "e83106de-3b2b-4a75-dca3-6aea99b70d57"
      }
    },
    {
      "cell_type": "markdown",
      "source": [
        "## [Problem 6] Learning and estimation\n",
        "\n",
        "Use the created Conv2d to train and estimate MNIST and calculate the Accuracy.\n",
        "\n",
        "Aim to move first, even if the accuracy is low."
      ],
      "metadata": {
        "id": "AEVfhGY5qKWP"
      }
    },
    {
      "cell_type": "code",
      "execution_count": 34,
      "source": [
        "# Scratch CNN\n",
        "class Scratch2dCNNClacssifier():\n",
        "  \"\"\"\n",
        "  N-Layer Convolutional Neural Network Classifier\n",
        "\n",
        "  Parameters\n",
        "  ==========\n",
        "  self.n_epoch: epoch number\n",
        "  self.n_batch: Number of batches\n",
        "  self.verbose: Visualizing the learning process\n",
        "  Attributes\n",
        "  ==========\n",
        "  \"\"\"\n",
        "  def __init__(self, NN, CNN, n_epoch=5, n_batch=1, verbose=False):\n",
        "    # Parameters\n",
        "    self.n_epoch = n_epoch\n",
        "    self.n_batch = n_batch \n",
        "    self.verbose = verbose\n",
        "    self.log_loss = np.zeros(self.n_epoch)\n",
        "    self.log_acc = np.zeros(self.n_epoch)\n",
        "    self.NN = NN\n",
        "    self.CNN = CNN\n",
        "\n",
        "  def loss_function(self,y,yt):\n",
        "    delta = 1e-7\n",
        "    return -np.mean(yt*np.log(y+delta))\n",
        "\n",
        "  def accuracy(self, Z, Y):\n",
        "    return accuracy_score(Y, Z)\n",
        "\n",
        "  def predict(self, X):\n",
        "      \"\"\"\n",
        "      Estimate using a neural network classifier\n",
        "\n",
        "      Parameters\n",
        "      ==========\n",
        "      X: ndarray of the following form, shape (n_samples, n_features)\n",
        "        Sample\n",
        "      \n",
        "      Returns\n",
        "      ==========\n",
        "         ndarray of the following form, shape (n_samples, 1)\n",
        "         Estimation results\n",
        "      \"\"\"\n",
        "      pred_data = X[:,np.newaxis,:]\n",
        "\n",
        "      # Conv\n",
        "      for layer in range(len(self.CNN)):\n",
        "        pred_data = self.CNN[layer].forward(pred_data)\n",
        "      \n",
        "      pred_data = flt.forward(pred_data)\n",
        "\n",
        "      for layer in range(len(self.NN)):\n",
        "        pred_data = self.NN[layer].forward(pred_data)\n",
        "\n",
        "      return np.argmax(pred_data, axis=1)\n",
        "\n",
        "  def fit(self, X, y, X_val=False, y_val=False):\n",
        "    \"\"\"\n",
        "    Train a neural network classifier.\n",
        "\n",
        "    Parameters\n",
        "    ==========\n",
        "    X: ndarray of the following form, shape (n_samples, n_features)\n",
        "      Features of training data\n",
        "    y: ndarray of the following form, shape (n_samples, )\n",
        "      Correct answer value of training data\n",
        "    X_val: ndarray of the following form, shape (n_samples, n_features)\n",
        "      Features of validation data\n",
        "    y_val: ndarray of the following form, shape (n_samples, )\n",
        "      Correct value of validation data\n",
        "    \"\"\"\n",
        "    for epoch in range(self.n_epoch):\n",
        "      # Mini-batch processing \n",
        "      get_mini_batch = GetMiniBatch(X, y, batch_size=self.n_batch)\n",
        "\n",
        "      self.loss = 0\n",
        "      for mini_X_train, mini_y_train in get_mini_batch:\n",
        "\n",
        "        # Forward propagation\n",
        "        forward_data = mini_X_train[:,np.newaxis,:,:]\n",
        "\n",
        "        # Conv\n",
        "        for layer in range(len(self.CNN)):\n",
        "          forward_data = self.CNN[layer].forward(forward_data)\n",
        "        \n",
        "        # Flatten\n",
        "        flt = Flatten()\n",
        "        forward_data = flt.forward(forward_data)\n",
        "\n",
        "        # NN\n",
        "        for layer in range(len(self.NN)):\n",
        "          forward_data = self.NN[layer].forward(forward_data)\n",
        "\n",
        "        # Predicted value\n",
        "        Z = forward_data\n",
        "\n",
        "        # Back propagation\n",
        "        backward_data = (Z - mini_y_train)/self.n_batch\n",
        "        for layer in range(len(self.NN)-1,-1,-1):\n",
        "          backward_data = self.NN[layer].backward(backward_data)\n",
        "        \n",
        "        backward_data = flt.backward(backward_data)\n",
        "\n",
        "        for layer in range(len(self.CNN)-1,-1,-1):\n",
        "          backward_data = self.CNN[layer].backward(backward_data)\n",
        "        \n",
        "        # Loss function\n",
        "        self.loss += self.loss_function(Z, mini_y_train)\n",
        "\n",
        "      self.log_loss[epoch] = self.loss/len(get_mini_batch)\n",
        "      self.log_acc[epoch] = self.accuracy(self.predict(X), np.argmax(y, axis=1))\n",
        "      if self.verbose:\n",
        "        print(\"Epoch: {}, loss: {}, acc: {}\".format(epoch, self.log_loss[epoch], self.log_acc[epoch]))"
      ],
      "outputs": [],
      "metadata": {
        "id": "nW8eZBojnWIU"
      }
    },
    {
      "cell_type": "code",
      "execution_count": 58,
      "source": [
        "# All bonding layers\n",
        "NN = {0:FC(15680, 400, HeInitializer(), AdaGrad(0.01), ReLU()),\n",
        "      1:FC(400, 200, HeInitializer(), AdaGrad(0.01), ReLU()),\n",
        "      2:FC(200, 10, SimpleInitializer(0.01), AdaGrad(0.01), Softmax()),\n",
        "      }"
      ],
      "outputs": [],
      "metadata": {
        "id": "B_Pk6gtbtq2V"
      }
    },
    {
      "cell_type": "code",
      "execution_count": 59,
      "source": [
        "CNN = {0:SimpleConv2d(F=20, C=1, FH=3, FW=3, P=1, S=1,\n",
        "                      initializer=SimpleInitializerConv2d(),\n",
        "                      optimizer=SGD(),\n",
        "                      activation=ReLU()),\n",
        "      }"
      ],
      "outputs": [],
      "metadata": {
        "id": "Kncujhmqt6AV"
      }
    },
    {
      "cell_type": "code",
      "execution_count": 60,
      "source": [
        "cnn1 = Scratch2dCNNClacssifier(NN=NN,CNN=CNN,n_epoch=10,n_batch=200,verbose=True)\n",
        "\n",
        "cnn1.fit(X_train[0:1000], y_train[0:1000])"
      ],
      "outputs": [
        {
          "output_type": "stream",
          "name": "stdout",
          "text": [
            "Epoch: 0, loss: 0.2159751298319419, acc: 0.195\n",
            "Epoch: 1, loss: 0.22476108163653724, acc: 0.156\n",
            "Epoch: 2, loss: 0.26479068828568664, acc: 0.269\n",
            "Epoch: 3, loss: 0.18984965922165314, acc: 0.614\n",
            "Epoch: 4, loss: 0.15598749013021695, acc: 0.668\n",
            "Epoch: 5, loss: 0.09375859671773108, acc: 0.796\n",
            "Epoch: 6, loss: 0.06950852019020318, acc: 0.808\n",
            "Epoch: 7, loss: 0.05977793275937817, acc: 0.862\n",
            "Epoch: 8, loss: 0.044048237023016495, acc: 0.894\n",
            "Epoch: 9, loss: 0.039022737333340884, acc: 0.867\n"
          ]
        }
      ],
      "metadata": {
        "colab": {
          "base_uri": "https://localhost:8080/"
        },
        "id": "0KABYMBFuO7Y",
        "outputId": "4418b77c-e757-411e-930e-ad34af5e00d2"
      }
    },
    {
      "cell_type": "code",
      "execution_count": 61,
      "source": [
        "# Estimate\n",
        "y_pred = cnn1.predict(X_valid[0:100])\n",
        "\n",
        "# Positive solution rate\n",
        "accuracy = accuracy_score(np.argmax(y_valid[0:100],axis=1), y_pred)\n",
        "print('accuracy:{:.3f}'.format(accuracy))"
      ],
      "outputs": [
        {
          "output_type": "stream",
          "name": "stdout",
          "text": [
            "accuracy:0.850\n"
          ]
        }
      ],
      "metadata": {
        "colab": {
          "base_uri": "https://localhost:8080/"
        },
        "id": "VLhMOy9wuzsE",
        "outputId": "7d313d07-7d11-4aeb-c452-b55c51bf24b8"
      }
    },
    {
      "cell_type": "code",
      "execution_count": 62,
      "source": [
        "# Visualize the loss function for each epoch\n",
        "plt.rcParams[\"font.size\"] = 20\n",
        "fig = plt.subplots(figsize=(16,6))\n",
        "plt.subplot(1,2,1)\n",
        "plt.title(\"LOSS\")\n",
        "plt.plot(cnn1.log_loss, 'bo--')\n",
        "\n",
        "plt.subplot(1,2,2)\n",
        "plt.title(\"ACC\")\n",
        "plt.plot(cnn1.log_acc, 'rs--')"
      ],
      "outputs": [
        {
          "output_type": "execute_result",
          "data": {
            "text/plain": [
              "[<matplotlib.lines.Line2D at 0x7fd6160cab38>]"
            ]
          },
          "metadata": {},
          "execution_count": 62
        },
        {
          "output_type": "display_data",
          "data": {
            "image/png": "[encoded data removed]",
            "text/plain": [
              "<Figure size 1152x432 with 2 Axes>"
            ]
          },
          "metadata": {
            "needs_background": "light"
          }
        }
      ],
      "metadata": {
        "colab": {
          "base_uri": "https://localhost:8080/",
          "height": 425
        },
        "id": "vr6Wnn8H1Qj7",
        "outputId": "a9e85b44-fb90-4268-cdd9-8c853ba34831"
      }
    },
    {
      "cell_type": "markdown",
      "source": [
        "## [Problem 7] (Advance assignment) LeNet\n",
        "\n",
        "When performing image recognition with CNNs, it is common to use well-known structures instead of considering filter size and number of layers from scratch. The most historically important one is LeNet from 1998, although it is no longer in practical use today. You can reproduce this structure and run it against MNIST to calculate the Accuracy.\n",
        "\n",
        "Y. LeCun, L. Bottou, Y. Bengio, and P. Haffner. Gradient-based learning applied to document recognition. Proceedings of the IEEE, 86(11):2278–2324, 1998."
      ],
      "metadata": {
        "id": "Bi5iS0xZ1dSP"
      }
    },
    {
      "cell_type": "code",
      "execution_count": 35,
      "source": [
        "# LeNet structure\n",
        "# Convolutional layers\n",
        "LeNetCNN = {0:SimpleConv2d(F=6, C=1, FH=5, FW=5, P=2, S=1,\n",
        "                      initializer=SimpleInitializerConv2d(),\n",
        "                      optimizer=SGD(),\n",
        "                      activation=ReLU()),\n",
        "       1:MaxPool2D(P=2),\n",
        "       2:SimpleConv2d(F=16, C=6, FH=5, FW=5, P=2, S=1,\n",
        "                      initializer=SimpleInitializerConv2d(),\n",
        "                      optimizer=SGD(),\n",
        "                      activation=ReLU()),\n",
        "       3:MaxPool2D(P=2),\n",
        "      }\n",
        "\n",
        "# All bonding layers\n",
        "LeNetNN = {0:FC(784, 120, HeInitializer(), AdaGrad(0.01), ReLU()),\n",
        "           1:FC(120, 84, HeInitializer(), AdaGrad(0.01), ReLU()),\n",
        "           2:FC(84, 10, SimpleInitializer(0.01), AdaGrad(0.01), Softmax()),\n",
        "          }\n",
        "# Learning        \n",
        "LeNet = Scratch2dCNNClacssifier(NN=LeNetNN,CNN=LeNetCNN,n_epoch=10,n_batch=20,verbose=True)\n",
        "\n",
        "LeNet.fit(X_train, y_train)"
      ],
      "outputs": [
        {
          "output_type": "stream",
          "name": "stdout",
          "text": [
            "Epoch: 0, loss: 0.03429407475963432, acc: 0.9624375\n",
            "Epoch: 1, loss: 0.010251793423887656, acc: 0.9732708333333333\n",
            "Epoch: 2, loss: 0.007956608859658801, acc: 0.978375\n",
            "Epoch: 3, loss: 0.006896973897070572, acc: 0.9835416666666666\n",
            "Epoch: 4, loss: 0.006085236742712387, acc: 0.9843333333333333\n",
            "Epoch: 5, loss: 0.00558011221205359, acc: 0.9867291666666667\n",
            "Epoch: 6, loss: 0.005389015088764252, acc: 0.9852708333333333\n",
            "Epoch: 7, loss: 0.005188783477124724, acc: 0.976875\n",
            "Epoch: 8, loss: 0.0049860324274385815, acc: 0.9856458333333333\n",
            "Epoch: 9, loss: 0.004569879949898329, acc: 0.9854375\n"
          ]
        }
      ],
      "metadata": {
        "colab": {
          "base_uri": "https://localhost:8080/",
          "height": 382
        },
        "id": "6JROTkjc1XGe",
        "outputId": "37cc1e81-fc46-47ca-a510-aea0fbdece1e"
      }
    },
    {
      "cell_type": "code",
      "execution_count": 36,
      "source": [
        "# Estimate\n",
        "y_pred_LeNet = LeNet.predict(X_valid)\n",
        "\n",
        "# Positive solution rate\n",
        "accuracy = accuracy_score(np.argmax(y_valid,axis=1), y_pred_LeNet)\n",
        "print('accuracy:{:.3f}'.format(accuracy))"
      ],
      "outputs": [
        {
          "output_type": "stream",
          "name": "stdout",
          "text": [
            "accuracy:0.978\n"
          ]
        }
      ],
      "metadata": {
        "id": "BHu3p_8m3Gs2"
      }
    },
    {
      "cell_type": "code",
      "execution_count": 37,
      "source": [
        "# Visualize the loss function for each epoch\n",
        "plt.rcParams[\"font.size\"] = 20\n",
        "fig = plt.subplots(figsize=(16,6))\n",
        "plt.subplot(1,2,1)\n",
        "plt.title(\"LOSS\")\n",
        "plt.plot(LeNet.log_loss, 'bo--')\n",
        "\n",
        "plt.subplot(1,2,2)\n",
        "plt.title(\"ACC\")\n",
        "plt.plot(LeNet.log_acc, 'rs--')"
      ],
      "outputs": [
        {
          "output_type": "execute_result",
          "data": {
            "text/plain": [
              "[<matplotlib.lines.Line2D at 0x7fe8b455b940>]"
            ]
          },
          "metadata": {},
          "execution_count": 37
        },
        {
          "output_type": "display_data",
          "data": {
            "image/png": "[encoded data removed]",
            "text/plain": [
              "<Figure size 1152x432 with 2 Axes>"
            ]
          },
          "metadata": {
            "needs_background": "light"
          }
        }
      ],
      "metadata": {
        "id": "mwOd535j9TgE"
      }
    },
    {
      "cell_type": "markdown",
      "source": [
        "## [Problem 8] (Advance assignment) Survey of famous image recognition models\n",
        "\n",
        "Typical CNN structures include AlexNet (2012) and VGG16 (2014). Many of these are already available in frameworks.\n",
        "\n",
        "Please do a brief research on what they are and summarize them. It is a good idea to at least look at the names.\n",
        "\n",
        "《Reference》\n",
        "\n",
        "Applications-Keras Documentation"
      ],
      "metadata": {
        "id": "p3tPjNcI9gOZ"
      }
    },
    {
      "cell_type": "markdown",
      "source": [
        "Famous CNN structures\n",
        "<li> AlexNet(2012)\n",
        "<li> ZFNet(2013)\n",
        "<li> GoogleNet(2014)\n",
        "<li> VGGNet(2014)\n",
        "<li> Resnet(2015)\n",
        "<li> SENet(2017)"
      ],
      "metadata": {
        "id": "JRk2mLDr9lTv"
      }
    },
    {
      "cell_type": "markdown",
      "source": [
        "## [Problem 9] Calculation of output size and number of parameters\n",
        "\n",
        "When building a CNN model, it is necessary to pre-compute the number of features at the stage of input to the full join layer.\n",
        "\n",
        "Also, when dealing with huge models, the number of parameters becomes essential due to memory and calculation speed. The framework can show you the number of parameters in each layer, but you need to understand the meaning of the parameters to be able to adjust them appropriately.\n",
        "\n",
        "Calculate the output size and the number of parameters for the following three convolution layers. For the number of parameters, please also consider the bias term.\n",
        "\n",
        "1.\n",
        "\n",
        "    Input size : 144 x 144, 3 channels\n",
        "    Filter size: 3 x 3, 6 channels\n",
        "    Stride : 1\n",
        "    Padding: none\n",
        "-> Output size: 6x142x142, Number of parameters: 168 (Weight 162, Bias 6)\n",
        "\n",
        "2.\n",
        "\n",
        "    Input size : 60x60, 24 channels\n",
        "    Filter size: 3 x 3, 48 channels\n",
        "    Stride : 1\n",
        "    Padding: none\n",
        "-> Output size: 48x58x58, Number of parameters: 10416(Weight 10368, Bias 48)\n",
        "\n",
        "3.\n",
        "\n",
        "    Input size : 20x20, 10 channels\n",
        "    Filter size: 3 x 3, 20 channels\n",
        "    Stride: 2\n",
        "    Padding: none\n",
        "-> Output size: 20x9x9, Number of parameters: 1820(Weight 1800, Bias 20)\n",
        "\n",
        "\n",
        "The last example is a case where you can't get the convolution just right. The framework sometimes does not look at the extra pixels, so consider that when calculating. This is an example of why such a setting is not desirable, as it will result in missing edges."
      ],
      "metadata": {
        "id": "w6KO7rVt-RS7"
      }
    },
    {
      "cell_type": "markdown",
      "source": [
        "## [Problem 10] (Advance assignment) Survey on filter size\n",
        "\n",
        "Convolutional layers have a hyperparameter called filter size, which is mostly used nowadays in 2D convolutional layers: 3×3 and 1×1. Please look up each of the following and explain them in your own way.\n",
        "\n",
        "<li> Why 3×3 filters are commonly used instead of larger ones such as 7×7\n",
        "-> Because the number of parameters would be huge. (Size squared)\n",
        "Because the purpose of convolution is to extract features (including positional relationships) between input parameters. Increasing the filter size is contrary to the purpose\n",
        "<li> The effect of a 1 x 1 filter with no height or width direction\n",
        "-> By reducing the number of output channels from the input channels, the number of parameters can be reduced\n",
        "-> If the number is odd, the center of the filter is defined, but if the number is even, the center is not defined\n"
      ],
      "metadata": {
        "id": "9c9Z9SkU_I6a"
      }
    },
    {
      "cell_type": "code",
      "execution_count": null,
      "source": [],
      "outputs": [],
      "metadata": {
        "id": "Oms_r-vY-OPm"
      }
    }
  ]
}