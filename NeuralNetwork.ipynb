{
 "cells": [
  {
   "cell_type": "markdown",
   "metadata": {},
   "source": [
    "# Neural Network\n",
    "## Name: Nguyen Anh Hoang Phuc"
   ]
  },
  {
   "cell_type": "code",
   "execution_count": 1,
   "metadata": {},
   "outputs": [],
   "source": [
    "import numpy as np \n",
    "import matplotlib.pyplot as plt"
   ]
  },
  {
   "cell_type": "code",
   "execution_count": 2,
   "metadata": {},
   "outputs": [],
   "source": [
    "# Evaluation index\n",
    "from sklearn.metrics import accuracy_score\n",
    "from sklearn.metrics import precision_score\n",
    "from sklearn.metrics import recall_score\n",
    "from sklearn.metrics import f1_score"
   ]
  },
  {
   "cell_type": "markdown",
   "metadata": {},
   "source": [
    "## MNIST dataset\n",
    "The MNIST dataset is used to validate the scratch neural network. You can download it from various libraries and websites, but here we use Keras, a deep learning framework. The following code will download the dataset and extract it for you.\n",
    "\n",
    "<< What is MNIST? 》\n",
    "\n",
    "This is a standard data set for image classification and handwritten number recognition. This dataset contains 60,000 training and 10,000 test 28x28 pixel black and white images, and labels for which numbers are from 0 to 9.\n",
    "\n",
    "<< What is image data? 》\n",
    "\n",
    "A digital image is a collection of points, called pixels. Generally, for black and white images, pixels contain values from 0 to 255. On the other hand, if it is a color image, the values of 0 to 255 corresponding to R (red), G (green), and B (blue) are included. In machine learning, each value from 0 to 255 is treated as a feature quantity. Since 0 to 255 is the range that can be represented by an unsigned 8-bit integer, NumPy can be stored as a \"uint8\" type variable."
   ]
  },
  {
   "cell_type": "code",
   "execution_count": 3,
   "metadata": {},
   "outputs": [],
   "source": [
    "# Code to download the dataset\n",
    "from keras.datasets import mnist\n",
    "(X_train, y_train), (X_test, y_test) = mnist.load_data()"
   ]
  },
  {
   "cell_type": "markdown",
   "metadata": {},
   "source": [
    "## Check the dataset\n",
    "Let's see what kind of data it is."
   ]
  },
  {
   "cell_type": "code",
   "execution_count": 4,
   "metadata": {},
   "outputs": [
    {
     "name": "stdout",
     "output_type": "stream",
     "text": [
      "(60000, 28, 28)\n",
      "(10000, 28, 28)\n",
      "uint8\n"
     ]
    }
   ],
   "source": [
    "print(X_train.shape) # (60000, 28, 28)\n",
    "print(X_test.shape) # (10000, 28, 28)\n",
    "print(X_train[0].dtype) # uint8\n",
    "# print(X_train[0])"
   ]
  },
  {
   "cell_type": "markdown",
   "metadata": {},
   "source": [
    "## Smoothing\n",
    "Each image of (1, 28, 28) is transformed into (1, 784). This is the form that we will use in the machine learning methods we have learned so far, and in the neural network we will use in this article, which is a fully coupled layer only. The fact that all pixels are in a single row is described as flatten."
   ]
  },
  {
   "cell_type": "code",
   "execution_count": 5,
   "metadata": {},
   "outputs": [
    {
     "name": "stdout",
     "output_type": "stream",
     "text": [
      "(60000, 784)\n",
      "(10000, 784)\n"
     ]
    }
   ],
   "source": [
    "X_train = X_train.reshape(-1, 784)\n",
    "X_test = X_test.reshape(-1, 784)\n",
    "print(X_train.shape) \n",
    "print(X_test.shape)"
   ]
  },
  {
   "cell_type": "markdown",
   "metadata": {},
   "source": [
    "<< Supplement >>\n",
    "\n",
    "So far in our study of machine learning, we have referred to the number of features as \"dimensions\". From that point of view, MNIST is 784 dimensions of data. On the other hand, the state that NumPy's shape is (784,) is also called 1D array. If the shape is (28, 28) which has information of height and width as an image, it is 2 dimensional array. From this point of view, it is two-dimensional data. If it is a colour image, then it is (28, 28, 3), which is a 3D array. From the previous point of view, it is a 3-dimensional data. However, from the point of view of a flat image, whether in black and white or colour, it is not three-dimensional data, it is two-dimensional data. Note that when dealing with image data, the word \"dimension\" is used in this way with multiple connotations.\n",
    "\n",
    "## Visualization of image data\n",
    "Visualize the image data. Let's useplt.imshow."
   ]
  },
  {
   "cell_type": "code",
   "execution_count": 6,
   "metadata": {},
   "outputs": [
    {
     "data": {
      "image/png": "[encoded data removed]",
      "text/plain": [
       "<Figure size 432x288 with 1 Axes>"
      ]
     },
     "metadata": {
      "needs_background": "light"
     },
     "output_type": "display_data"
    }
   ],
   "source": [
    "import matplotlib.pyplot as plt\n",
    "%matplotlib inline\n",
    "index = 0\n",
    "image = X_train[index].reshape(28,28)\n",
    "# X_train[index]: (784,)\n",
    "# image: (28, 28)\n",
    "plt.imshow(image, 'gray')\n",
    "plt.title('label : {}'.format(y_train[index]))\n",
    "plt.show()"
   ]
  },
  {
   "cell_type": "markdown",
   "metadata": {},
   "source": [
    "<< Developmental topics >>\n",
    "\n",
    "Image data is usually held as an unsigned 8-bit integer of type uint8, butplt.imshowcan display a more flexible array as an image. For example, the following floating point of type float64 with a negative value will not cause an error and will be displayed in exactly the same way as before.\n",
    "\n",
    "index = 0\n",
    "image = X_train[index].reshape(28,28)\n",
    "image = image.astype(np.float) # Convert to float type\n",
    "image -= 105.35 # Intentionally try to create a negative decimal value\n",
    "plt.imshow(image, 'gray')\n",
    "plt.title('label : {}'.format(y_train[index]))\n",
    "plt.show()\n",
    "print(image) # Check the value\n",
    "\n",
    "This is because it is designed to automatically convert a value to an integer from 0 to 255 for processing. Even if it is a uint8 type, if the minimum value is 0 and the maximum value is not 255, the hue will be strange. To prevent this, enter the argument as follows.\n",
    "\n",
    "plt.imshow(image, 'gray', vmin = 0, vmax = 255)\n",
    "\n",
    "This automatic scaling can produce unexpected results in image-related libraries, so be sure to check when using the new method.\n",
    "\n",
    "## Preprocessing\n",
    "An image is represented by a uint8 type of 0 to 255, but in machine learning it will be handled as a float type of 0 to 1. It can be converted with the following code."
   ]
  },
  {
   "cell_type": "code",
   "execution_count": 7,
   "metadata": {},
   "outputs": [
    {
     "name": "stdout",
     "output_type": "stream",
     "text": [
      "1.0\n",
      "0.0\n"
     ]
    }
   ],
   "source": [
    "X_train = X_train.astype(np.float)\n",
    "X_test = X_test.astype(np.float)\n",
    "X_train /= 255\n",
    "X_test /= 255\n",
    "print(X_train.max()) # 1.0\n",
    "print(X_train.min()) # 0.0"
   ]
  },
  {
   "cell_type": "markdown",
   "metadata": {},
   "source": [
    "Also, the correct label is an integer between 0 and 9, which is converted to one-hot expression for multi-class classification in neural networks. scikit-learn'sOneHotEncoderis used in the code below. The value in this one-hot representation is treated as a float because it indicates the probability of being that label."
   ]
  },
  {
   "cell_type": "code",
   "execution_count": 8,
   "metadata": {},
   "outputs": [
    {
     "name": "stdout",
     "output_type": "stream",
     "text": [
      "(48000, 784)\n",
      "(12000, 784)\n"
     ]
    }
   ],
   "source": [
    "# Split into training data and validation data\n",
    "from sklearn.model_selection import train_test_split\n",
    "\n",
    "X_train, X_val, y_train, y_val = train_test_split(X_train, y_train, test_size=0.2)\n",
    "print(X_train.shape) # (48000, 784)\n",
    "print(X_val.shape) # (12000, 784)"
   ]
  },
  {
   "cell_type": "code",
   "execution_count": 9,
   "metadata": {},
   "outputs": [
    {
     "name": "stdout",
     "output_type": "stream",
     "text": [
      "(48000,)\n",
      "(48000, 10)\n",
      "float64\n"
     ]
    }
   ],
   "source": [
    "from sklearn.preprocessing import OneHotEncoder\n",
    "\n",
    "enc = OneHotEncoder(handle_unknown='ignore', sparse=False)\n",
    "y_train_one_hot = enc.fit_transform(y_train[:, np.newaxis])\n",
    "y_val_one_hot = enc.transform(y_val[:, np.newaxis])\n",
    "print(y_train.shape) # (60000,)\n",
    "print(y_train_one_hot.shape) # (60000, 10)\n",
    "print(y_train_one_hot.dtype) # float64"
   ]
  },
  {
   "cell_type": "markdown",
   "metadata": {},
   "source": [
    "In addition, divide 20% of the 60,000 training data as verification data. The training data will be 48,000 and the verification data will be 12,000."
   ]
  },
  {
   "cell_type": "markdown",
   "metadata": {},
   "source": [
    "## Scratch Neural Network"
   ]
  },
  {
   "cell_type": "markdown",
   "metadata": {},
   "source": [
    "We will create a class of neural network from scratch. We will implement the algorithm using only the minimum library such as NumPy.\n",
    "\n",
    "This time, we will create a three-layer neural network for multi-class classification. Learn the basics of neural networks after fixing the number of layers. In the next Sprint, we will make the design that layers can be changed freely.\n",
    "\n",
    "Below is a template. Add code to this ScratchSimpleNeuralNetrowkClassifier class."
   ]
  },
  {
   "cell_type": "code",
   "execution_count": 10,
   "metadata": {},
   "outputs": [],
   "source": [
    "class ScratchSimpleNeuralNetrowkClassifier():\n",
    "    \"\"\"\n",
    "    Simple three-layer neural network classifier\n",
    "    Parameters\n",
    "    ----------\n",
    "    Attributes\n",
    "    ----------\n",
    "    \"\"\"\n",
    "    def __init__(self, n_epoch=50, n_features=784, n_nodes1=400, n_nodes2=200, n_output=10, sigma=0.01, n_batch=20, activate_function_key='tanh', lr=0.01, verbose = False):\n",
    "        \n",
    "        self.n_epoch = n_epoch\n",
    "        self.n_features = n_features\n",
    "        self.n_nodes1 = n_nodes1\n",
    "        self.n_nodes2 = n_nodes2\n",
    "        self.n_output = n_output\n",
    "        self.sigma = sigma\n",
    "        self.n_batch = n_batch\n",
    "        self.activate_function_key = activate_function_key\n",
    "        self.lr = lr\n",
    "        self.verbose = verbose\n",
    "\n",
    "    def initial_weight(self):\n",
    "        self.W1 = self.sigma * np.random.randn(self.n_features, self.n_nodes1)\n",
    "        self.b1 = np.zeros(self.n_nodes1)\n",
    "        self.W2 = self.sigma * np.random.randn(self.n_nodes1, self.n_nodes2)\n",
    "        self.b2 = np.zeros(self.n_nodes2)\n",
    "        self.W3 = self.sigma * np.random.randn(self.n_nodes2, self.n_output)\n",
    "        self.b3 = np.zeros(self.n_output)\n",
    "\n",
    "    def activation_function(self, X):\n",
    "        if self.activate_function_key == 'sigmoid':\n",
    "            return 1/(1+np.exp(-X))\n",
    "        elif self.activate_function_key == 'tanh':\n",
    "            return np.tanh(X)\n",
    "\n",
    "    def softmax(self, X):\n",
    "        return np.exp(X-np.max(X))/np.sum(np.exp(X-np.max(X)), axis=1, keepdims=True)\n",
    "\n",
    "    # Problem 3\n",
    "    def loss_function(self,y,yt):\n",
    "        delta = 1e-2\n",
    "        return -np.mean(yt*np.log(y+delta))\n",
    "\n",
    "    def gradient_descent(self,X,y,yt):\n",
    "\n",
    "        # 3rd layer\n",
    "        delta_a3 = (y-yt)/self.n_batch\n",
    "        delta_b3 = np.sum(delta_a3, axis=0)\n",
    "        delta_W3 = np.dot(self.z2.T,delta_a3)\n",
    "        delta_z2 = np.dot(delta_a3, self.W3.T)\n",
    "\n",
    "        self.W3 -= self.lr*delta_W3 \n",
    "        self.b3 -= self.lr*delta_b3 \n",
    "\n",
    "        # 2nd layer\n",
    "        if self.activate_function_key == 'sigmoid':\n",
    "            delta_a2 = delta_z2*(1-self.activation_function(self.z2))*self.activation_function(self.z2)\n",
    "\n",
    "        elif self.activate_function_key == 'tanh':\n",
    "            delta_a2 = delta_z2*(1-np.tanh(self.z2)**2)\n",
    "        \n",
    "        delta_b2 = np.sum(delta_a2, axis=0)\n",
    "        delta_W2 = np.dot(self.z1.T, delta_a2)\n",
    "        delta_z1 = np.dot(delta_a2, self.W2.T)\n",
    "\n",
    "        self.W2 -= self.lr*delta_W2 \n",
    "        self.b2 -= self.lr*delta_b2 \n",
    "\n",
    "        # 1st layer\n",
    "        if self.activate_function_key == 'sigmoid':\n",
    "            delta_a1 = delta_z1*(1-self.activation_function(self.z1))*self.activation_function(self.z1)\n",
    "\n",
    "        elif self.activate_function_key == 'tanh':\n",
    "            delta_a1 = delta_z1*(1-np.tanh(self.z1)**2)\n",
    "\n",
    "        delta_b1 = np.sum(delta_a1, axis=0)\n",
    "        delta_W1 = np.dot(X.T, delta_a1)\n",
    "\n",
    "        self.W1 -= self.lr*delta_W1 \n",
    "        self.b1 -= self.lr*delta_b1 \n",
    "        \n",
    "    def fit(self, X, y, X_val=None, y_val=None):\n",
    "        \"\"\"\n",
    "        Learn a neural network classifier.\n",
    "        Parameters\n",
    "        ----------\n",
    "        X : The following forms of ndarray, shape (n_samples, n_features)\n",
    "            Features of training data\n",
    "        y : The following form of ndarray, shape (n_samples,)\n",
    "            Correct answer value of training data\n",
    "        X_val : The following forms of ndarray, shape (n_samples, n_features)\n",
    "            Features of verification data\n",
    "        y_val : The following form of ndarray, shape (n_samples,)\n",
    "            Correct value of verification data\n",
    "        \"\"\"\n",
    "        # Initialize weights\n",
    "        self.initial_weight()\n",
    "\n",
    "        # List to record the loss_function for each epoch\n",
    "        self.log_loss = []\n",
    "        self.log_loss_val = []\n",
    "        \n",
    "        # Evaluate the estimation of Train data per epoch: Accuracy\n",
    "        self.log_acc = []\n",
    "        self.log_acc_val = []\n",
    "\n",
    "        for epoch in range(self.n_epoch):\n",
    "            # Mini-batch processing\n",
    "            get_mini_batch = GetMiniBatch(X, y, batch_size=self.n_batch)\n",
    "\n",
    "            self.loss = 0\n",
    "            self.true_y = np.array([])\n",
    "            self.pred_y = np.array([])\n",
    "\n",
    "            for mini_X_train, mini_y_train in get_mini_batch:\n",
    "\n",
    "                # 1st layer\n",
    "                self.z1 = self.activation_function(np.dot(mini_X_train, self.W1) + self.b1)\n",
    "\n",
    "                # 2nd layer\n",
    "                self.z2 = self.activation_function(np.dot(self.z1, self.W2) + self.b2)\n",
    "\n",
    "                # 3rd layer (softmax function)\n",
    "                yhat = self.softmax(np.dot(self.z2, self.W3) + self.b3)\n",
    "\n",
    "                # Backpropagation (stochastic gradient descent method)\n",
    "                self.gradient_descent(mini_X_train, yhat, mini_y_train)\n",
    "\n",
    "                # Record correct and estimated values for mini-batch data\n",
    "                self.true_y = np.concatenate([self.true_y, np.argmax(mini_y_train, axis=1)])\n",
    "                self.pred_y = np.concatenate([self.pred_y, np.argmax(yhat, axis=1)])\n",
    "\n",
    "                # Loss function\n",
    "                self.loss += self.loss_function(yhat, mini_y_train)\n",
    "\n",
    "            # Record the loss function for each epoch\n",
    "            self.log_loss.append(self.loss/len(get_mini_batch))\n",
    "\n",
    "            # Accuracy\n",
    "            acc = accuracy_score(self.true_y, self.pred_y)\n",
    "            self.log_acc.append(acc)\n",
    "\n",
    "            # Calculate once Val data has been entered\n",
    "            if (type(X_val) != bool):\n",
    "                # 1st layer\n",
    "                self.z1_val = self.activation_function(np.dot(X_val, self.W1) + self.b1)\n",
    "\n",
    "                # 2nd layer\n",
    "                self.z2_val = self.activation_function(np.dot(self.z1_val, self.W2) + self.b2)\n",
    "\n",
    "                # 3rd layer (softmax function)\n",
    "                yhat_val = self.softmax(np.dot(self.z2_val, self.W3) + self.b3)\n",
    "\n",
    "                # Loss function\n",
    "                self.loss_val = self.loss_function(yhat_val, y_val)\n",
    "                self.log_loss_val.append(self.loss_val)\n",
    "\n",
    "                # Accuracy\n",
    "                acc_val = accuracy_score(np.argmax(y_val, axis=1), np.argmax(yhat_val,axis=1))\n",
    "                self.log_acc_val.append(acc_val)\n",
    "\n",
    "            # When verbose is set to true, output the learning process and other information\n",
    "            if self.verbose:\n",
    "                print(\"epoch:{:>3} loss:{:>8,.3f} acc:{:>5,.3f}\".format(epoch, self.loss/self.n_batch, acc))\n",
    "\n",
    "    def predict(self, X):\n",
    "        \"\"\"\n",
    "        Estimate using a neural network classifier.\n",
    "        Parameters\n",
    "        ----------\n",
    "        X : The following forms of ndarray, shape (n_samples, n_features)\n",
    "            sample\n",
    "        Returns\n",
    "        -------\n",
    "            The following form of ndarray, shape (n_samples, 1)\n",
    "            Estimated result\n",
    "        \"\"\"\n",
    "        # 1st layer\n",
    "        self.pred_z1 = self.activation_function(np.dot(X, self.W1) + self.b1)\n",
    "\n",
    "        # 2nd layer\n",
    "        self.pred_z2 = self.activation_function(np.dot(self.pred_z1, self.W2) + self.b2)\n",
    "\n",
    "        return np.argmax(np.dot(self.pred_z2, self.W3) + self.b3, axis=1)"
   ]
  },
  {
   "cell_type": "markdown",
   "metadata": {},
   "source": [
    "### Mini batch processing\n",
    "In the past, machine learning scratch computed all samples at once. In neural networks, however, it is common to use stochastic gradient descent, where the data is input in chunks. A batch of data is called a mini-batch and the number of samples is called the batch size.​\n",
    "\n",
    "In this case, the batch size is 20. The training data we will use is 48000, so 48000 / 20 means 2400 iterations. In neural networks, this is called 2400 iteration Once all the training data has been viewed, one epoch has been completed. Repeating this epoch several times completes the learning process.\n",
    "\n",
    "We have prepared a simple iterator to achieve this. You can get a mini-batch by calling it with a for statement."
   ]
  },
  {
   "cell_type": "code",
   "execution_count": 11,
   "metadata": {},
   "outputs": [],
   "source": [
    "class GetMiniBatch:\n",
    "    \"\"\"\n",
    "Iterator to get a mini-batch\n",
    "    Parameters\n",
    "    ----------\n",
    "    X : The following forms of ndarray, shape (n_samples, n_features)\n",
    "      Training data \n",
    "    y : The following form of ndarray, shape (n_samples, 1)\n",
    "      Correct answer value\n",
    "    batch_size : int\n",
    "      Batch size\n",
    "    seed : int\n",
    "      NumPy random number seed\n",
    "    \"\"\"\n",
    "    def __init__(self, X, y, batch_size = 20, seed=0):\n",
    "        self.batch_size = batch_size\n",
    "        np.random.seed(seed)\n",
    "        shuffle_index = np.random.permutation(np.arange(X.shape[0]))\n",
    "        self._X = X[shuffle_index]\n",
    "        self._y = y[shuffle_index]\n",
    "        self._stop = np.ceil(X.shape[0]/self.batch_size).astype(np.int)\n",
    "    def __len__(self):\n",
    "        return self._stop\n",
    "    def __getitem__(self,item):\n",
    "        p0 = item*self.batch_size\n",
    "        p1 = item*self.batch_size + self.batch_size\n",
    "        return self._X[p0:p1], self._y[p0:p1]        \n",
    "    def __iter__(self):\n",
    "        self._counter = 0\n",
    "        return self\n",
    "    def __next__(self):\n",
    "        if self._counter >= self._stop:\n",
    "            raise StopIteration()\n",
    "        p0 = self._counter*self.batch_size\n",
    "        p1 = self._counter*self.batch_size + self.batch_size\n",
    "        self._counter += 1\n",
    "        return self._X[p0:p1], self._y[p0:p1]"
   ]
  },
  {
   "cell_type": "markdown",
   "metadata": {},
   "source": [
    "Mini-batch can be retrieved by instantiating this class and using the for statement."
   ]
  },
  {
   "cell_type": "code",
   "execution_count": 12,
   "metadata": {},
   "outputs": [
    {
     "name": "stdout",
     "output_type": "stream",
     "text": [
      "2400\n",
      "(array([[0., 0., 0., ..., 0., 0., 0.],\n",
      "       [0., 0., 0., ..., 0., 0., 0.],\n",
      "       [0., 0., 0., ..., 0., 0., 0.],\n",
      "       ...,\n",
      "       [0., 0., 0., ..., 0., 0., 0.],\n",
      "       [0., 0., 0., ..., 0., 0., 0.],\n",
      "       [0., 0., 0., ..., 0., 0., 0.]]), array([8, 9, 6, 2, 1, 8, 5, 3, 3, 3, 2, 1, 5, 6, 5, 5, 1, 1, 6, 1],\n",
      "      dtype=uint8))\n"
     ]
    }
   ],
   "source": [
    "get_mini_batch = GetMiniBatch(X_train, y_train, batch_size=20)\n",
    "print(len(get_mini_batch)) # 2400\n",
    "print(get_mini_batch[5]) # You can get the 5th mini batch\n",
    "for mini_X_train, mini_y_train in get_mini_batch:\n",
    "    # You can use a mini batch in this for statement\n",
    "    pass"
   ]
  },
  {
   "cell_type": "markdown",
   "metadata": {},
   "source": [
    "## Problem 1 Creating a code to determine the initial weight value\n",
    "\n",
    "Write the code that determines the initial weights for each layer of the neural network.\n",
    "\n",
    "Various methods have been proposed for the initial value of the weight, but this time we will perform a simple initialization using a Gaussian distribution. The same is true for bias.\n",
    "\n",
    "Please refer to the code below. The standard deviation value sigma is a hyperparameter. The evolutionary weight initialization method will be covered in the next Sprint."
   ]
  },
  {
   "cell_type": "code",
   "execution_count": 13,
   "metadata": {},
   "outputs": [
    {
     "name": "stdout",
     "output_type": "stream",
     "text": [
      "W1 (784, 400)\n"
     ]
    }
   ],
   "source": [
    "n_features = 784\n",
    "n_nodes1 = 400\n",
    "n_nodes2 = 200\n",
    "n_output = 10\n",
    "\n",
    "# Standard deviation of Gaussian distribution\n",
    "sigma = 0.01 # Standard deviation of Gaussian distribution\n",
    "W1 = sigma * np.random.randn(n_features, n_nodes1)\n",
    "print(\"W1\", W1.shape)\n"
   ]
  },
  {
   "cell_type": "code",
   "execution_count": 14,
   "metadata": {},
   "outputs": [
    {
     "name": "stdout",
     "output_type": "stream",
     "text": [
      "W1 (784, 400)\n",
      "W2 (400, 200)\n",
      "W3 (200, 10)\n",
      "b1 (400,)\n",
      "b2 (200,)\n",
      "b3 (10,)\n"
     ]
    }
   ],
   "source": [
    "W1 = sigma * np.random.randn(n_features, n_nodes1)\n",
    "b1 = sigma * np.random.randn(n_nodes1)\n",
    "W2 = sigma * np.random.randn(n_nodes1, n_nodes2)\n",
    "b2 = sigma * np.random.randn(n_nodes2)\n",
    "W3 = sigma * np.random.randn(n_nodes2, n_output)\n",
    "b3 = sigma * np.random.randn(n_output)\n",
    "\n",
    "print('W1', W1.shape)\n",
    "print('W2', W2.shape)\n",
    "print('W3', W3.shape)\n",
    "print('b1', b1.shape)\n",
    "print('b2', b2.shape)\n",
    "print('b3', b3.shape)"
   ]
  },
  {
   "cell_type": "markdown",
   "metadata": {},
   "source": [
    "## Problem 2 Implementation of forward propagation\n",
    "\n",
    "Please create a three layer neural network Forward propagation. In the following explanation, the number of nodes is 400 for the first layer and 200 for the second layer, but you can change it.\n",
    "\n",
    "The formulas for each layer are shown below. This time, it also describes what kind of ndarray shape the array represented by each symbol has in the implementation.\n",
    "\n",
    "batch_size = 20 # batch size n_features = 784 # number of features n_nodes1 = 400 # number of nodes in the first layer n_nodes2 = 200 # number of nodes in the second layer n_output = 10 # number of output classes (number of nodes in the third layer)\n",
    "\n",
    "\"First layer\"\n",
    "\n",
    "$A_1 = X \\cdot W_1 + B_1$\n",
    "\n",
    "$X$: Feature vector (batch_size, n_features)\n",
    "\n",
    "$W_1$: Weight of the 1st layer (n_features, n_nodes1)\n",
    "\n",
    "$B_1$ : First layer bias (n_nodes1,)\n",
    "\n",
    "$A_1$ : 出力 (batch_size, n_nodes1)\n",
    "\n",
    "\"First layer activation function\"\n",
    "\n",
    "$Z_1 = f(A_1)$\n",
    "\n",
    "$f()$ : Activation function\n",
    "\n",
    "$Z_1$ 出力 (batch_size, n_nodes1)\n",
    "\n",
    "\"Second layer\"\n",
    "\n",
    "$A_2 = Z_1 \\cdot W_2 + B_2$\n",
    "$W_2$ : Weight of the second layer (n_nodes1, n_nodes2)\n",
    "\n",
    "$B_2$ : Second layer bias (n_nodes2,)\n",
    "\n",
    "$A_2$ : 出力 (batch_size, n_nodes2)\n",
    "\n",
    "\"Activation function of the second layer\"\n",
    "\n",
    "$Z_2 = f(A_2)$\n",
    "\n",
    "$f()$ : Activation function\n",
    "\n",
    "$Z_2$ 出力 (batch_size, n_nodes2)\n",
    "\n",
    "\"Third layer (output layer)\"\n",
    "\n",
    "$A_3 = Z_2 \\cdot W_3 + B_3$\n",
    "\n",
    "$W_3$ : Weight of 3rd layer (n_nodes2, n_output)\n",
    "\n",
    "$B_3$ : Third layer bias (n_output,)\n",
    "\n",
    "$A_3$ : 出力 (batch_size, n_output)\n",
    "\n",
    "\"3rd layer activation function\"\n",
    "\n",
    "$Z_3 = softmax(A_3)$\n",
    "\n",
    "$softmax()$ : Softmax Functions\n",
    "\n",
    "$Z_3$ 出力 (batch_size, n_output)\n",
    "\n",
    "$Z_3$ is an array of probabilities for each label (0-9).\n",
    "\n",
    "## Activation function (forward propagation)\n",
    "\n",
    "Create an activation function and use it in forward propagation. It is recommended to implement it so that it can be switched, but either one is acceptable.\n",
    "\n",
    "\"Sigmoid function\"\n",
    "\n",
    "$f(Z) = sigmoid(A) = \\frac{1}{1+exp(-A)}$\n",
    "\n",
    "Please use np.expto calculate the exponential function $exp(-A)$.\n",
    "\n",
    "numpy.exp — NumPy v1.15 Manual\n",
    "\n",
    "\"Hyperbolic tangent function\"\n",
    "\n",
    "The following formula can be realized with a singlenp.tanh.\n",
    "\n",
    "$f(Z) = tanh(A) = \\frac{exp(A) - exp(-A)}{exp(A) + exp(-A)}$\n",
    "\n",
    "numpy.tanh — NumPy v1.15 Manual\n",
    "\n",
    "* Currently, an activation function called ReLU is commonly used instead of these. We will handle it in the next Sprint.\n",
    "\n",
    "## Softmax Functions\n",
    "\n",
    "Create a softmax function and use it in forward propagation. This is another type of activation function, but it is often treated differently due to its characteristics used in the output layer of multiclass classification.\n",
    "\n",
    "The following formula.\n",
    "\n",
    "$Z_{3\\_k} = \\frac{exp(A_{3\\_k})}{\\sum_{i=1}^{n_c}exp(A_{3\\_i})}$\n",
    "\n",
    "$Z_{3_k}$ : $k$ 番目のクラスの確率ベクトル (batch_size,)\n",
    "\n",
    "$A_{3_k}$ : $k$ 番目のクラスにあたる前の層からのベクトル (batch_size,)\n",
    "\n",
    "$n_c$ : Number of classes, n_output. 10 this time in MNIST.\n",
    "\n",
    "The denominator is the sum of the values corresponding to all the classes, passed through an exponential function and added together. By adding the $k$-th class to the numerator, we get the probability of being in the $k$-th class.\n",
    "\n",
    "This is calculated for 10 classes and the total is $Z_3$."
   ]
  },
  {
   "cell_type": "code",
   "execution_count": 15,
   "metadata": {},
   "outputs": [],
   "source": [
    "X = X_train[0:20]"
   ]
  },
  {
   "cell_type": "code",
   "execution_count": 16,
   "metadata": {},
   "outputs": [
    {
     "name": "stdout",
     "output_type": "stream",
     "text": [
      "z1.shape: (20, 400)\n",
      "[[ 0.01726377  0.24959539 -0.00090486 ... -0.11895395  0.02433224\n",
      "  -0.01710371]\n",
      " [-0.03537372 -0.01585472 -0.12599816 ...  0.02110951  0.14705574\n",
      "  -0.05120773]\n",
      " [-0.00691534  0.00082173  0.0553473  ...  0.02658268  0.07354469\n",
      "  -0.07670579]\n",
      " ...\n",
      " [ 0.12311126  0.3123251  -0.15401248 ...  0.03446554  0.09595977\n",
      "  -0.10323892]\n",
      " [-0.05107819  0.1394379   0.06252366 ...  0.07813688  0.1712076\n",
      "  -0.02469945]\n",
      " [-0.0410895   0.20205106 -0.07244536 ...  0.02632704 -0.02146239\n",
      "  -0.12187226]]\n"
     ]
    }
   ],
   "source": [
    "# Linear combination of the first layer\n",
    "z1 = np.dot(X, W1)# + b1\n",
    "print('z1.shape:',z1.shape)\n",
    "print(z1)"
   ]
  },
  {
   "cell_type": "code",
   "execution_count": 17,
   "metadata": {},
   "outputs": [
    {
     "name": "stdout",
     "output_type": "stream",
     "text": [
      "sig1.shape:  (20, 400)\n",
      "[[0.50431584 0.56207691 0.49977379 ... 0.47029653 0.50608276 0.49572418]\n",
      " [0.49115749 0.4960364  0.46854207 ... 0.50527718 0.53669782 0.48720086]\n",
      " [0.49827117 0.50020543 0.51383329 ... 0.50664528 0.51837789 0.48083295]\n",
      " ...\n",
      " [0.530739   0.57745269 0.46157281 ... 0.50861553 0.52397155 0.47421317]\n",
      " [0.48723323 0.5348031  0.51562583 ... 0.51952429 0.54269765 0.49382545]\n",
      " [0.48972907 0.55034162 0.48189658 ... 0.50658138 0.49463461 0.46956959]]\n"
     ]
    }
   ],
   "source": [
    "# Activation function for the first layer\n",
    "sig1 = 1/(1+np.exp(-z1))\n",
    "print('sig1.shape: ', sig1.shape)\n",
    "print(sig1)"
   ]
  },
  {
   "cell_type": "code",
   "execution_count": 18,
   "metadata": {},
   "outputs": [
    {
     "name": "stdout",
     "output_type": "stream",
     "text": [
      "z2.shape: (20, 200)\n",
      "[[-0.06398452  0.07865752 -0.05257785 ... -0.06549845  0.03798556\n",
      "   0.03635726]\n",
      " [-0.06209917  0.07613876 -0.04820547 ... -0.07262522  0.03587556\n",
      "   0.02707247]\n",
      " [-0.0619193   0.07796398 -0.05931515 ... -0.06820489  0.0400085\n",
      "   0.03132949]\n",
      " ...\n",
      " [-0.06324769  0.07682693 -0.04927869 ... -0.06703631  0.04000471\n",
      "   0.03927177]\n",
      " [-0.06305293  0.08260109 -0.05048111 ... -0.07013116  0.03806604\n",
      "   0.03747311]\n",
      " [-0.06416829  0.07743086 -0.05429856 ... -0.06259694  0.03739517\n",
      "   0.02963351]]\n"
     ]
    }
   ],
   "source": [
    "# linear combination of the second layer\n",
    "z2 = np.dot(sig1,W2) + b2\n",
    "print('z2.shape:', z2.shape)\n",
    "print(z2)"
   ]
  },
  {
   "cell_type": "code",
   "execution_count": 19,
   "metadata": {},
   "outputs": [
    {
     "name": "stdout",
     "output_type": "stream",
     "text": [
      "sig1.shape:  (20, 200)\n",
      "[[0.48400933 0.51965425 0.48685856 ... 0.48363124 0.50949525 0.50908831]\n",
      " [0.48448019 0.5190255  0.48795097 ... 0.48185167 0.50896793 0.5067677 ]\n",
      " [0.48452512 0.51948113 0.48517556 ... 0.48295538 0.51000079 0.50783173]\n",
      " ...\n",
      " [0.48419335 0.51919729 0.48768282 ... 0.4832472  0.50999984 0.50981668]\n",
      " [0.48424199 0.52063854 0.4873824  ... 0.48247439 0.50951536 0.50936718]\n",
      " [0.48396343 0.51934805 0.48642869 ... 0.48435587 0.5093477  0.50740784]]\n"
     ]
    }
   ],
   "source": [
    "# Activation function for the first layer\n",
    "sig2 = 1/(1+np.exp(-z2))\n",
    "print('sig1.shape: ', sig2.shape)\n",
    "print(sig2)"
   ]
  },
  {
   "cell_type": "code",
   "execution_count": 20,
   "metadata": {},
   "outputs": [
    {
     "name": "stdout",
     "output_type": "stream",
     "text": [
      "z3.shape: (20, 10)\n",
      "[[-0.03845385 -0.07044272 -0.02064937  0.06659356  0.15819092 -0.22290107\n",
      "   0.00595353 -0.0262492   0.05377046 -0.13206253]\n",
      " [-0.03848945 -0.07066892 -0.02062665  0.06686892  0.15804357 -0.22305082\n",
      "   0.00611663 -0.02594557  0.05389177 -0.13222362]\n",
      " [-0.03837838 -0.07041106 -0.02083022  0.06676074  0.15793865 -0.22296549\n",
      "   0.0059666  -0.02614887  0.05380383 -0.13223348]\n",
      " [-0.03815222 -0.07072144 -0.02088484  0.06652823  0.15807435 -0.22297022\n",
      "   0.00561122 -0.02616645  0.05367228 -0.13216059]\n",
      " [-0.0384682  -0.07046868 -0.02092447  0.06672885  0.15831623 -0.22307903\n",
      "   0.00580742 -0.02619892  0.05387494 -0.13228911]\n",
      " [-0.03822659 -0.07026003 -0.0211061   0.06671082  0.15795651 -0.2229461\n",
      "   0.00574529 -0.02608631  0.0539068  -0.13224409]\n",
      " [-0.03824237 -0.07044862 -0.0204691   0.06671937  0.15862118 -0.22311461\n",
      "   0.00571222 -0.02622872  0.05393262 -0.13221937]\n",
      " [-0.03848452 -0.07059761 -0.0209168   0.06687152  0.15807588 -0.22299176\n",
      "   0.0059946  -0.02610655  0.05385561 -0.13217193]\n",
      " [-0.03841482 -0.07085381 -0.02089983  0.06669861  0.15811099 -0.22300359\n",
      "   0.00604135 -0.0261694   0.05375519 -0.13222855]\n",
      " [-0.03829314 -0.07054557 -0.02096503  0.06681595  0.15794129 -0.22295175\n",
      "   0.00579741 -0.02604098  0.05388189 -0.13225759]\n",
      " [-0.03815388 -0.07048905 -0.0205661   0.06661166  0.15826367 -0.2229127\n",
      "   0.00587375 -0.02603494  0.05366768 -0.13207167]\n",
      " [-0.03835978 -0.0704943  -0.02082481  0.06680483  0.15826824 -0.22302252\n",
      "   0.00587114 -0.02600751  0.05384159 -0.13221554]\n",
      " [-0.03841604 -0.07052174 -0.02080816  0.06672081  0.15817531 -0.2229189\n",
      "   0.00563443 -0.02619208  0.05391802 -0.1321826 ]\n",
      " [-0.03840238 -0.07050588 -0.02079627  0.06690085  0.15785765 -0.22298361\n",
      "   0.0059191  -0.02625259  0.05375601 -0.13212365]\n",
      " [-0.0383365  -0.07069045 -0.02089054  0.06676941  0.15814172 -0.22295971\n",
      "   0.00600064 -0.02604042  0.05386716 -0.13207161]\n",
      " [-0.03826603 -0.07040429 -0.02080063  0.06672642  0.15810982 -0.22305465\n",
      "   0.00595614 -0.02617471  0.05373768 -0.13227599]\n",
      " [-0.03844596 -0.07046352 -0.02076144  0.06687446  0.15793216 -0.22294629\n",
      "   0.00595158 -0.02625572  0.05383609 -0.13217133]\n",
      " [-0.03833408 -0.07039057 -0.02081371  0.06679931  0.15812495 -0.22306966\n",
      "   0.00591527 -0.02601218  0.05384065 -0.13216606]\n",
      " [-0.03832291 -0.07059689 -0.02069767  0.06662319  0.15815495 -0.22310252\n",
      "   0.00584596 -0.026266    0.05396304 -0.13211932]\n",
      " [-0.03826972 -0.07039925 -0.02070566  0.06679362  0.15777231 -0.22322706\n",
      "   0.00615707 -0.02597796  0.05388917 -0.13220361]]\n"
     ]
    }
   ],
   "source": [
    "# 3rd layer linear combination \n",
    "z3 = np.dot(sig2,W3) + b3\n",
    "print('z3.shape:', z3.shape)\n",
    "print(z3)"
   ]
  },
  {
   "cell_type": "code",
   "execution_count": 21,
   "metadata": {},
   "outputs": [
    {
     "name": "stdout",
     "output_type": "stream",
     "text": [
      "sfmax.shape:  (20, 10)\n",
      "[[0.09793305 0.09484986 0.09969231 0.10878044 0.11921503 0.08143758\n",
      "  0.10238001 0.09913561 0.10739444 0.08918166]\n",
      " [0.09792731 0.09482623 0.09969229 0.10880789 0.11919473 0.08142352\n",
      "  0.10239435 0.09916344 0.107405   0.08916525]\n",
      " [0.0979429  0.09485525 0.09967679 0.10880136 0.11918796 0.08143438\n",
      "  0.10238392 0.09914805 0.10740072 0.08916866]\n",
      " [0.09797172 0.09483226 0.09967812 0.10878346 0.11921224 0.08143954\n",
      "  0.1023545  0.09915305 0.1073939  0.08918122]\n",
      " [0.09793508 0.09485073 0.09966839 0.10879897 0.11923416 0.08142595\n",
      "  0.10236864 0.09914408 0.10740943 0.08916458]\n",
      " [0.0979584  0.09487018 0.09964993 0.10879662 0.11919085 0.08143648\n",
      "  0.10236192 0.09915489 0.10741247 0.08916828]\n",
      " [0.09794725 0.094843   0.09970366 0.10878689 0.11925841 0.08141478\n",
      "  0.1023485  0.09913105 0.10740472 0.08916175]\n",
      " [0.09793176 0.09483683 0.0996674  0.10881258 0.1192034  0.08143162\n",
      "  0.102386   0.09915149 0.10740546 0.08917346]\n",
      " [0.09794335 0.09481715 0.09967394 0.10879906 0.11921339 0.08143462\n",
      "  0.10239577 0.09915008 0.1073999  0.08917275]\n",
      " [0.09795231 0.09484351 0.09966443 0.10880854 0.11918956 0.08143638\n",
      "  0.10236771 0.09915982 0.10741027 0.08916747]\n",
      " [0.0979581  0.09484127 0.09969621 0.1087776  0.11921844 0.08143304\n",
      "  0.10236732 0.09915247 0.10737866 0.0891769 ]\n",
      " [0.09794044 0.0948432  0.09967296 0.10880139 0.11922203 0.08142617\n",
      "  0.10236966 0.09915773 0.10740007 0.08916635]\n",
      " [0.09793979 0.0948453  0.09967957 0.10879765 0.11921686 0.08143865\n",
      "  0.10235051 0.09914435 0.10741361 0.08917371]\n",
      " [0.09794196 0.09484761 0.0996816  0.10881816 0.11918001 0.08143408\n",
      "  0.10238053 0.09913919 0.10739713 0.08917973]\n",
      " [0.0979438  0.09482565 0.09966752 0.10879875 0.11920827 0.08143219\n",
      "  0.10238406 0.09915556 0.10740401 0.08918018]\n",
      " [0.09795298 0.09485499 0.0996788  0.10879659 0.11920723 0.08142635\n",
      "  0.10238188 0.09914455 0.1073926  0.08916402]\n",
      " [0.09793577 0.09484977 0.09968312 0.10881316 0.11918655 0.08143552\n",
      "  0.10238184 0.09913693 0.10740362 0.08917373]\n",
      " [0.09794292 0.09485301 0.09967404 0.10880076 0.11920491 0.08142231\n",
      "  0.10237415 0.09915723 0.10739994 0.08917074]\n",
      " [0.09794795 0.09483724 0.09968961 0.10878596 0.11921327 0.0814229\n",
      "  0.10237116 0.09913604 0.10741739 0.08917848]\n",
      " [0.09795013 0.09485306 0.09968573 0.10880114 0.11916397 0.08141024\n",
      "  0.10239985 0.09916154 0.10740614 0.08916821]]\n",
      "20.0\n"
     ]
    }
   ],
   "source": [
    "# 3rd layer activation function (softmax function)\n",
    "sfmax = np.zeros([len(X),10])\n",
    "for i in range(20):\n",
    "    sfmax[i] = np.exp(z3[i])/np.sum(np.exp(z3[i]), axis=0)\n",
    "print('sfmax.shape: ', sfmax.shape)\n",
    "print(sfmax)\n",
    "print(np.sum(sfmax))"
   ]
  },
  {
   "cell_type": "code",
   "execution_count": 22,
   "metadata": {},
   "outputs": [
    {
     "name": "stdout",
     "output_type": "stream",
     "text": [
      "softmax.shape: (10, 20)\n",
      "[[0.09793305 0.09484986 0.09969231 0.10878044 0.11921503 0.08143758\n",
      "  0.10238001 0.09913561 0.10739444 0.08918166]\n",
      " [0.09792731 0.09482623 0.09969229 0.10880789 0.11919473 0.08142352\n",
      "  0.10239435 0.09916344 0.107405   0.08916525]\n",
      " [0.0979429  0.09485525 0.09967679 0.10880136 0.11918796 0.08143438\n",
      "  0.10238392 0.09914805 0.10740072 0.08916866]\n",
      " [0.09797172 0.09483226 0.09967812 0.10878346 0.11921224 0.08143954\n",
      "  0.1023545  0.09915305 0.1073939  0.08918122]\n",
      " [0.09793508 0.09485073 0.09966839 0.10879897 0.11923416 0.08142595\n",
      "  0.10236864 0.09914408 0.10740943 0.08916458]\n",
      " [0.0979584  0.09487018 0.09964993 0.10879662 0.11919085 0.08143648\n",
      "  0.10236192 0.09915489 0.10741247 0.08916828]\n",
      " [0.09794725 0.094843   0.09970366 0.10878689 0.11925841 0.08141478\n",
      "  0.1023485  0.09913105 0.10740472 0.08916175]\n",
      " [0.09793176 0.09483683 0.0996674  0.10881258 0.1192034  0.08143162\n",
      "  0.102386   0.09915149 0.10740546 0.08917346]\n",
      " [0.09794335 0.09481715 0.09967394 0.10879906 0.11921339 0.08143462\n",
      "  0.10239577 0.09915008 0.1073999  0.08917275]\n",
      " [0.09795231 0.09484351 0.09966443 0.10880854 0.11918956 0.08143638\n",
      "  0.10236771 0.09915982 0.10741027 0.08916747]\n",
      " [0.0979581  0.09484127 0.09969621 0.1087776  0.11921844 0.08143304\n",
      "  0.10236732 0.09915247 0.10737866 0.0891769 ]\n",
      " [0.09794044 0.0948432  0.09967296 0.10880139 0.11922203 0.08142617\n",
      "  0.10236966 0.09915773 0.10740007 0.08916635]\n",
      " [0.09793979 0.0948453  0.09967957 0.10879765 0.11921686 0.08143865\n",
      "  0.10235051 0.09914435 0.10741361 0.08917371]\n",
      " [0.09794196 0.09484761 0.0996816  0.10881816 0.11918001 0.08143408\n",
      "  0.10238053 0.09913919 0.10739713 0.08917973]\n",
      " [0.0979438  0.09482565 0.09966752 0.10879875 0.11920827 0.08143219\n",
      "  0.10238406 0.09915556 0.10740401 0.08918018]\n",
      " [0.09795298 0.09485499 0.0996788  0.10879659 0.11920723 0.08142635\n",
      "  0.10238188 0.09914455 0.1073926  0.08916402]\n",
      " [0.09793577 0.09484977 0.09968312 0.10881316 0.11918655 0.08143552\n",
      "  0.10238184 0.09913693 0.10740362 0.08917373]\n",
      " [0.09794292 0.09485301 0.09967404 0.10880076 0.11920491 0.08142231\n",
      "  0.10237415 0.09915723 0.10739994 0.08917074]\n",
      " [0.09794795 0.09483724 0.09968961 0.10878596 0.11921327 0.0814229\n",
      "  0.10237116 0.09913604 0.10741739 0.08917848]\n",
      " [0.09795013 0.09485306 0.09968573 0.10880114 0.11916397 0.08141024\n",
      "  0.10239985 0.09916154 0.10740614 0.08916821]]\n",
      "20.0\n"
     ]
    }
   ],
   "source": [
    "# Calculate without a for statement\n",
    "softmax = np.exp(z3).T/np.sum(np.exp(z3),axis=1)\n",
    "print('softmax.shape:', softmax.shape)\n",
    "print(softmax.T)\n",
    "print(np.sum(softmax))"
   ]
  },
  {
   "cell_type": "code",
   "execution_count": 23,
   "metadata": {},
   "outputs": [
    {
     "name": "stdout",
     "output_type": "stream",
     "text": [
      "softmax.shape: (20, 10)\n",
      "[[0.09793305 0.09792731 0.0979429  0.09797172 0.09793508 0.0979584\n",
      "  0.09794725 0.09793176 0.09794335 0.09795231 0.0979581  0.09794044\n",
      "  0.09793979 0.09794196 0.0979438  0.09795298 0.09793577 0.09794292\n",
      "  0.09794795 0.09795013]\n",
      " [0.09484986 0.09482623 0.09485525 0.09483226 0.09485073 0.09487018\n",
      "  0.094843   0.09483683 0.09481715 0.09484351 0.09484127 0.0948432\n",
      "  0.0948453  0.09484761 0.09482565 0.09485499 0.09484977 0.09485301\n",
      "  0.09483724 0.09485306]\n",
      " [0.09969231 0.09969229 0.09967679 0.09967812 0.09966839 0.09964993\n",
      "  0.09970366 0.0996674  0.09967394 0.09966443 0.09969621 0.09967296\n",
      "  0.09967957 0.0996816  0.09966752 0.0996788  0.09968312 0.09967404\n",
      "  0.09968961 0.09968573]\n",
      " [0.10878044 0.10880789 0.10880136 0.10878346 0.10879897 0.10879662\n",
      "  0.10878689 0.10881258 0.10879906 0.10880854 0.1087776  0.10880139\n",
      "  0.10879765 0.10881816 0.10879875 0.10879659 0.10881316 0.10880076\n",
      "  0.10878596 0.10880114]\n",
      " [0.11921503 0.11919473 0.11918796 0.11921224 0.11923416 0.11919085\n",
      "  0.11925841 0.1192034  0.11921339 0.11918956 0.11921844 0.11922203\n",
      "  0.11921686 0.11918001 0.11920827 0.11920723 0.11918655 0.11920491\n",
      "  0.11921327 0.11916397]\n",
      " [0.08143758 0.08142352 0.08143438 0.08143954 0.08142595 0.08143648\n",
      "  0.08141478 0.08143162 0.08143462 0.08143638 0.08143304 0.08142617\n",
      "  0.08143865 0.08143408 0.08143219 0.08142635 0.08143552 0.08142231\n",
      "  0.0814229  0.08141024]\n",
      " [0.10238001 0.10239435 0.10238392 0.1023545  0.10236864 0.10236192\n",
      "  0.1023485  0.102386   0.10239577 0.10236771 0.10236732 0.10236966\n",
      "  0.10235051 0.10238053 0.10238406 0.10238188 0.10238184 0.10237415\n",
      "  0.10237116 0.10239985]\n",
      " [0.09913561 0.09916344 0.09914805 0.09915305 0.09914408 0.09915489\n",
      "  0.09913105 0.09915149 0.09915008 0.09915982 0.09915247 0.09915773\n",
      "  0.09914435 0.09913919 0.09915556 0.09914455 0.09913693 0.09915723\n",
      "  0.09913604 0.09916154]\n",
      " [0.10739444 0.107405   0.10740072 0.1073939  0.10740943 0.10741247\n",
      "  0.10740472 0.10740546 0.1073999  0.10741027 0.10737866 0.10740007\n",
      "  0.10741361 0.10739713 0.10740401 0.1073926  0.10740362 0.10739994\n",
      "  0.10741739 0.10740614]\n",
      " [0.08918166 0.08916525 0.08916866 0.08918122 0.08916458 0.08916828\n",
      "  0.08916175 0.08917346 0.08917275 0.08916747 0.0891769  0.08916635\n",
      "  0.08917371 0.08917973 0.08918018 0.08916402 0.08917373 0.08917074\n",
      "  0.08917848 0.08916821]]\n",
      "20.0\n"
     ]
    }
   ],
   "source": [
    "# without a for statement - part2\n",
    "softmax = np.exp(z3)/np.sum(np.exp(z3),axis=1, keepdims=True)\n",
    "print('softmax.shape:', softmax.shape)\n",
    "print(softmax.T)\n",
    "print(np.sum(softmax))"
   ]
  },
  {
   "cell_type": "code",
   "execution_count": 24,
   "metadata": {},
   "outputs": [
    {
     "data": {
      "text/plain": [
       "array([[ 0.01726206,  0.24453829, -0.00090486, ..., -0.11839604,\n",
       "         0.02432744, -0.01710204],\n",
       "       [-0.03535897, -0.01585339, -0.1253356 , ...,  0.02110637,\n",
       "         0.14600478, -0.05116302],\n",
       "       [-0.00691523,  0.00082173,  0.05529085, ...,  0.02657642,\n",
       "         0.07341238, -0.0765557 ],\n",
       "       ...,\n",
       "       [ 0.12249303,  0.30255085, -0.15280621, ...,  0.0344519 ,\n",
       "         0.09566631, -0.1028737 ],\n",
       "       [-0.05103382,  0.13854118,  0.06244232, ...,  0.07797825,\n",
       "         0.16955417, -0.02469443],\n",
       "       [-0.04106639,  0.19934568, -0.07231889, ...,  0.02632096,\n",
       "        -0.02145909, -0.12127244]])"
      ]
     },
     "execution_count": 24,
     "metadata": {},
     "output_type": "execute_result"
    }
   ],
   "source": [
    "# High parabolic tangent\n",
    "np.tanh(z1)"
   ]
  },
  {
   "cell_type": "code",
   "execution_count": 25,
   "metadata": {},
   "outputs": [
    {
     "data": {
      "text/plain": [
       "array([[ 0.01726206,  0.24453829, -0.00090486, ..., -0.11839604,\n",
       "         0.02432744, -0.01710204],\n",
       "       [-0.03535897, -0.01585339, -0.1253356 , ...,  0.02110637,\n",
       "         0.14600478, -0.05116302],\n",
       "       [-0.00691523,  0.00082173,  0.05529085, ...,  0.02657642,\n",
       "         0.07341238, -0.0765557 ],\n",
       "       ...,\n",
       "       [ 0.12249303,  0.30255085, -0.15280621, ...,  0.0344519 ,\n",
       "         0.09566631, -0.1028737 ],\n",
       "       [-0.05103382,  0.13854118,  0.06244232, ...,  0.07797825,\n",
       "         0.16955417, -0.02469443],\n",
       "       [-0.04106639,  0.19934568, -0.07231889, ...,  0.02632096,\n",
       "        -0.02145909, -0.12127244]])"
      ]
     },
     "execution_count": 25,
     "metadata": {},
     "output_type": "execute_result"
    }
   ],
   "source": [
    "# High parabolic tangent (verification)\n",
    "(np.exp(z1)-np.exp(-z1))/(np.exp(z1)+np.exp(-z1))"
   ]
  },
  {
   "cell_type": "markdown",
   "metadata": {},
   "source": [
    "## Problem 3 Implementation of cross entropy error\n",
    "\n",
    "Create the objective function (loss function).\n",
    "\n",
    "The cross-entropy error $L$, the objective function for multiclass classification, is the following formula:\n",
    "\n",
    "$L = - \\frac{1}{n_b}\\sum_{j}^{n_b}\\sum_{k}^{n_c}y_{jk} log(z_{3\\_jk})$\n",
    "\n",
    "$y_{ij}$ :Correct answer label for the $k$-th class of the $j$-th sample (scalar of 0 or 1 in one-hot representation)\n",
    "\n",
    "$z_{3_ij}$ : Probability of the $k$-th class of the $j$-th sample (scalar)\n",
    "\n",
    "$n_{b}$ : バッチサイズ、batch_size\n",
    "\n",
    "$n_{c}$ : Number of classes, n_output (10 in this MNIST)\n",
    "\n",
    "You can find the error per sample.\n",
    "\n",
    "The range of definition of log(x) for real numbers is0 < xTherefore, if the contents of log are very small, an error occurs. We can avoid the error by adding 1e-7 to log."
   ]
  },
  {
   "cell_type": "code",
   "execution_count": 26,
   "metadata": {},
   "outputs": [
    {
     "name": "stdout",
     "output_type": "stream",
     "text": [
      "shape:\n",
      " (20, 10)\n",
      "[[0.         0.         0.11528334 0.         0.         0.\n",
      "  0.         0.         0.         0.        ]\n",
      " [0.         0.         0.         0.         0.         0.\n",
      "  0.         0.         0.11155743 0.        ]\n",
      " [0.         0.         0.         0.         0.         0.\n",
      "  0.11395128 0.         0.         0.        ]\n",
      " [0.         0.         0.         0.1109198  0.         0.\n",
      "  0.         0.         0.         0.        ]\n",
      " [0.11617252 0.         0.         0.         0.         0.\n",
      "  0.         0.         0.         0.        ]\n",
      " [0.         0.         0.         0.         0.         0.\n",
      "  0.         0.         0.11155395 0.        ]\n",
      " [0.         0.         0.         0.         0.         0.12540992\n",
      "  0.         0.         0.         0.        ]\n",
      " [0.         0.         0.         0.         0.         0.\n",
      "  0.         0.         0.         0.12085859]\n",
      " [0.         0.         0.         0.         0.10634201 0.\n",
      "  0.         0.         0.         0.        ]\n",
      " [0.         0.         0.         0.         0.         0.\n",
      "  0.         0.         0.         0.12086195]\n",
      " [0.         0.         0.         0.         0.         0.12539871\n",
      "  0.         0.         0.         0.        ]\n",
      " [0.         0.         0.         0.         0.         0.12540293\n",
      "  0.         0.         0.         0.        ]\n",
      " [0.         0.         0.         0.11091328 0.         0.\n",
      "  0.         0.         0.         0.        ]\n",
      " [0.         0.         0.         0.         0.         0.\n",
      "  0.         0.         0.11156109 0.        ]\n",
      " [0.         0.         0.         0.         0.10634416 0.\n",
      "  0.         0.         0.         0.        ]\n",
      " [0.         0.         0.11529012 0.         0.         0.\n",
      "  0.         0.         0.         0.        ]\n",
      " [0.         0.         0.         0.         0.         0.\n",
      "  0.         0.         0.11155807 0.        ]\n",
      " [0.         0.         0.         0.         0.         0.\n",
      "  0.         0.         0.11155978 0.        ]\n",
      " [0.         0.         0.         0.11091865 0.         0.\n",
      "  0.         0.         0.         0.        ]\n",
      " [0.         0.         0.         0.         0.         0.12541271\n",
      "  0.         0.         0.         0.        ]]\n"
     ]
    }
   ],
   "source": [
    "y = y_train_one_hot[0:20]\n",
    "loss = -y*np.log(sfmax)/len(y)\n",
    "print('shape:\\n', loss.shape)\n",
    "print(loss)"
   ]
  },
  {
   "cell_type": "markdown",
   "metadata": {},
   "source": [
    "## Problem 4 Implementation of backpropagation\n",
    "\n",
    "Create a backpropagation of a three-layer neural network. This is the part that performs stochastic gradient descent.\n",
    "\n",
    "The formula is shown below.\n",
    "\n",
    "First, the update formula for the weights and biases of the i-th layer. For $W_i$ and $B_i$, the updated $W_i^{\\prime}$ and $B_i^{\\prime}$ are obtained by the following formula\n",
    "\n",
    "$W_i^{\\prime} = W_i - \\alpha \\frac{\\partial L}{\\partial W_i} \\\\ B_i^{\\prime} = B_i - \\alpha \\frac{\\partial L}{\\partial B_i}$\n",
    "\n",
    "$\\alpha$ : Learning rate (can be different for each layer, but basically all the same)）\n",
    "\n",
    "$\\frac{\\partial L}{\\partial W_i}$ : Gradient of loss $L$ with respect to $W_i$.\n",
    "\n",
    "$\\frac{\\partial L}{\\partial B_i}$ : Gradient of loss $L$ with respect to $B_i$.\n",
    "\n",
    "* This slope is considered as the sum or average of the number of samples in the mini-batch. Here we will calculate the total.\n",
    "\n",
    "This update method is similar to the steepest descent method in Sprint3 linear regression and sprint4 logistic regression. A more effective update method is known and will be covered in the next Sprint.\n",
    "\n",
    "Backpropagation is done to find the gradients $ \\ frac {\\ partial L} {\\ partial W_i} $ and $ \\ frac {\\ partial L} {\\ partial B_i} $. Here is the formula. An example using the hyperbolic tangent function is shown. The formula for the sigmoid function follows.\n",
    "\n",
    "\"Third layer\"\n",
    "\n",
    "$\\frac{\\partial L}{\\partial A_3} = \\frac{1}{n_b}(Z_{3} - Y)\\\\ \\frac{\\partial L}{\\partial B_3} = \\sum_{j}^{n_b}\\frac{\\partial L}{\\partial A_{3\\_j}}\\\\ \\frac{\\partial L}{\\partial W_3} = Z_{2}^{T}\\cdot \\frac{\\partial L}{\\partial A_3}\\\\ \\frac{\\partial L}{\\partial Z_2} = \\frac{\\partial L}{\\partial A_3} \\cdot W_3^T$\n",
    "\n",
    "$\\frac{\\partial L}{\\partial A_3}$ : $A_3$ に関する損失 $L$ の勾配 (batch_size, n_output)\n",
    "\n",
    "$\\frac{\\partial L}{\\partial A_{3_j}}$ : j番目のサンプルの$A_3$ に関する損失 $L$ の勾配 (n_nodes2,)\n",
    "\n",
    "$\\frac{\\partial L}{\\partial B_3}$ : $B_3$ に関する損失 $L$ の勾配 (n_output,)\n",
    "\n",
    "$\\frac{\\partial L}{\\partial W_3}$ : Gradient of loss $L$ with respect to $W_3$ (n_nodes2, n_output)\n",
    "\n",
    "$\\frac{\\partial L}{\\partial Z_2}$ : $Z_2$ に関する損失 $L$ の勾配 (batch_size, n_nodes2)\n",
    "\n",
    "$ Z_ {3} $: Softmax function output (batch_size, n_nodes2)\n",
    "\n",
    "$Y$ : 正解ラベル (batch_size, n_output)\n",
    "\n",
    "$ Z_ {2} $: Second layer activation function output (batch_size, n_nodes2)\n",
    "\n",
    "$W_3$ : Weight of 3rd layer (n_nodes2, n_output)\n",
    "\n",
    "$n_{b}$ : バッチサイズ、batch_size\n",
    "\n",
    "\"Second layer\"\n",
    "\n",
    "$\\frac{\\partial L}{\\partial A_2} = \\frac{\\partial L}{\\partial Z_2} \\odot \\{1-tanh^2(A_{2})\\}\\\\ \\frac{\\ partial L}{\\partial B_2} = \\sum_{j}^{n_b}\\frac{\\partial L}{\\partial A_{2\\_j}}\\\\ \\frac{\\partial L}{\\partial W_2} = Z_{1}^T \\cdot \\frac{\\partial L}{\\partial A_2}\\\\ \\frac{\\partial L}{\\partial Z_1} = \\frac{\\partial L}{\\partial A_2} \\cdot W_2 ^T$\n",
    "\n",
    "$\\frac{\\partial L}{\\partial A_2}$ : $A_2$ に関する損失 $L$ の勾配 (batch_size, n_nodes2)\n",
    "\n",
    "$\\frac{\\partial L}{\\partial A_{2_j}}$ : j番目のサンプルの$A_2$ に関する損失 $L$ の勾配 (n_nodes2,)\n",
    "\n",
    "$\\frac{\\partial L}{\\partial B_2}$ : $B_2$ に関する損失 $L$ の勾配 (n_nodes2,)\n",
    "\n",
    "$\\frac{\\partial L}{\\partial W_2}$ : Gradient of loss $L$ with respect to $W_2$ (n_nodes1, n_nodes2)\n",
    "\n",
    "$\\frac{\\partial L}{\\partial Z_2}$ : $Z_2$ に関する損失 $L$ の勾配 (batch_size, n_nodes2)\n",
    "\n",
    "$A_2$ : 2層目の出力 (batch_size, n_nodes2)\n",
    "\n",
    "$ Z_ {1} $: 1st layer activation function output (batch_size, n_nodes1)\n",
    "\n",
    "$W_2$ : Weight of the second layer (n_nodes1, n_nodes2)\n",
    "\n",
    "\"First layer\"\n",
    "\n",
    "$\\frac{\\partial L}{\\partial A_1} = \\frac{\\partial L}{\\partial Z_1} \\odot \\{1-tanh^2(A_{1})\\}\\\\ \\frac{\\ partial L}{\\partial B_1} = \\sum_{j}^{n_b}\\frac{\\partial L}{\\partial A_{1\\_j}}\\\\ \\frac{\\partial L}{\\partial W_1} = X^T \\cdot \\frac{\\partial L}{\\partial A_1}\\\\$\n",
    "\n",
    "$\\frac{\\partial L}{\\partial A_1}$ : $A_1$ に関する損失 $L$ の勾配 (batch_size, n_nodes1)\n",
    "\n",
    "$\\frac{\\partial L}{\\partial A_{1_j}}$ : j番目のサンプルの$A_1$ に関する損失 $L$ の勾配 (n_nodes1,)\n",
    "\n",
    "$\\frac{\\partial L}{\\partial B_1}$ : $B_1$ に関する損失 $L$ の勾配 (n_nodes1,)\n",
    "\n",
    "$\\frac{\\partial L}{\\partial W_1}$ : Gradient of loss $L$ with respect to $W_1$ (n_features, n_nodes1)\n",
    "\n",
    "$\\frac{\\partial L}{\\partial Z_1}$ : $Z_1$ に関する損失 $L$ の勾配 (batch_size, n_nodes1)\n",
    "\n",
    "$ A_1 $: First layer output (batch_size, n_nodes1)\n",
    "\n",
    "$X$: Feature vector (batch_size, n_features)\n",
    "\n",
    "$W_1$: Weight of the 1st layer (n_features, n_nodes1)\n",
    "\n",
    "<< Supplement >>\n",
    "\n",
    "When the sigmoid function is used as the activation function, it becomes as follows.\n",
    "\n",
    "$\\frac{\\partial L}{\\partial A_2} = \\frac{\\partial L}{\\partial Z_2} \\odot \\{1-sigmoid(A_{2})\\}sigmoid(A_{2}) \\\\ \\frac{\\partial L}{\\partial A_1} = \\frac{\\partial L}{\\partial Z_1} \\odot \\{1-sigmoid(A_{1})\\}sigmoid(A_{1})$"
   ]
  },
  {
   "cell_type": "code",
   "execution_count": 27,
   "metadata": {},
   "outputs": [],
   "source": [
    "# 3rd layer\n",
    "delta_a3 = sfmax-y\n",
    "delta_b3 = np.sum(delta_a3, axis=0)\n",
    "delta_W3 = np.dot(z2.T,delta_a3)\n",
    "delta_z2 = np.dot(delta_a3, W3.T)"
   ]
  },
  {
   "cell_type": "code",
   "execution_count": 28,
   "metadata": {},
   "outputs": [
    {
     "name": "stdout",
     "output_type": "stream",
     "text": [
      "(20, 10)\n",
      "(10,)\n",
      "(200, 10)\n",
      "(20, 200)\n"
     ]
    }
   ],
   "source": [
    "print(delta_a3.shape)\n",
    "print(delta_b3.shape)\n",
    "print(delta_W3.shape)\n",
    "print(delta_z2.shape)"
   ]
  },
  {
   "cell_type": "code",
   "execution_count": 29,
   "metadata": {},
   "outputs": [],
   "source": [
    "# 2nd layer\n",
    "delta_a2 = delta_z2*(1-np.tanh(z2)**2)\n",
    "delta_b2 = np.sum(delta_a2, axis=0)\n",
    "delta_W2 = np.dot(z1.T,delta_a2)\n",
    "delta_z1 = np.dot(delta_a2, W2.T)"
   ]
  },
  {
   "cell_type": "code",
   "execution_count": 30,
   "metadata": {},
   "outputs": [
    {
     "name": "stdout",
     "output_type": "stream",
     "text": [
      "(20, 200)\n",
      "(200,)\n",
      "(400, 200)\n",
      "(20, 400)\n"
     ]
    }
   ],
   "source": [
    "print(delta_a2.shape)\n",
    "print(delta_b2.shape)\n",
    "print(delta_W2.shape)\n",
    "print(delta_z1.shape)"
   ]
  },
  {
   "cell_type": "code",
   "execution_count": 31,
   "metadata": {},
   "outputs": [],
   "source": [
    "# 1st layer\n",
    "delta_a1 = delta_z1*(1-np.tanh(z1)**2)\n",
    "delta_b1 = np.sum(delta_a1, axis=0)\n",
    "delta_W1 = np.dot(X.T,delta_a1)"
   ]
  },
  {
   "cell_type": "code",
   "execution_count": 32,
   "metadata": {},
   "outputs": [
    {
     "name": "stdout",
     "output_type": "stream",
     "text": [
      "(20, 400)\n",
      "(400,)\n",
      "(784, 400)\n"
     ]
    }
   ],
   "source": [
    "print(delta_a1.shape)\n",
    "print(delta_b1.shape)\n",
    "print(delta_W1.shape)"
   ]
  },
  {
   "cell_type": "markdown",
   "metadata": {},
   "source": [
    "## Problem 5  Estimation\n",
    "\n",
    "Create a method for estimating.\n",
    "\n",
    "Determine which is the highest of the 10 probabilities output by forward propagation.\n",
    "\n",
    "numpy.argmax — NumPy v1.17 Manual"
   ]
  },
  {
   "cell_type": "code",
   "execution_count": 33,
   "metadata": {},
   "outputs": [
    {
     "name": "stdout",
     "output_type": "stream",
     "text": [
      "epoch:  0 loss:   1.056 acc:0.215\n",
      "epoch:  1 loss:   1.030 acc:0.360\n",
      "epoch:  2 loss:   0.789 acc:0.441\n",
      "epoch:  3 loss:   0.479 acc:0.661\n",
      "epoch:  4 loss:   0.338 acc:0.782\n",
      "epoch:  5 loss:   0.274 acc:0.821\n",
      "epoch:  6 loss:   0.236 acc:0.845\n",
      "epoch:  7 loss:   0.211 acc:0.860\n",
      "epoch:  8 loss:   0.194 acc:0.872\n",
      "epoch:  9 loss:   0.181 acc:0.880\n",
      "epoch: 10 loss:   0.171 acc:0.886\n",
      "epoch: 11 loss:   0.163 acc:0.891\n",
      "epoch: 12 loss:   0.157 acc:0.894\n",
      "epoch: 13 loss:   0.152 acc:0.897\n",
      "epoch: 14 loss:   0.148 acc:0.900\n",
      "epoch: 15 loss:   0.144 acc:0.903\n",
      "epoch: 16 loss:   0.141 acc:0.905\n",
      "epoch: 17 loss:   0.138 acc:0.906\n",
      "epoch: 18 loss:   0.136 acc:0.908\n",
      "epoch: 19 loss:   0.133 acc:0.910\n",
      "epoch: 20 loss:   0.131 acc:0.911\n",
      "epoch: 21 loss:   0.129 acc:0.913\n",
      "epoch: 22 loss:   0.126 acc:0.914\n",
      "epoch: 23 loss:   0.124 acc:0.915\n",
      "epoch: 24 loss:   0.122 acc:0.917\n",
      "epoch: 25 loss:   0.120 acc:0.918\n",
      "epoch: 26 loss:   0.118 acc:0.919\n",
      "epoch: 27 loss:   0.117 acc:0.920\n",
      "epoch: 28 loss:   0.115 acc:0.921\n",
      "epoch: 29 loss:   0.113 acc:0.922\n",
      "epoch: 30 loss:   0.111 acc:0.924\n",
      "epoch: 31 loss:   0.110 acc:0.925\n",
      "epoch: 32 loss:   0.108 acc:0.925\n",
      "epoch: 33 loss:   0.107 acc:0.926\n",
      "epoch: 34 loss:   0.105 acc:0.927\n",
      "epoch: 35 loss:   0.104 acc:0.928\n",
      "epoch: 36 loss:   0.103 acc:0.929\n",
      "epoch: 37 loss:   0.102 acc:0.930\n",
      "epoch: 38 loss:   0.100 acc:0.930\n",
      "epoch: 39 loss:   0.099 acc:0.931\n",
      "epoch: 40 loss:   0.098 acc:0.932\n",
      "epoch: 41 loss:   0.097 acc:0.933\n",
      "epoch: 42 loss:   0.096 acc:0.934\n",
      "epoch: 43 loss:   0.095 acc:0.935\n",
      "epoch: 44 loss:   0.094 acc:0.936\n",
      "epoch: 45 loss:   0.092 acc:0.937\n",
      "epoch: 46 loss:   0.091 acc:0.938\n",
      "epoch: 47 loss:   0.090 acc:0.938\n",
      "epoch: 48 loss:   0.089 acc:0.939\n",
      "epoch: 49 loss:   0.088 acc:0.940\n"
     ]
    }
   ],
   "source": [
    "clf = ScratchSimpleNeuralNetrowkClassifier(n_epoch=50, n_features=784, n_nodes1=400, n_nodes2=200, n_output=10, sigma=0.01, n_batch=100, activate_function_key='tanh', lr=0.01, verbose=True)\n",
    "\n",
    "clf.fit(X_train, y_train_one_hot, X_val, y_val_one_hot)\n",
    "y_pred = clf.predict(X_val)"
   ]
  },
  {
   "cell_type": "code",
   "execution_count": 34,
   "metadata": {},
   "outputs": [
    {
     "name": "stdout",
     "output_type": "stream",
     "text": [
      "[8 2 3 ... 3 1 9]\n"
     ]
    }
   ],
   "source": [
    "print(y_pred)"
   ]
  },
  {
   "cell_type": "code",
   "execution_count": 35,
   "metadata": {},
   "outputs": [
    {
     "data": {
      "text/plain": [
       "array([8, 2, 3, ..., 3, 1, 9], dtype=uint8)"
      ]
     },
     "execution_count": 35,
     "metadata": {},
     "output_type": "execute_result"
    }
   ],
   "source": [
    "y_val"
   ]
  },
  {
   "cell_type": "code",
   "execution_count": 36,
   "metadata": {},
   "outputs": [
    {
     "data": {
      "text/plain": [
       "array([8, 2, 3, ..., 3, 1, 9])"
      ]
     },
     "execution_count": 36,
     "metadata": {},
     "output_type": "execute_result"
    }
   ],
   "source": [
    "y_pred"
   ]
  },
  {
   "cell_type": "markdown",
   "metadata": {},
   "source": [
    "## Problem 6 Learning and estimation\n",
    "\n",
    "Train and estimate the MNIST data and calculate the Accuracy."
   ]
  },
  {
   "cell_type": "code",
   "execution_count": 37,
   "metadata": {},
   "outputs": [
    {
     "name": "stdout",
     "output_type": "stream",
     "text": [
      "accuracy: 0.932\n",
      "precision: 0.9325\n",
      "recall:  0.9325\n",
      "f1: 0.9325\n"
     ]
    }
   ],
   "source": [
    "accuracy = accuracy_score(y_val, y_pred)\n",
    "precision = precision_score(y_val, y_pred, average='micro')\n",
    "recall = recall_score(y_val, y_pred, average='micro')\n",
    "f1 = f1_score(y_val, y_pred, average='micro')\n",
    "\n",
    "print(\"accuracy: {:.3f}\".format(accuracy))\n",
    "print(\"precision:\", precision)\n",
    "print(\"recall: \", recall)\n",
    "print(\"f1:\", f1)"
   ]
  },
  {
   "cell_type": "markdown",
   "metadata": {},
   "source": [
    "## Problem 7 Learning curve plot\n",
    "\n",
    "Plot the learning curve.\n",
    "\n",
    "Checking the learning curve is important because neural networks are prone to overfitting. We need to be able to record the loss (cross entropy error) per epoch for the training and validation data."
   ]
  },
  {
   "cell_type": "code",
   "execution_count": 38,
   "metadata": {},
   "outputs": [
    {
     "data": {
      "text/plain": [
       "[<matplotlib.lines.Line2D at 0x7f32591df6d8>]"
      ]
     },
     "execution_count": 38,
     "metadata": {},
     "output_type": "execute_result"
    },
    {
     "data": {
      "image/png": "[encoded data removed]",
      "text/plain": [
       "<Figure size 864x576 with 1 Axes>"
      ]
     },
     "metadata": {
      "needs_background": "light"
     },
     "output_type": "display_data"
    }
   ],
   "source": [
    "# Visualize the loss function for each epoch\n",
    "fig = plt.subplots(figsize=(12,8))\n",
    "plt.rcParams[\"font.size\"] = 20\n",
    "\n",
    "plt.plot(clf.log_loss, \"rs--\")\n",
    "plt.plot(clf.log_loss_val, \"bo--\")"
   ]
  },
  {
   "cell_type": "code",
   "execution_count": 39,
   "metadata": {},
   "outputs": [
    {
     "data": {
      "text/plain": [
       "[<matplotlib.lines.Line2D at 0x7f32591d7a58>]"
      ]
     },
     "execution_count": 39,
     "metadata": {},
     "output_type": "execute_result"
    },
    {
     "data": {
      "image/png": "[encoded data removed]",
      "text/plain": [
       "<Figure size 864x576 with 1 Axes>"
      ]
     },
     "metadata": {
      "needs_background": "light"
     },
     "output_type": "display_data"
    }
   ],
   "source": [
    "# Visualization of the percentage of correct answer for each epoch\n",
    "fig = plt.subplots(figsize=(12,8))\n",
    "plt.rcParams[\"font.size\"] = 20\n",
    "\n",
    "plt.plot(clf.log_acc, \"rs--\")\n",
    "plt.plot(clf.log_acc_val, \"bo--\")"
   ]
  },
  {
   "cell_type": "markdown",
   "metadata": {},
   "source": [
    "## Problem 8 (Advance assignment) Confirmation of misclassification\n",
    "\n",
    "See what the misclassified image looked like. Take an estimate and run the code below."
   ]
  },
  {
   "cell_type": "code",
   "execution_count": 40,
   "metadata": {},
   "outputs": [
    {
     "data": {
      "image/png": "[encoded data removed]",
      "text/plain": [
       "<Figure size 432x432 with 36 Axes>"
      ]
     },
     "metadata": {},
     "output_type": "display_data"
    }
   ],
   "source": [
    "\"\"\"\n",
    "Display word classification results side by side. The display above the image is \"estimated result / correct answer\".\n",
    "Parameters:\n",
    "----------\n",
    "y_pred : Estimated ndarray (n_samples,)\n",
    "y_val : Correct label of verification data (n_samples,)\n",
    "X_val : Features of verification data（n_samples, n_features)\n",
    "\"\"\"\n",
    "import numpy as np\n",
    "import matplotlib.pyplot as plt\n",
    "num = 36 # How many to display\n",
    "\n",
    "true_false = y_pred==y_val\n",
    "false_list = np.where(true_false==False)[0].astype(np.int)\n",
    "if false_list.shape[0] < num:\n",
    "    num = false_list.shape[0]\n",
    "fig = plt.figure(figsize=(6, 6))\n",
    "fig.subplots_adjust(left=0, right=0.8,  bottom=0, top=0.8, hspace=1, wspace=0.5)\n",
    "for i in range(num):\n",
    "    ax = fig.add_subplot(6, 6, i + 1, xticks=[], yticks=[])\n",
    "    ax.set_title(\"{} / {}\".format(y_pred[false_list[i]],y_val[false_list[i]]))\n",
    "    ax.imshow(X_val.reshape(-1,28,28)[false_list[i]], cmap='gray')"
   ]
  }
 ],
 "metadata": {
  "interpreter": {
   "hash": "31f2aee4e71d21fbe5cf8b01ff0e069b9275f58929596ceb00d14d90e3e16cd6"
  },
  "kernelspec": {
   "display_name": "Python 3.6.9 64-bit",
   "name": "python3"
  },
  "language_info": {
   "codemirror_mode": {
    "name": "ipython",
    "version": 3
   },
   "file_extension": ".py",
   "mimetype": "text/x-python",
   "name": "python",
   "nbconvert_exporter": "python",
   "pygments_lexer": "ipython3",
   "version": "3.6.9"
  },
  "orig_nbformat": 4
 },
 "nbformat": 4,
 "nbformat_minor": 2
}