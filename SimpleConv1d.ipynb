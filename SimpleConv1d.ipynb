{
  "nbformat": 4,
  "nbformat_minor": 0,
  "metadata": {
    "colab": {
      "name": "SimpleConv1d.ipynb",
      "provenance": [],
      "collapsed_sections": []
    },
    "kernelspec": {
      "name": "python3",
      "display_name": "Python 3"
    },
    "accelerator": "GPU"
  },
  "cells": [
    {
      "cell_type": "markdown",
      "metadata": {
        "id": "KBySv4zhfxt4"
      },
      "source": [
        "# SimpleConv1d\n",
        "## Name: Nguyen Anh Hoang Phuc\n",
        "\n",
        "### One-dimensional convolutional neural network scratch\n",
        "\n",
        "Let's create the class Convolutional Neural Network (CNN) from scratch. We will implement the algorithm using only the minimum library such as NumPy.\n",
        "\n",
        "In this Sprint, we will build a 1D Convolutional layer and try to understand the basics of convolution. The next Sprint completes the CNN commonly used for images by creating a two-dimensional convolutional layer and a pooling layer.\n",
        "\n",
        "Name the class Scratch1dCNNClassifier. Please refer to the ScratchDeepNeuralNetrowkClassifier created in the previous Sprint for the class structure.\n",
        "\n",
        "### What is a one-dimensional convolutional layer?\n",
        "\n",
        "In CNN, a two-dimensional convolutional layer for images is a standard, but here, to make it easier to understand, we first implement a one-dimensional convolutional layer. One-dimensional convolution is practically often used in Series data such as natural language and waveform data.\n",
        "\n",
        "Convolution can be considered for any dimension, and frameworks generally provide up to 3D convolution for 3D data.\n",
        "\n",
        "### Preparing the dataset\n",
        "\n",
        "We will continue to use the MNIST dataset for validation, with the 1D convolution taking a smoothed input as well as a fully connected neural network."
      ]
    },
    {
      "cell_type": "markdown",
      "metadata": {
        "id": "OVgxNG2Ehf6z"
      },
      "source": [
        "### Dataset Preparation\n",
        "We will continue to use the MNIST dataset validation; for 1D convolution we will input a smoothed version as well as an all-connected neural network"
      ]
    },
    {
      "cell_type": "code",
      "metadata": {
        "id": "-y6e0k-yPFu8"
      },
      "source": [
        "# Mini-batch processing class\n",
        "class GetMiniBatch:\n",
        "  \"\"\"\n",
        "  Iterator to get the mini-batch\n",
        "\n",
        "  Parameters\n",
        "  ===========\n",
        "  X: ndarray of the following form, shape (n_samples, n_features)\n",
        "     Training data\n",
        "  y: ndarray of the following form, shape (n_samples, 1)\n",
        "     Correct value\n",
        "  batch_size: int\n",
        "     Batch size\n",
        "  seed: int\n",
        "     Seeding random numbers in NumPy\n",
        "  \"\"\"\n",
        "  def __init__(self, X, y, batch_size = 20, seed=None):\n",
        "    self.batch_size = batch_size\n",
        "    np.random.seed(seed)\n",
        "    shuffle_index = np.random.permutation(np.arange(X.shape[0]))\n",
        "    self._X = X[shuffle_index]\n",
        "    self._y = y[shuffle_index]\n",
        "    self._stop = np.ceil(X.shape[0]/self.batch_size).astype(np.int)\n",
        "\n",
        "  def __len__(self):\n",
        "    return self._stop\n",
        "\n",
        "  def __getitem__(self, item):\n",
        "    p0 = item*self.batch_size\n",
        "    p1 = item*self.batch_size + self.batch_size\n",
        "    return self._X[p0:p1], self._y[p0:p1]\n",
        "\n",
        "  def __iter__(self):\n",
        "    self._counter = 0\n",
        "    return self\n",
        "  \n",
        "  def __next__(self):\n",
        "    if self._counter >= self._stop:\n",
        "      raise StopIteration()\n",
        "    p0 = self._counter*self.batch_size\n",
        "    p1 = self._counter*self.batch_size + self.batch_size\n",
        "    self._counter += 1\n",
        "    return self._X[p0:p1], self._y[p0:p1]"
      ],
      "execution_count": 1,
      "outputs": []
    },
    {
      "cell_type": "markdown",
      "metadata": {
        "id": "WGantzo9k62S"
      },
      "source": [
        "All binding layers"
      ]
    },
    {
      "cell_type": "code",
      "metadata": {
        "id": "OQgmFUIpjWL0"
      },
      "source": [
        "class FC:\n",
        "  \"\"\"\n",
        "  All coupling layers from number of nodes n_nodes1 to n_nodes2\n",
        "  Parameters\n",
        "  ==========\n",
        "  n_nodes1: int\n",
        "    Number of nodes in the previous layer\n",
        "  n_nodes2: int\n",
        "    Number of nodes in subsequent layers\n",
        "  initializer: Instances of initialization methods\n",
        "  optimizer: Instances of optimizations methods\n",
        "  \"\"\"\n",
        "  def __init__(self, n_nodes1, n_nodes2, initializer, optimizer, activation):\n",
        "    self.n_nodes1 = n_nodes1\n",
        "    self.n_nodes2 = n_nodes2\n",
        "    self.initializer = initializer\n",
        "    self.optimizer = optimizer\n",
        "    self.activation = activation\n",
        "    # Initialize\n",
        "    # Use the initializer method to initialize self.w and self.B\n",
        "    self.W = self.initializer.W(self.n_nodes1, self.n_nodes2)\n",
        "    self.B = self.initializer.B(self.n_nodes2)\n",
        "\n",
        "  def forward(self, X):\n",
        "    \"\"\"\n",
        "    forward\n",
        "    Parameters\n",
        "    ==========\n",
        "    X: ndarray of the following form, shape (batch_size, n_nodes1)\n",
        "      Input\n",
        "    Returns\n",
        "    ==========\n",
        "    A: ndarray of the following form, shape (batch_size, n_nodes2)\n",
        "      Output\n",
        "    \"\"\"\n",
        "    self.X = X\n",
        "    self.A = np.dot(self.X, self.W) + self.B\n",
        "\n",
        "    return self.activation.forward(self.A)\n",
        "\n",
        "  def backward(self, dZ):\n",
        "    \"\"\"\n",
        "    backward\n",
        "    Parameters\n",
        "    ==========\n",
        "    dA: ndarray of the following form, shape (batch_size, n_nodes2)\n",
        "      The gradient flowed in from behind\n",
        "    Returns\n",
        "    ==========\n",
        "    dZ: ndarray of the following form, shape (batch_size, n_nodes1)\n",
        "      forward slope\n",
        "    \"\"\"\n",
        "    dA = self.activation.backward(dZ)\n",
        "    self.dB = np.mean(dA, axis=0)\n",
        "    self.dW = np.dot(self.X.T, dA)/len(self.X)\n",
        "    dZ = np.dot(dA, self.W.T)\n",
        "\n",
        "    # Update\n",
        "    self = self.optimizer.update(self)\n",
        "\n",
        "    return dZ\n"
      ],
      "execution_count": 2,
      "outputs": []
    },
    {
      "cell_type": "code",
      "metadata": {
        "id": "VnJRHJzvo4U1"
      },
      "source": [
        "class SimpleInitializer:\n",
        "  \"\"\"\n",
        "  Simple initialization with Gaussian distribution\n",
        "  Parameters\n",
        "  ==========\n",
        "  sigma: float\n",
        "    Standard deviation of Gaussian distribution\n",
        "  \"\"\"\n",
        "  def __init__(self, sigma):\n",
        "    self.sigma = sigma\n",
        "\n",
        "  def W(self, n_nodes1, n_nodes2):\n",
        "    \"\"\"\n",
        "    Initializing weights\n",
        "    Parameters\n",
        "    ==========\n",
        "    n_nodes1: int\n",
        "      Number of nodes in the previous layer\n",
        "    n_nodes2: int\n",
        "      Number of nodes in subsequent layers\n",
        "    \n",
        "    Returns\n",
        "    ==========\n",
        "    W: weight\n",
        "    \"\"\"\n",
        "    return self.sigma * np.random.randn(n_nodes1, n_nodes2)\n",
        "    \n",
        "  def B(self, n_nodes2):\n",
        "    \"\"\"\n",
        "    Bias initialization\n",
        "    Parameters\n",
        "    ==========\n",
        "    n_nodes2: int\n",
        "      Number of nodes in subsequent layers\n",
        "    \n",
        "    Returns\n",
        "    ==========\n",
        "    B: bias\n",
        "    \"\"\"\n",
        "    return np.zeros(n_nodes2)"
      ],
      "execution_count": 3,
      "outputs": []
    },
    {
      "cell_type": "code",
      "metadata": {
        "id": "6Mv3E7xSqAWx"
      },
      "source": [
        "class HeInitializer():\n",
        "  \"\"\"\n",
        "  Initialization of weights by He\n",
        "  \"\"\"\n",
        "  def __init__(self):\n",
        "    pass\n",
        "  \n",
        "  def W(self, n_nodes1, n_nodes2):\n",
        "    \"\"\"\n",
        "    Initializing weights\n",
        "    Parameters\n",
        "    ==========\n",
        "    n_nodes1: int\n",
        "      Number of nodes in the previous layer\n",
        "    n_nodes2: int\n",
        "      Number of nodes in subsequent layers\n",
        "    \n",
        "    Returns\n",
        "    ==========\n",
        "    W: weight\n",
        "    \"\"\"\n",
        "    return np.random.randn(n_nodes1, n_nodes2)*np.sqrt(2/n_nodes1)\n",
        "\n",
        "  def B(self, n_nodes2):\n",
        "    \"\"\"\n",
        "    Bias initialization\n",
        "    Parameters\n",
        "    ==========\n",
        "    n_nodes2: int\n",
        "      Number of nodes in subsequent layers\n",
        "    \n",
        "    Returns\n",
        "    ==========\n",
        "    B: bias\n",
        "    \"\"\"\n",
        "    return np.zeros(n_nodes2)"
      ],
      "execution_count": 4,
      "outputs": []
    },
    {
      "cell_type": "code",
      "metadata": {
        "id": "WHx3Ha_CqjGT"
      },
      "source": [
        "class SGD:\n",
        "  \"\"\"\n",
        "  stochastic gradient descent method\n",
        "  Parameters\n",
        "  ==========\n",
        "  lr: learning rate\n",
        "  \"\"\"\n",
        "  def __init__(self, lr):\n",
        "    self.lr = lr \n",
        "  \n",
        "  def update(self, layer):\n",
        "    \"\"\"\n",
        "    Updating the weights and biases of a layer\n",
        "    Parameters\n",
        "    ==========\n",
        "    layers: As instance of the layer before the update\n",
        "    \"\"\"\n",
        "    layer.W -= self.lr*layer.dW\n",
        "    layer.B -= self.lr*layer.dB\n",
        "\n",
        "    return layer"
      ],
      "execution_count": 5,
      "outputs": []
    },
    {
      "cell_type": "code",
      "metadata": {
        "id": "f966J3WArQY0"
      },
      "source": [
        "class AdaGrad:\n",
        "  \"\"\"\n",
        "  Parameters\n",
        "  ==========\n",
        "  lr: learning rate\n",
        "  \"\"\"\n",
        "  def __init__(self, lr):\n",
        "    self.lr = lr\n",
        "    self.hW = 0\n",
        "    self.hB = 0\n",
        "  \n",
        "  def update(self, layer):\n",
        "    \"\"\"\n",
        "    Updating the weights and biases of a layer\n",
        "    Parameters\n",
        "    ==========\n",
        "    layer: An instance of the layer before the update\n",
        "    \"\"\"\n",
        "    self.hW += layer.dW*layer.dW\n",
        "    self.hB = layer.dB*layer.dB\n",
        "\n",
        "    layer.W -= self.lr*layer.dW/(np.sqrt(self.hW) +1e-7)\n",
        "    layer.B -= self.lr*layer.dB/(np.sqrt(self.hB) +1e-7)\n",
        "\n",
        "    return layer"
      ],
      "execution_count": 6,
      "outputs": []
    },
    {
      "cell_type": "markdown",
      "metadata": {
        "id": "3TZ_9YOEsLFP"
      },
      "source": [
        "## Activation function"
      ]
    },
    {
      "cell_type": "code",
      "metadata": {
        "id": "xlzdmNLHsH7y"
      },
      "source": [
        "class ReLU():\n",
        "  \"\"\"\n",
        "  Activation function: ReLU function\n",
        "  \"\"\"\n",
        "  def __init__(self):\n",
        "    pass\n",
        "  \n",
        "  def forward(self, A):\n",
        "    self.A = A\n",
        "    return np.maximum(self.A,0)\n",
        "  \n",
        "  def backward(self, dZ):\n",
        "    return np.where(self.A>0,dZ,0)"
      ],
      "execution_count": 7,
      "outputs": []
    },
    {
      "cell_type": "code",
      "metadata": {
        "id": "WqUCOEs5spmj"
      },
      "source": [
        "class Softmax():\n",
        "  \"\"\"\n",
        "  Activation function: Softmax function\n",
        "  \"\"\"\n",
        "  def __init__(self):\n",
        "    pass\n",
        "  \n",
        "  def forward(self, A):\n",
        "    return np.exp(A-np.max(A))/np.sum(np.exp(A-np.max(A)), axis=1, keepdims=True)\n",
        "  \n",
        "  def backward(self, dZ):\n",
        "    return dZ"
      ],
      "execution_count": 8,
      "outputs": []
    },
    {
      "cell_type": "markdown",
      "metadata": {
        "id": "ahOQRqZatMVI"
      },
      "source": [
        "## [Problem 1] Creating a one-dimensional convolutional layer class that limits the number of channels to one\n",
        "\n",
        "Create 1-dimensional convolutional layer class SimpleConv1d with the number of channels limited to 1. The basic structure will be the same as the FC class of the fully connected layer created in Sprint above. Recreate the class related to weight initialization if necessary. The point of using the initial value of Xavier is the same as the fully connected layer.\n",
        "\n",
        "Here Padding is not considered, and stride is also fixed to 1. Also, don't worry about processing multiple data at the same time, only support batch size 1. Extension of this part is an advanced task.\n",
        "\n",
        "The formula for forward propagation is as follows\n",
        "\n",
        "$a_{i}=\\sum_{s=0}^{F-1} x_{(i+s)} w_{s}+b$\n",
        "\n",
        "$a_i$: The i-th value in the output array\n",
        "\n",
        "$F$: Filter size\n",
        "\n",
        "$x_{(i+s)}$: (i+s)th value in the input array\n",
        "\n",
        "$w_s$: the sth value in the array of weights\n",
        "\n",
        "$b$: Bias term\n",
        "\n",
        "All are scalars.\n",
        "\n",
        "Next is the update formula. It is similar to the fully connected layer in that it is replaced with AdaGrad etc.\n",
        "\n",
        "$\\begin{aligned} w_{s}^{\\prime} &=w_{s}-\\alpha \\frac{\\partial L}{\\partial w_{s}} \\\\ b^{\\prime} &=b-\\alpha \\frac{\\partial L}{\\partial b} \\end{aligned}$\n",
        "\n",
        "$\\alpha$: learning rate\n",
        "\n",
        "$\\frac{\\partial L}{\\partial w_s}$: Loss $L$ slope for $w_s$\n",
        "\n",
        "$\\frac{\\partial L}{\\partial b}$: slope of loss $L$ with respect to $b$\n",
        "\n",
        "Here is the backpropagation formula for the gradients $\\frac{\\partial L}{\\partial w_s}$ and $\\frac{\\partial L}{\\partial b}$.\n",
        "\n",
        "$\\frac{\\partial L}{\\partial w_{s}}=\\sum_{i=0}^{N_{o u t}-1} \\frac{\\partial L}{\\partial a_{i}} x_{(i+s)}$\n",
        "\n",
        "$\\frac{\\partial L}{\\partial b}=\\sum_{i=0}^{N_{o u t}-1} \\frac{\\partial L}{\\partial a_{i}}$\n",
        "\n",
        "$\\frac{\\partial L}{\\partial a_i}$: i-th value in the gradient array\n",
        "\n",
        "$N_{out}$: Output size\n",
        "\n",
        "The formula for the error to be passed to the previous layer is as follows\n",
        "\n",
        "$\\frac{\\partial L}{\\partial x_{j}}=\\sum_{s=0}^{F-1} \\frac{\\partial L}{\\partial a_{(j-s)}} w_{s}$\n",
        "\n",
        "$\\frac{\\partial L}{\\partial x_j}$: jth value of the error array to be passed to the previous layer\n",
        "\n",
        "However, when $js<0$ or $js>N_{out}-1$, $\\frac{\\partial L}{\\partial a_{(js)}} =0$.\n",
        "\n",
        "The major difference from the fully connected layer is that the weights are shared for multiple features. In this case, the gradient is calculated by adding all the shared errors. For branching on the calculation graph, the error should be added at the time of backpropagation."
      ]
    },
    {
      "cell_type": "code",
      "metadata": {
        "id": "uhx3zs-VtEf2"
      },
      "source": [
        "# Import\n",
        "import numpy as np\n",
        "import matplotlib.pyplot as plt\n",
        "# Evaluation index\n",
        "from sklearn.metrics import accuracy_score"
      ],
      "execution_count": 9,
      "outputs": []
    },
    {
      "cell_type": "markdown",
      "metadata": {
        "id": "IoIXXNtptkCP"
      },
      "source": [
        "### Convoluation layer"
      ]
    },
    {
      "cell_type": "code",
      "metadata": {
        "id": "TzrnEKTQthyo"
      },
      "source": [
        "# 1D convoluational layer class\n",
        "class SimpleConv1d():\n",
        "  \"\"\"\n",
        "  1D convolutional layer\n",
        "  Parameters\n",
        "  ==========\n",
        "  n_nodes1: int\n",
        "    Number of nodes in the previous layer\n",
        "  n_nodes2: int\n",
        "    Number of nodes in subsequent layers\n",
        "  initializer: Instances of initialization methods\n",
        "  optimizer: Instances of optimizations methods\n",
        "  \"\"\"\n",
        "  def __init__(self, out_channel, in_channel, filter_size, padding_size=0, stride_size=1, initializer=None, optimizer=None, activation=None):\n",
        "    self.initializer = initializer\n",
        "    self.optimizer = optimizer\n",
        "    self.activation = activation\n",
        "\n",
        "    # Initialize\n",
        "    # Use the initializer method to initialize self.W and self.B\n",
        "    self.W = self.initializer.W(out_channel, in_channel, filter_size)\n",
        "    self.B = self.initializer.B(out_channel)\n",
        "\n",
        "  def output_shape(self,n_feature,filter_size,padding=0,stride=1):\n",
        "    return int((n_feature + 2*padding - filter_size)/stride + 1)\n",
        "\n",
        "  def forward(self, X):\n",
        "    \"\"\"\n",
        "    forward\n",
        "    Parameters\n",
        "    ==========\n",
        "    X: ndarray of the following form, shape (batch_size, n_nodes1)\n",
        "      Input\n",
        "    Returns\n",
        "    ==========\n",
        "    A: ndarray of the following form, shape (batch_size, n_nodes2)\n",
        "      Output\n",
        "    \"\"\"\n",
        "    self.X = X\n",
        "    # Size\n",
        "    N, INC, Feature = X.shape\n",
        "    OCH, INC, FS = self.W.shape\n",
        "    OUT = self.output_shape(Feature,FS,0,1)\n",
        "\n",
        "    self.size = N,INC,OCH,FS,OUT\n",
        "\n",
        "    A = np.zeros([N,OCH,OUT])\n",
        "\n",
        "    for n in range(N):\n",
        "      for och in range(OCH):\n",
        "        for ich in range(INC):\n",
        "          for m in range(OUT):\n",
        "            A[n,och,m] += np.sum(X[n,ich,m:m+FS]*self.W[och,ich,:])\n",
        "    \n",
        "    A += self.B[:,None]\n",
        "\n",
        "    return self.activation.forward(A)\n",
        "\n",
        "  def backward(self, dZ):\n",
        "    \"\"\"\n",
        "    backward\n",
        "    Parameters\n",
        "    ==========\n",
        "    dA: ndarray of the following form, shape (batch_size, n_nodes2)\n",
        "      The gradient flowed in from behind\n",
        "    Returns\n",
        "    ==========\n",
        "    dZ: ndarray of the following form, shape (batch_size, n_nodes1)\n",
        "      forward slope\n",
        "    \"\"\"\n",
        "    dA = self.activation.backward(dZ)\n",
        "\n",
        "    # Bias\n",
        "    self.dB = np.mean(np.sum(dA,axis=2), axis=0)\n",
        "\n",
        "    # Weight, flow slope\n",
        "    self.dW = np.zeros(self.W.shape)\n",
        "    dZ = np.zeros(self.X.shape)\n",
        "\n",
        "    N,INC,OCH,FS,OUT = self.size\n",
        "\n",
        "    for n in range(N):\n",
        "      for och in range(OCH):\n",
        "        for ich in range(INC):\n",
        "          for fs in range(FS):\n",
        "            for m in range(OUT):\n",
        "              self.dW[och,ich,fs] += self.X[n,ich,fs+m]*dA[n,och,m]\n",
        "              dZ[n,ich,fs+m] += self.W[och,ich,fs]*dA[n,och,m]\n",
        "    \n",
        "    # Update\n",
        "    self = self.optimizer.update(self)\n",
        "\n",
        "    return dZ\n",
        "\n"
      ],
      "execution_count": 10,
      "outputs": []
    },
    {
      "cell_type": "code",
      "metadata": {
        "id": "z8RfhlUc2qnX"
      },
      "source": [
        "class SimpleInitializerConv1d:\n",
        "  \"\"\"\n",
        "  Simple initialization with Gaussian distribution\n",
        "  Parameters\n",
        "  ==========\n",
        "  sigma: float\n",
        "    Standard deviation of Gaussian distribution\n",
        "  \"\"\"\n",
        "  def __init__(self, sigma=0.01):\n",
        "    self.sigma = sigma\n",
        "\n",
        "  def W(self, out_channel, in_channel, filter_size):\n",
        "    \"\"\"\n",
        "    Initializing weights\n",
        "    Parameters\n",
        "    ==========\n",
        "    in_channel: int\n",
        "      Number of nodes in the previous layer\n",
        "    out_channel: int\n",
        "      Number of nodes in subsequent layers\n",
        "    \n",
        "    Returns\n",
        "    ==========\n",
        "    W: weight\n",
        "    \"\"\"\n",
        "    return self.sigma * np.random.randn(out_channel, in_channel, filter_size)\n",
        "    \n",
        "  def B(self, out_channel):\n",
        "    \"\"\"\n",
        "    Bias initialization\n",
        "    Parameters\n",
        "    ==========\n",
        "    out_channel: int\n",
        "      Number of nodes in subsequent layers\n",
        "    \n",
        "    Returns\n",
        "    ==========\n",
        "    B: bias\n",
        "    \"\"\"\n",
        "    return np.zeros(out_channel)"
      ],
      "execution_count": 11,
      "outputs": []
    },
    {
      "cell_type": "code",
      "metadata": {
        "id": "5g3eW4s23xOj"
      },
      "source": [
        "# Scratch CNN\n",
        "class Scratch1dCNNClacssifier():\n",
        "  \"\"\"\n",
        "  N-Layer Convolutional Neural Network Classifier\n",
        "\n",
        "  Parameters\n",
        "  ==========\n",
        "  self.n_epoch: epoch number\n",
        "  self.n_batch: Number of batches\n",
        "  self.verbose: Visualizing the learning process\n",
        "  Attributes\n",
        "  ==========\n",
        "  \"\"\"\n",
        "  def __init__(self, NN, CNN, n_epoch=5, n_batch=1, verbose=False):\n",
        "    # Parameters\n",
        "    self.n_epoch = n_epoch\n",
        "    self.n_batch = n_batch \n",
        "    self.verbose = verbose\n",
        "    self.log_loss = np.zeros(self.n_epoch)\n",
        "    self.log_acc = np.zeros(self.n_epoch)\n",
        "    self.NN = NN\n",
        "    self.CNN = CNN\n",
        "\n",
        "  def loss_function(self,y,yt):\n",
        "    delta = 1e-7\n",
        "    return -np.mean(yt*np.log(y+delta))\n",
        "\n",
        "  def accuracy(self, Z, Y):\n",
        "    return accuracy_score(Y, Z)\n",
        "\n",
        "  def predict(self, X):\n",
        "      \"\"\"\n",
        "      Estimate using a neural network classifier\n",
        "\n",
        "      Parameters\n",
        "      ==========\n",
        "      X: ndarray of the following form, shape (n_samples, n_features)\n",
        "        Sample\n",
        "      \n",
        "      Returns\n",
        "      ==========\n",
        "         ndarray of the following form, shape (n_samples, 1)\n",
        "         Estimation results\n",
        "      \"\"\"\n",
        "      pred_data = X[:,np.newaxis,:]\n",
        "\n",
        "      # Conv\n",
        "      for layer in range(len(self.CNN)):\n",
        "        pred_data = self.CNN[layer].forward(pred_data)\n",
        "      \n",
        "      pred_data = pred_data.reshape(len(X), -1)\n",
        "\n",
        "      for layer in range(len(self.NN)):\n",
        "        pred_data = self.NN[layer].forward(pred_data)\n",
        "\n",
        "      return np.argmax(pred_data, axis=1)\n",
        "\n",
        "  def fit(self, X, y, X_val=False, y_val=False):\n",
        "    \"\"\"\n",
        "    Train a neural network classifier.\n",
        "\n",
        "    Parameters\n",
        "    ==========\n",
        "    X: ndarray of the following form, shape (n_samples, n_features)\n",
        "      Features of training data\n",
        "    y: ndarray of the following form, shape (n_samples, )\n",
        "      Correct answer value of training data\n",
        "    X_val: ndarray of the following form, shape (n_samples, n_features)\n",
        "      Features of validation data\n",
        "    y_val: ndarray of the following form, shape (n_samples, )\n",
        "      Correct value of validation data\n",
        "    \"\"\"\n",
        "    for epoch in range(self.n_epoch):\n",
        "      # Mini-batch processing \n",
        "      get_mini_batch = GetMiniBatch(X, y, batch_size=self.n_batch)\n",
        "\n",
        "      self.loss = 0\n",
        "      for mini_X_train, mini_y_train in get_mini_batch:\n",
        "\n",
        "        # Forward propagation\n",
        "        forward_data = mini_X_train.reshape(self.n_batch,1,-1)\n",
        "\n",
        "        # Conv\n",
        "        for layer in range(len(self.CNN)):\n",
        "          forward_data = self.CNN[layer].forward(forward_data)\n",
        "\n",
        "        record_shape = forward_data.shape\n",
        "        forward_data = forward_data.reshape(self.n_batch, -1)\n",
        "\n",
        "        for layer in range(len(self.NN)):\n",
        "          forward_data = self.NN[layer].forward(forward_data)\n",
        "\n",
        "        # Predicted value\n",
        "        Z = forward_data\n",
        "\n",
        "        # Back propagation\n",
        "        backward_data = (Z - mini_y_train)/self.n_batch\n",
        "        for layer in range(len(self.NN)-1,-1,-1):\n",
        "          backward_data = self.NN[layer].backward(backward_data)\n",
        "        \n",
        "        backward_data = backward_data.reshape(record_shape)\n",
        "\n",
        "        for layer in range(len(self.CNN)-1,-1,-1):\n",
        "          backward_data = self.CNN[layer].backward(backward_data)\n",
        "        \n",
        "        # Loss function\n",
        "        self.loss += self.loss_function(Z, mini_y_train)\n",
        "\n",
        "      self.log_loss[epoch] = self.loss/len(get_mini_batch)\n",
        "      self.log_acc[epoch] = self.accuracy(self.predict(X), np.argmax(y, axis=1))"
      ],
      "execution_count": 12,
      "outputs": []
    },
    {
      "cell_type": "markdown",
      "metadata": {
        "id": "ZUaHjfEIHZrA"
      },
      "source": [
        "## [Problem 2] Output size calculation after one-dimensional convolution\n",
        "\n",
        "When the convolution is performed, the number of features will change. How it changes can be calculated from the following formula. It also includes padding and stride. Create a function to do this calculation.\n",
        "\n",
        "$N_{o u t}=\\frac{N_{i n}+2 P-F}{S}+1$\n",
        "\n",
        "$N_{out}$: Output size (number of features)\n",
        "\n",
        "$N_{in}$: Input size (number of features)\n",
        "\n",
        "$P$: Number of paddings in one direction\n",
        "\n",
        "$F$: Filter size\n",
        "\n",
        "$S$: Stride size"
      ]
    },
    {
      "cell_type": "code",
      "metadata": {
        "id": "2KNiK4wa9HMo"
      },
      "source": [
        "def output_shape(X_features, filter_size, padding_size=0, stride_size=1):\n",
        "  return int((X_features + 2*padding_size - filter_size)/stride_size + 1)"
      ],
      "execution_count": 13,
      "outputs": []
    },
    {
      "cell_type": "code",
      "metadata": {
        "colab": {
          "base_uri": "https://localhost:8080/"
        },
        "id": "IIaYhFouIGwx",
        "outputId": "3e493cbb-4a0f-4db4-970c-15d2521f4abf"
      },
      "source": [
        "output_shape(4,3,0,1)"
      ],
      "execution_count": 14,
      "outputs": [
        {
          "output_type": "execute_result",
          "data": {
            "text/plain": [
              "2"
            ]
          },
          "metadata": {},
          "execution_count": 14
        }
      ]
    },
    {
      "cell_type": "markdown",
      "metadata": {
        "id": "tdy089wUKVVB"
      },
      "source": [
        "## [Problem 3] Experiment of one-dimensional convolutional layer with small array\n",
        "\n",
        "Check if forward propagation and back propagation are performed correctly with the small sequence shown below.\n",
        "\n",
        "Input x, weight w, and bias b are"
      ]
    },
    {
      "cell_type": "code",
      "metadata": {
        "id": "nq7u1fPSIQfI"
      },
      "source": [
        "# Input\n",
        "x = np.array([1,2,3,4])\n",
        "w = np.array([3, 5, 7])\n",
        "b = np.array([1])\n",
        "\n",
        "# Error\n",
        "delta_a = np.array([10,20])"
      ],
      "execution_count": 15,
      "outputs": []
    },
    {
      "cell_type": "code",
      "metadata": {
        "colab": {
          "base_uri": "https://localhost:8080/"
        },
        "id": "gQoCPhzNSLz2",
        "outputId": "357db18b-7f49-4027-d242-6437e07747ee"
      },
      "source": [
        "# Forward\n",
        "a = np.zeros(output_shape(4,3,0,1))\n",
        "for i in range(len(a)):\n",
        "  x_tmp = x[i:i+len(w)]\n",
        "  a[i] = np.sum(x_tmp*w)+b\n",
        "print(a)"
      ],
      "execution_count": 16,
      "outputs": [
        {
          "output_type": "stream",
          "name": "stdout",
          "text": [
            "[35. 50.]\n"
          ]
        }
      ]
    },
    {
      "cell_type": "code",
      "metadata": {
        "colab": {
          "base_uri": "https://localhost:8080/"
        },
        "id": "ksmFkP5K6MKb",
        "outputId": "cb1e1d1d-9d12-4f45-e8f1-a069ab801e27"
      },
      "source": [
        "# Backward bias\n",
        "delta_b = np.sum(delta_a)\n",
        "print(delta_b)"
      ],
      "execution_count": 17,
      "outputs": [
        {
          "output_type": "stream",
          "name": "stdout",
          "text": [
            "30\n"
          ]
        }
      ]
    },
    {
      "cell_type": "code",
      "metadata": {
        "colab": {
          "base_uri": "https://localhost:8080/"
        },
        "id": "AgCtIej-6Sff",
        "outputId": "e494f29d-42a1-4177-975e-48b453e76f86"
      },
      "source": [
        "# Backward filter\n",
        "delta_w = np.zeros(len(w))\n",
        "for i in range(len(w)):\n",
        "  x_tmp = x[i:i+len(delta_a)]\n",
        "  delta_w[i] = np.sum(x_tmp*delta_a)\n",
        "print(delta_w)"
      ],
      "execution_count": 18,
      "outputs": [
        {
          "output_type": "stream",
          "name": "stdout",
          "text": [
            "[ 50.  80. 110.]\n"
          ]
        }
      ]
    },
    {
      "cell_type": "code",
      "metadata": {
        "colab": {
          "base_uri": "https://localhost:8080/"
        },
        "id": "ZDE5cNoC7AV3",
        "outputId": "09f25b91-ef96-4012-a44c-032bcde9a157"
      },
      "source": [
        "# Backward Error to convey to next layer\n",
        "delta_x = np.zeros(len(x))\n",
        "for i in range(len(x)):\n",
        "  zero = np.zeros(len(delta_a)-1)\n",
        "  w_padded = np.concatenate([zero,w,zero],axis=0)\n",
        "  w_tmp = w_padded[i:i+len(delta_a)]\n",
        "  # print(w_tmp)\n",
        "  delta_x[i] = np.sum(w_tmp*delta_a[::-1])\n",
        "print(delta_x)"
      ],
      "execution_count": 19,
      "outputs": [
        {
          "output_type": "stream",
          "name": "stdout",
          "text": [
            "[ 30. 110. 170. 140.]\n"
          ]
        }
      ]
    },
    {
      "cell_type": "markdown",
      "metadata": {
        "id": "AyAwjFws-kmE"
      },
      "source": [
        "## Implementation tips\n",
        "When implementing convolution, you can first stack for statements. However, in order to make the calculation as efficient as possible, we will consider a method to calculate the following formulas at once.\n",
        "\n",
        "$a_{i}=\\sum_{s=0}^{F-1} x_{(i+s)} w_{s}+b$\n",
        "\n",
        "Since the bias term is a simple addition, we will look at the weight part.\n",
        "\n",
        "$\\sum_{s=0}^{F-1} x_{(i+s)} w_{s}$\n",
        "\n",
        "This is the dot product of an array of w and an array from which a portion of x is taken. Considering the specific situation, we can calculate it with the following code. In this example, to make the flow easier to understand, the Adamant product is calculated between each element, and then the sum is calculated. This is consequently similar to the dot product.\n",
        "\n",
        "ndarray is a method that utilizes the fact that you can specify the index using an array.\n",
        "\n",
        "If you use a two-dimensional array, you can extract a two-dimensional array from a one-dimensional array.\n",
        "\n",
        "By combining this with broadcasting etc., it is possible to calculate all at once.\n",
        "\n",
        "There is no right answer to the calculation method of convolution, so please make it more efficient in your own way.\n",
        "\n",
        "《Reference》\n",
        "\n",
        "The Integer array indexing part of the following page describes this method.\n",
        "\n",
        "Indexing — NumPy v1.17 Manual"
      ]
    },
    {
      "cell_type": "code",
      "metadata": {
        "colab": {
          "base_uri": "https://localhost:8080/"
        },
        "id": "nUGGW3k9-btq",
        "outputId": "3420bac1-9809-43ca-cb13-f05183f9a270"
      },
      "source": [
        "x = np.array([1, 2, 3, 4])\n",
        "w = np.array([3, 5, 7])\n",
        "a = np.empty((2, 3))\n",
        "indexes0 = np.array([0, 1, 2]).astype(np.int)\n",
        "indexes1 = np.array([1, 2, 3]).astype(np.int)\n",
        "a[0] = x[indexes0]*w # x [indexes0] is ([1, 2, 3])\n",
        "print(a[0])\n",
        "a[1] = x[indexes1]*w # x[indexes1] is ([2, 3, 4])\n",
        "print(a[1])\n",
        "a = a.sum(axis=1)\n",
        "print(a)"
      ],
      "execution_count": 20,
      "outputs": [
        {
          "output_type": "stream",
          "name": "stdout",
          "text": [
            "[ 3. 10. 21.]\n",
            "[ 6. 15. 28.]\n",
            "[34. 49.]\n"
          ]
        }
      ]
    },
    {
      "cell_type": "markdown",
      "metadata": {
        "id": "YFrj3YSzA6Zz"
      },
      "source": [
        "## [Problem 4] Creating a one-dimensional convolutional layer class that does not limit the number of channels\n",
        "\n",
        "Create 1-dimensional convolutional layer class Conv1d that does not limit the number of channels to 1.\n",
        "\n",
        "For example, if you have the following x, w, b,"
      ]
    },
    {
      "cell_type": "code",
      "metadata": {
        "colab": {
          "base_uri": "https://localhost:8080/"
        },
        "id": "4xHyIk4WA10x",
        "outputId": "ea1629a3-6425-41c2-879d-6dc5944b2bf0"
      },
      "source": [
        "x = np.array([[1, 2, 3, 4], [2, 3, 4, 5]]) #shape (2, 4), (number of input channels, number of features).\n",
        "w = np.array([[[1, 1, 2],\n",
        "               [2, 1, 1]],\n",
        "              [[2, 1, 1],\n",
        "               [1, 1, 1]],\n",
        "              [[1, 1, 1],\n",
        "               [1, 1, 1]],]) # Set to 1 for simplification of the example. (Number of output channels, number of input channels, filter size).\n",
        "b = np.array([1, 2, 3]) # (Number of output channels)\n",
        "print(\"x.shape\",x.shape)\n",
        "print(\"w.shape\",w.shape)\n",
        "print(\"b.shape\",b.shape)"
      ],
      "execution_count": 21,
      "outputs": [
        {
          "output_type": "stream",
          "name": "stdout",
          "text": [
            "x.shape (2, 4)\n",
            "w.shape (3, 2, 3)\n",
            "b.shape (3,)\n"
          ]
        }
      ]
    },
    {
      "cell_type": "code",
      "metadata": {
        "colab": {
          "base_uri": "https://localhost:8080/"
        },
        "id": "-DHsAQ6-BLnV",
        "outputId": "0b1c6907-e749-4f69-d098-3807f76c7fc3"
      },
      "source": [
        "# Forward\n",
        "a = np.zeros([3,output_shape(4,3,0,1)])\n",
        "\n",
        "for och in range(w.shape[0]):\n",
        "  for ch in range(w.shape[1]):\n",
        "    for m in range(a.shape[1]):\n",
        "      a[och,m] += np.sum(x[ch,m:m+w.shape[2]]*w[och,ch,:])\n",
        "a += b[:,None]\n",
        "print(a)"
      ],
      "execution_count": 22,
      "outputs": [
        {
          "output_type": "stream",
          "name": "stdout",
          "text": [
            "[[21. 29.]\n",
            " [18. 25.]\n",
            " [18. 24.]]\n"
          ]
        }
      ]
    },
    {
      "cell_type": "code",
      "metadata": {
        "colab": {
          "base_uri": "https://localhost:8080/"
        },
        "id": "Q63Xdq0nBjdM",
        "outputId": "c72cc2f6-4900-4856-e35d-a0a289ee6e09"
      },
      "source": [
        "# Backward\n",
        "delta_a = np.array([[9,11],\n",
        "                    [32,35],\n",
        "                    [52,56]])\n",
        "print('delta_a:\\n',delta_a)\n",
        "print('delta_a.shape:\\n',delta_a.shape)"
      ],
      "execution_count": 23,
      "outputs": [
        {
          "output_type": "stream",
          "name": "stdout",
          "text": [
            "delta_a:\n",
            " [[ 9 11]\n",
            " [32 35]\n",
            " [52 56]]\n",
            "delta_a.shape:\n",
            " (3, 2)\n"
          ]
        }
      ]
    },
    {
      "cell_type": "code",
      "metadata": {
        "colab": {
          "base_uri": "https://localhost:8080/"
        },
        "id": "vsfEuNstD0Ue",
        "outputId": "536f7691-2f36-45ae-c54f-30775396094b"
      },
      "source": [
        "# Backward bias\n",
        "delta_b = np.sum(delta_a,axis=1)\n",
        "print(\"delta_b:\\n\",delta_b)"
      ],
      "execution_count": 24,
      "outputs": [
        {
          "output_type": "stream",
          "name": "stdout",
          "text": [
            "delta_b:\n",
            " [ 20  67 108]\n"
          ]
        }
      ]
    },
    {
      "cell_type": "code",
      "metadata": {
        "colab": {
          "base_uri": "https://localhost:8080/"
        },
        "id": "p-XQwmMKEBWn",
        "outputId": "d98839e5-3f52-4767-8341-e7d449ee84e2"
      },
      "source": [
        "# Backward filter\n",
        "delta_w = np.zeros([3,2,3])\n",
        "\n",
        "for och in range(w.shape[0]):\n",
        "  for ich in range(w.shape[1]):\n",
        "    for fs in range(w.shape[2]):\n",
        "      for m in range(2):\n",
        "        #print(x[ich,fs+m])\n",
        "        #print(delta_a[och,m])\n",
        "        #print(x[ich,fs+m]*delta_a[och,m])\n",
        "        delta_w[och,ich,fs] += (x[ich,fs+m]*delta_a[och,m])\n",
        "print('delta_w:\\n',delta_w)"
      ],
      "execution_count": 25,
      "outputs": [
        {
          "output_type": "stream",
          "name": "stdout",
          "text": [
            "delta_w:\n",
            " [[[ 31.  51.  71.]\n",
            "  [ 51.  71.  91.]]\n",
            "\n",
            " [[102. 169. 236.]\n",
            "  [169. 236. 303.]]\n",
            "\n",
            " [[164. 272. 380.]\n",
            "  [272. 380. 488.]]]\n"
          ]
        }
      ]
    },
    {
      "cell_type": "code",
      "metadata": {
        "colab": {
          "base_uri": "https://localhost:8080/"
        },
        "id": "10S0BoT5EwDx",
        "outputId": "ec334ba1-b5e6-406f-f6a3-7cdcd8ab314f"
      },
      "source": [
        "# Backward Error to convey to next layer\n",
        "delta_x = np.zeros([2,4])\n",
        "\n",
        "for och in range(w.shape[0]):\n",
        "  for ich in range(w.shape[1]):\n",
        "    for fs in range(w.shape[2]):\n",
        "      for m in range(2):\n",
        "        #print(w[och,ich,fs])\n",
        "        #print(delta_a[och,m])\n",
        "        #print(w[och,ich,fs]*delta_a[och,m])\n",
        "        delta_x[ich,fs+m] += w[och,ich,fs]*delta_a[och,m]\n",
        "print('delta_x:\\n',delta_x)"
      ],
      "execution_count": 26,
      "outputs": [
        {
          "output_type": "stream",
          "name": "stdout",
          "text": [
            "delta_x:\n",
            " [[125. 230. 204. 113.]\n",
            " [102. 206. 195. 102.]]\n"
          ]
        }
      ]
    },
    {
      "cell_type": "markdown",
      "metadata": {
        "id": "_vmAlbtoFhLj"
      },
      "source": [
        "This is an example with 2 input channels and 3 output channels. After writing the calculation graph, consider backpropagation by hand. Since only sums and products appear in the calculation graph, there is no need to consider the derivative anew.\n",
        "\n",
        "<< Supplement >>\n",
        "\n",
        "When adding the number of channels, there is the question of how to arrange the arrays. The most common order is (Batch size, number of channels, number of features)or (Batch size, number of features, number of channels), but the order is different depending on the library. (Some can be switched and used)\n",
        "\n",
        "For this scratch, please choose which one is more efficient for your own implementation. In the above example we have not considered the batch size, it is (Number of channels, number of features).\n",
        "\n",
        "## [Problem 5] (Advanced task) Implementing padding\n",
        "\n",
        "Add padding functionality to the convolutional layer. In the case of a one-dimensional array, make sure that n features can be increased before and after.\n",
        "\n",
        "The simplest padding is zero padding, which is all zeros, which is common on CNNs. Another method is to repeat the end value.\n",
        "\n",
        "Some frameworks can be specified to keep the size of the original input. It is convenient to have this function as well. There is a padding function in NumPy.\n",
        "\n",
        "numpy.pad — NumPy v1.17 Manual\n",
        "\n",
        "## [Problem 6] (Advanced task) Response to mini batch\n",
        "\n",
        "So far, we have assumed that a batch size of 1 is sufficient for the task. However, in reality, mini-batch learning is performed as in the fully connected layer. Change the Conv1d class so that multiple data can be calculated at the same time.\n"
      ]
    },
    {
      "cell_type": "code",
      "metadata": {
        "colab": {
          "base_uri": "https://localhost:8080/"
        },
        "id": "z6JzyWlLFV4-",
        "outputId": "2072b4b9-cecd-44c4-f446-59141d360521"
      },
      "source": [
        "x = np.array([[1, 2, 3, 4], [2, 3, 4, 5]]*2).reshape(2,2,4)\n",
        "w = np.array([[[1, 1, 2],\n",
        "               [2, 1, 1]],\n",
        "              [[2, 1, 1],\n",
        "               [1, 1, 1]],\n",
        "              [[1, 1, 1],\n",
        "               [1, 1, 1]],]) \n",
        "b = np.array([1, 2, 3]) # (Number of output channels)\n",
        "print(\"x.shape\",x.shape)\n",
        "print(\"w.shape\",w.shape)\n",
        "print(\"b.shape\",b.shape)"
      ],
      "execution_count": 27,
      "outputs": [
        {
          "output_type": "stream",
          "name": "stdout",
          "text": [
            "x.shape (2, 2, 4)\n",
            "w.shape (3, 2, 3)\n",
            "b.shape (3,)\n"
          ]
        }
      ]
    },
    {
      "cell_type": "code",
      "metadata": {
        "colab": {
          "base_uri": "https://localhost:8080/"
        },
        "id": "U_VExU3FF9gE",
        "outputId": "c07e67fd-f5f1-42bd-ad7e-d1baab8470d1"
      },
      "source": [
        "# Backward\n",
        "delta_a = np.array([[9,11],\n",
        "                    [32,35],\n",
        "                    [52,56]]*2).reshape(2,3,2)\n",
        "print('delta_a:\\n',delta_a)\n",
        "print('delta_a.shape:\\n',delta_a.shape)"
      ],
      "execution_count": 28,
      "outputs": [
        {
          "output_type": "stream",
          "name": "stdout",
          "text": [
            "delta_a:\n",
            " [[[ 9 11]\n",
            "  [32 35]\n",
            "  [52 56]]\n",
            "\n",
            " [[ 9 11]\n",
            "  [32 35]\n",
            "  [52 56]]]\n",
            "delta_a.shape:\n",
            " (2, 3, 2)\n"
          ]
        }
      ]
    },
    {
      "cell_type": "code",
      "metadata": {
        "id": "FkZ006RwGQBu"
      },
      "source": [
        "# Size\n",
        "N,INC,Feature = x.shape\n",
        "OCH,INC,FS = w.shape\n",
        "A = output_shape(Feature,FS,0,1)"
      ],
      "execution_count": 29,
      "outputs": []
    },
    {
      "cell_type": "code",
      "metadata": {
        "colab": {
          "base_uri": "https://localhost:8080/"
        },
        "id": "_kDVmoeDGcky",
        "outputId": "54fd62c4-703a-4679-c530-8eb12e9f53a1"
      },
      "source": [
        "# Forward\n",
        "a = np.zeros([N,OCH,A])\n",
        "\n",
        "for n in range(N):\n",
        "  for och in range(OCH):\n",
        "    for ich in range(INC):\n",
        "      for m in range(A):\n",
        "        a[n,och,m] += np.sum(x[n,ich,m:m+FS]*w[och,ich,:])\n",
        "a += b[:,None]\n",
        "print(a.shape)\n",
        "print(a)"
      ],
      "execution_count": 30,
      "outputs": [
        {
          "output_type": "stream",
          "name": "stdout",
          "text": [
            "(2, 3, 2)\n",
            "[[[21. 29.]\n",
            "  [18. 25.]\n",
            "  [18. 24.]]\n",
            "\n",
            " [[21. 29.]\n",
            "  [18. 25.]\n",
            "  [18. 24.]]]\n"
          ]
        }
      ]
    },
    {
      "cell_type": "code",
      "metadata": {
        "colab": {
          "base_uri": "https://localhost:8080/"
        },
        "id": "AMPiegenG3ui",
        "outputId": "3e2c1da1-184c-47e1-ae10-a747d3d25260"
      },
      "source": [
        "# Backward bias\n",
        "delta_b = np.mean(np.sum(delta_a,axis=2),axis=0)\n",
        "print('delta_b\\n',delta_b)"
      ],
      "execution_count": 31,
      "outputs": [
        {
          "output_type": "stream",
          "name": "stdout",
          "text": [
            "delta_b\n",
            " [ 20.  67. 108.]\n"
          ]
        }
      ]
    },
    {
      "cell_type": "code",
      "metadata": {
        "colab": {
          "base_uri": "https://localhost:8080/"
        },
        "id": "5inl5XDlHR2L",
        "outputId": "d028e4f0-5aa0-4952-a4ca-48e18d2dcb92"
      },
      "source": [
        "# Backward filter\n",
        "delta_w = np.zeros([3,2,3])\n",
        "\n",
        "for n in range(N):\n",
        "  for och in range(OCH):\n",
        "    for ich in range(INC):\n",
        "      for fs in range(FS):\n",
        "        for m in range(A):\n",
        "          delta_w[och,ich,fs] += x[n,ich,fs+m]*delta_a[n,och,m]\n",
        "print('delta_w:\\n',delta_w)"
      ],
      "execution_count": 32,
      "outputs": [
        {
          "output_type": "stream",
          "name": "stdout",
          "text": [
            "delta_w:\n",
            " [[[ 62. 102. 142.]\n",
            "  [102. 142. 182.]]\n",
            "\n",
            " [[204. 338. 472.]\n",
            "  [338. 472. 606.]]\n",
            "\n",
            " [[328. 544. 760.]\n",
            "  [544. 760. 976.]]]\n"
          ]
        }
      ]
    },
    {
      "cell_type": "code",
      "metadata": {
        "colab": {
          "base_uri": "https://localhost:8080/"
        },
        "id": "GXZVNwAuJ0_p",
        "outputId": "01aba231-a50c-4d83-dbae-296a5d442677"
      },
      "source": [
        "# Backward Error to convey to next layer\n",
        "delta_x = np.zeros(x.shape)\n",
        "\n",
        "for n in range(N):\n",
        "  for och in range(OCH):\n",
        "    for ich in range(INC):\n",
        "      for fs in range(FS):\n",
        "        for m in range(A):\n",
        "          delta_x[n,ich,fs+m] += w[och,ich,fs]*delta_a[n,och,m]\n",
        "print('delta_x:\\n',delta_x)"
      ],
      "execution_count": 33,
      "outputs": [
        {
          "output_type": "stream",
          "name": "stdout",
          "text": [
            "delta_x:\n",
            " [[[125. 230. 204. 113.]\n",
            "  [102. 206. 195. 102.]]\n",
            "\n",
            " [[125. 230. 204. 113.]\n",
            "  [102. 206. 195. 102.]]]\n"
          ]
        }
      ]
    },
    {
      "cell_type": "markdown",
      "metadata": {
        "id": "-CQaI3Y9KzBA"
      },
      "source": [
        "## [Problem 7] (Advance assignment) Arbitrary number of strides\n",
        "\n",
        "We have implemented only one stride, but please make sure to support any number of strides.\n",
        "\n",
        "## [Problem 8] Learning and estimation\n",
        "\n",
        "Replace Conv1d in part of the fully connected layer of the neural network you have used so far, learn and estimate MNIST, and calculate Accuracy.\n",
        "\n",
        "Use the fully connected layer as is for the output layer. However, when there are multiple channels, input to the fully coupled layer cannot be performed. At that stage, the channel should be set to 1, or smoothing should be performed.​ ​​ ​\n",
        "\n",
        "The accuracy does not matter because one-dimensional convolution of the image is not performed in practice."
      ]
    },
    {
      "cell_type": "code",
      "metadata": {
        "id": "OgbSQhc0KgIC"
      },
      "source": [
        "# Download the MNIST dataset\n",
        "from keras.datasets import mnist\n",
        "(X,y), (X_test,y_test) = mnist.load_data()"
      ],
      "execution_count": 34,
      "outputs": []
    },
    {
      "cell_type": "code",
      "metadata": {
        "colab": {
          "base_uri": "https://localhost:8080/"
        },
        "id": "boiWghsTLPkU",
        "outputId": "c45a3115-7f25-40b4-904a-8288ed057e45"
      },
      "source": [
        "# Check the data\n",
        "print(X.shape) #(60000, 28, 28)\n",
        "print(X_test.shape) #(10000, 28, 28)\n",
        "print(X[0].dtype) #uint8"
      ],
      "execution_count": 35,
      "outputs": [
        {
          "output_type": "stream",
          "name": "stdout",
          "text": [
            "(60000, 28, 28)\n",
            "(10000, 28, 28)\n",
            "uint8\n"
          ]
        }
      ]
    },
    {
      "cell_type": "code",
      "metadata": {
        "colab": {
          "base_uri": "https://localhost:8080/"
        },
        "id": "m_rAZ_fNLefX",
        "outputId": "52731f03-4a44-4c4d-ba03-086ecd29dc13"
      },
      "source": [
        "# Smoothing\n",
        "X_flat = X.reshape(-1,784)\n",
        "X_test_flat = X_test.reshape(-1,784)\n",
        "print(X_flat.shape)\n",
        "print(X_test_flat.shape)"
      ],
      "execution_count": 36,
      "outputs": [
        {
          "output_type": "stream",
          "name": "stdout",
          "text": [
            "(60000, 784)\n",
            "(10000, 784)\n"
          ]
        }
      ]
    },
    {
      "cell_type": "code",
      "metadata": {
        "colab": {
          "base_uri": "https://localhost:8080/"
        },
        "id": "H_GvyhM_Lv8d",
        "outputId": "a5201b1d-4e6a-43ce-8172-59a26b25a9dd"
      },
      "source": [
        "# Type conversion, normalization\n",
        "X_flat = X_flat.astype(np.float)\n",
        "X_test_flat = X_test_flat.astype(np.float)\n",
        "X_flat /= 255\n",
        "X_test_flat /= 255\n",
        "print(X_flat.max()) # 1.0\n",
        "print(X_flat.min()) # 0.0"
      ],
      "execution_count": 37,
      "outputs": [
        {
          "output_type": "stream",
          "name": "stdout",
          "text": [
            "1.0\n",
            "0.0\n"
          ]
        }
      ]
    },
    {
      "cell_type": "code",
      "metadata": {
        "colab": {
          "base_uri": "https://localhost:8080/"
        },
        "id": "CxlJeam9MhNr",
        "outputId": "11c6e510-ee20-4d8e-97b5-b10e50ccf85a"
      },
      "source": [
        "# One-hot encoding of correct label value\n",
        "from sklearn.preprocessing import OneHotEncoder\n",
        "\n",
        "enc = OneHotEncoder(handle_unknown='ignore', sparse=False)\n",
        "y_one_hot = enc.fit_transform(y[:,np.newaxis])\n",
        "y_test_one_hot = enc.transform(y_test[:,np.newaxis])\n",
        "print(y.shape) #(60000,)\n",
        "print(y_one_hot.shape) #(60000, 10)\n",
        "print(y_one_hot.dtype) #float64"
      ],
      "execution_count": 38,
      "outputs": [
        {
          "output_type": "stream",
          "name": "stdout",
          "text": [
            "(60000,)\n",
            "(60000, 10)\n",
            "float64\n"
          ]
        }
      ]
    },
    {
      "cell_type": "code",
      "metadata": {
        "colab": {
          "base_uri": "https://localhost:8080/"
        },
        "id": "kua8D5-hNj6X",
        "outputId": "569c63d0-7ad7-4cd3-b992-15c34032d56f"
      },
      "source": [
        "# Split into training data and validation data\n",
        "from sklearn.model_selection import train_test_split\n",
        "\n",
        "X_train, X_valid, y_train, y_valid = train_test_split(X_flat, y_one_hot, test_size=0.2)\n",
        "print(X_train.shape)\n",
        "print(X_valid.shape)\n",
        "print(y_train.shape)\n",
        "print(y_valid.shape)"
      ],
      "execution_count": 39,
      "outputs": [
        {
          "output_type": "stream",
          "name": "stdout",
          "text": [
            "(48000, 784)\n",
            "(12000, 784)\n",
            "(48000, 10)\n",
            "(12000, 10)\n"
          ]
        }
      ]
    },
    {
      "cell_type": "markdown",
      "metadata": {
        "id": "u6fJ8vdlOUMk"
      },
      "source": [
        "### Learning and estimation"
      ]
    },
    {
      "cell_type": "code",
      "metadata": {
        "id": "aNtfebNSOM9b"
      },
      "source": [
        "NN = {0:FC(15640, 400, HeInitializer(), AdaGrad(0.01), ReLU()),\n",
        "      1:FC(400, 200, HeInitializer(), AdaGrad(0.01), ReLU()),\n",
        "      2:FC(200, 10, SimpleInitializer(0.01), AdaGrad(0.01), Softmax()),\n",
        "      }"
      ],
      "execution_count": 40,
      "outputs": []
    },
    {
      "cell_type": "code",
      "metadata": {
        "id": "M1bZJq4jPVLU"
      },
      "source": [
        "CNN = {0:SimpleConv1d(out_channel=20, in_channel=1, filter_size=3,\n",
        "                      padding_size=0, stride_size=1,\n",
        "                      initializer=SimpleInitializerConv1d(0.01),\n",
        "                      optimizer=SGD(0.01),\n",
        "                      activation=ReLU()),\n",
        "      }"
      ],
      "execution_count": 41,
      "outputs": []
    },
    {
      "cell_type": "code",
      "metadata": {
        "id": "QQQQapTcPa4y"
      },
      "source": [
        "cnn1 = Scratch1dCNNClacssifier(NN=NN,CNN=CNN,n_epoch=10,n_batch=100,verbose=True)\n",
        "\n",
        "cnn1.fit(X_train[0:1000], y_train[0:1000])\n",
        "y_pred = cnn1.predict(X_valid[0:500])"
      ],
      "execution_count": 42,
      "outputs": []
    },
    {
      "cell_type": "code",
      "metadata": {
        "colab": {
          "base_uri": "https://localhost:8080/"
        },
        "id": "zZnIUwtwP35I",
        "outputId": "c7276978-0457-4634-c86e-7d462b9d1858"
      },
      "source": [
        "# Positive solution rate\n",
        "accuracy = accuracy_score(np.argmax(y_valid[0:500],axis=1), y_pred)\n",
        "print('accuracy:{:.3f}'.format(accuracy))"
      ],
      "execution_count": 43,
      "outputs": [
        {
          "output_type": "stream",
          "name": "stdout",
          "text": [
            "accuracy:0.894\n"
          ]
        }
      ]
    },
    {
      "cell_type": "code",
      "metadata": {
        "colab": {
          "base_uri": "https://localhost:8080/",
          "height": 425
        },
        "id": "ffZHfZjwTGdp",
        "outputId": "eec51d36-f1d2-4b76-8821-ee5eef9d1ae8"
      },
      "source": [
        "# Visualize the loss function for each epoch\n",
        "plt.rcParams[\"font.size\"] = 20\n",
        "fig = plt.subplots(figsize=(16,6))\n",
        "plt.subplot(1,2,1)\n",
        "plt.title(\"LOSS\")\n",
        "plt.plot(cnn1.log_loss, 'bo--')\n",
        "\n",
        "plt.subplot(1,2,2)\n",
        "plt.title(\"ACC\")\n",
        "plt.plot(cnn1.log_acc, 'rs--')"
      ],
      "execution_count": 46,
      "outputs": [
        {
          "output_type": "execute_result",
          "data": {
            "text/plain": [
              "[<matplotlib.lines.Line2D at 0x7fda1e9cfad0>]"
            ]
          },
          "metadata": {},
          "execution_count": 46
        },
        {
          "output_type": "display_data",
          "data": {
            "image/png": "[encoded data removed]",
            "text/plain": [
              "<Figure size 1152x432 with 2 Axes>"
            ]
          },
          "metadata": {
            "needs_background": "light"
          }
        }
      ]
    }
  ]
}